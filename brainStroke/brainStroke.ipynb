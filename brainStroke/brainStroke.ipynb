{
 "cells": [
  {
   "cell_type": "code",
   "execution_count": 84,
   "id": "13e5aa1a-b4db-4cfa-be95-8c493ceaf7e7",
   "metadata": {},
   "outputs": [],
   "source": [
    "import pandas as pd\n",
    "import numpy as np\n",
    "import matplotlib.pyplot as plt\n",
    "import seaborn as sns\n",
    "import plotly.express as px\n",
    "import plotly.subplots as sp\n",
    "import plotly.graph_objects as go\n",
    "\n",
    "from sklearn.preprocessing import OneHotEncoder, OrdinalEncoder\n",
    "# using OneHotEncoder too handle categorical values in the data (categorical to numerical value transformations)\n",
    "\n",
    "from sklearn.pipeline import Pipeline\n",
    "from sklearn.compose import ColumnTransformer\n",
    "from sklearn import set_config\n",
    "from sklearn.model_selection import train_test_split\n",
    "\n",
    "# For baseline model\n",
    "from sklearn.linear_model import LogisticRegression\n",
    "from sklearn.tree import DecisionTreeClassifier\n",
    "from sklearn.ensemble import RandomForestClassifier\n",
    "from xgboost import XGBClassifier\n",
    "from lightgbm import LGBMClassifier\n",
    "from imblearn.over_sampling import SMOTE\n",
    "from sklearn.metrics import confusion_matrix, accuracy_score, precision_score, recall_score, f1_score\n",
    "\n",
    "# for voting classifier\n",
    "from sklearn.ensemble import VotingClassifier\n",
    "\n",
    "# to save the model\n",
    "import joblib\n",
    "\n",
    "dataframe = pd.read_csv(\"brainStroke_data.csv\")"
   ]
  },
  {
   "cell_type": "code",
   "execution_count": 2,
   "id": "2c36d5d2-eb26-4729-9ddd-a1bf43eac3ca",
   "metadata": {},
   "outputs": [
    {
     "data": {
      "text/html": [
       "<div>\n",
       "<style scoped>\n",
       "    .dataframe tbody tr th:only-of-type {\n",
       "        vertical-align: middle;\n",
       "    }\n",
       "\n",
       "    .dataframe tbody tr th {\n",
       "        vertical-align: top;\n",
       "    }\n",
       "\n",
       "    .dataframe thead th {\n",
       "        text-align: right;\n",
       "    }\n",
       "</style>\n",
       "<table border=\"1\" class=\"dataframe\">\n",
       "  <thead>\n",
       "    <tr style=\"text-align: right;\">\n",
       "      <th></th>\n",
       "      <th>gender</th>\n",
       "      <th>age</th>\n",
       "      <th>hypertension</th>\n",
       "      <th>heart_disease</th>\n",
       "      <th>ever_married</th>\n",
       "      <th>work_type</th>\n",
       "      <th>Residence_type</th>\n",
       "      <th>avg_glucose_level</th>\n",
       "      <th>bmi</th>\n",
       "      <th>smoking_status</th>\n",
       "      <th>stroke</th>\n",
       "    </tr>\n",
       "  </thead>\n",
       "  <tbody>\n",
       "    <tr>\n",
       "      <th>0</th>\n",
       "      <td>Male</td>\n",
       "      <td>67.0</td>\n",
       "      <td>0</td>\n",
       "      <td>1</td>\n",
       "      <td>Yes</td>\n",
       "      <td>Private</td>\n",
       "      <td>Urban</td>\n",
       "      <td>228.69</td>\n",
       "      <td>36.6</td>\n",
       "      <td>formerly smoked</td>\n",
       "      <td>1</td>\n",
       "    </tr>\n",
       "    <tr>\n",
       "      <th>1</th>\n",
       "      <td>Male</td>\n",
       "      <td>80.0</td>\n",
       "      <td>0</td>\n",
       "      <td>1</td>\n",
       "      <td>Yes</td>\n",
       "      <td>Private</td>\n",
       "      <td>Rural</td>\n",
       "      <td>105.92</td>\n",
       "      <td>32.5</td>\n",
       "      <td>never smoked</td>\n",
       "      <td>1</td>\n",
       "    </tr>\n",
       "    <tr>\n",
       "      <th>2</th>\n",
       "      <td>Female</td>\n",
       "      <td>49.0</td>\n",
       "      <td>0</td>\n",
       "      <td>0</td>\n",
       "      <td>Yes</td>\n",
       "      <td>Private</td>\n",
       "      <td>Urban</td>\n",
       "      <td>171.23</td>\n",
       "      <td>34.4</td>\n",
       "      <td>smokes</td>\n",
       "      <td>1</td>\n",
       "    </tr>\n",
       "    <tr>\n",
       "      <th>3</th>\n",
       "      <td>Female</td>\n",
       "      <td>79.0</td>\n",
       "      <td>1</td>\n",
       "      <td>0</td>\n",
       "      <td>Yes</td>\n",
       "      <td>Self-employed</td>\n",
       "      <td>Rural</td>\n",
       "      <td>174.12</td>\n",
       "      <td>24.0</td>\n",
       "      <td>never smoked</td>\n",
       "      <td>1</td>\n",
       "    </tr>\n",
       "    <tr>\n",
       "      <th>4</th>\n",
       "      <td>Male</td>\n",
       "      <td>81.0</td>\n",
       "      <td>0</td>\n",
       "      <td>0</td>\n",
       "      <td>Yes</td>\n",
       "      <td>Private</td>\n",
       "      <td>Urban</td>\n",
       "      <td>186.21</td>\n",
       "      <td>29.0</td>\n",
       "      <td>formerly smoked</td>\n",
       "      <td>1</td>\n",
       "    </tr>\n",
       "    <tr>\n",
       "      <th>...</th>\n",
       "      <td>...</td>\n",
       "      <td>...</td>\n",
       "      <td>...</td>\n",
       "      <td>...</td>\n",
       "      <td>...</td>\n",
       "      <td>...</td>\n",
       "      <td>...</td>\n",
       "      <td>...</td>\n",
       "      <td>...</td>\n",
       "      <td>...</td>\n",
       "      <td>...</td>\n",
       "    </tr>\n",
       "    <tr>\n",
       "      <th>4976</th>\n",
       "      <td>Male</td>\n",
       "      <td>41.0</td>\n",
       "      <td>0</td>\n",
       "      <td>0</td>\n",
       "      <td>No</td>\n",
       "      <td>Private</td>\n",
       "      <td>Rural</td>\n",
       "      <td>70.15</td>\n",
       "      <td>29.8</td>\n",
       "      <td>formerly smoked</td>\n",
       "      <td>0</td>\n",
       "    </tr>\n",
       "    <tr>\n",
       "      <th>4977</th>\n",
       "      <td>Male</td>\n",
       "      <td>40.0</td>\n",
       "      <td>0</td>\n",
       "      <td>0</td>\n",
       "      <td>Yes</td>\n",
       "      <td>Private</td>\n",
       "      <td>Urban</td>\n",
       "      <td>191.15</td>\n",
       "      <td>31.1</td>\n",
       "      <td>smokes</td>\n",
       "      <td>0</td>\n",
       "    </tr>\n",
       "    <tr>\n",
       "      <th>4978</th>\n",
       "      <td>Female</td>\n",
       "      <td>45.0</td>\n",
       "      <td>1</td>\n",
       "      <td>0</td>\n",
       "      <td>Yes</td>\n",
       "      <td>Govt_job</td>\n",
       "      <td>Rural</td>\n",
       "      <td>95.02</td>\n",
       "      <td>31.8</td>\n",
       "      <td>smokes</td>\n",
       "      <td>0</td>\n",
       "    </tr>\n",
       "    <tr>\n",
       "      <th>4979</th>\n",
       "      <td>Male</td>\n",
       "      <td>40.0</td>\n",
       "      <td>0</td>\n",
       "      <td>0</td>\n",
       "      <td>Yes</td>\n",
       "      <td>Private</td>\n",
       "      <td>Rural</td>\n",
       "      <td>83.94</td>\n",
       "      <td>30.0</td>\n",
       "      <td>smokes</td>\n",
       "      <td>0</td>\n",
       "    </tr>\n",
       "    <tr>\n",
       "      <th>4980</th>\n",
       "      <td>Female</td>\n",
       "      <td>80.0</td>\n",
       "      <td>1</td>\n",
       "      <td>0</td>\n",
       "      <td>Yes</td>\n",
       "      <td>Private</td>\n",
       "      <td>Urban</td>\n",
       "      <td>83.75</td>\n",
       "      <td>29.1</td>\n",
       "      <td>never smoked</td>\n",
       "      <td>0</td>\n",
       "    </tr>\n",
       "  </tbody>\n",
       "</table>\n",
       "<p>4981 rows × 11 columns</p>\n",
       "</div>"
      ],
      "text/plain": [
       "      gender   age  hypertension  heart_disease ever_married      work_type  \\\n",
       "0       Male  67.0             0              1          Yes        Private   \n",
       "1       Male  80.0             0              1          Yes        Private   \n",
       "2     Female  49.0             0              0          Yes        Private   \n",
       "3     Female  79.0             1              0          Yes  Self-employed   \n",
       "4       Male  81.0             0              0          Yes        Private   \n",
       "...      ...   ...           ...            ...          ...            ...   \n",
       "4976    Male  41.0             0              0           No        Private   \n",
       "4977    Male  40.0             0              0          Yes        Private   \n",
       "4978  Female  45.0             1              0          Yes       Govt_job   \n",
       "4979    Male  40.0             0              0          Yes        Private   \n",
       "4980  Female  80.0             1              0          Yes        Private   \n",
       "\n",
       "     Residence_type  avg_glucose_level   bmi   smoking_status  stroke  \n",
       "0             Urban             228.69  36.6  formerly smoked       1  \n",
       "1             Rural             105.92  32.5     never smoked       1  \n",
       "2             Urban             171.23  34.4           smokes       1  \n",
       "3             Rural             174.12  24.0     never smoked       1  \n",
       "4             Urban             186.21  29.0  formerly smoked       1  \n",
       "...             ...                ...   ...              ...     ...  \n",
       "4976          Rural              70.15  29.8  formerly smoked       0  \n",
       "4977          Urban             191.15  31.1           smokes       0  \n",
       "4978          Rural              95.02  31.8           smokes       0  \n",
       "4979          Rural              83.94  30.0           smokes       0  \n",
       "4980          Urban              83.75  29.1     never smoked       0  \n",
       "\n",
       "[4981 rows x 11 columns]"
      ]
     },
     "execution_count": 2,
     "metadata": {},
     "output_type": "execute_result"
    }
   ],
   "source": [
    "dataframe"
   ]
  },
  {
   "cell_type": "code",
   "execution_count": 3,
   "id": "9515f982-1c17-479f-9a71-44f9d77e62bd",
   "metadata": {},
   "outputs": [
    {
     "data": {
      "text/plain": [
       "array([1, 0])"
      ]
     },
     "execution_count": 3,
     "metadata": {},
     "output_type": "execute_result"
    }
   ],
   "source": [
    "dataframe['stroke'].unique()"
   ]
  },
  {
   "cell_type": "raw",
   "id": "996ca93b-438c-4222-ae61-50000f85100c",
   "metadata": {},
   "source": [
    "--> It is a supervised machine learning problem (where target column is already given)\n",
    "--> It is binary classification because it has only two classes (0 and 1)"
   ]
  },
  {
   "cell_type": "code",
   "execution_count": 4,
   "id": "96a600b9-1b8f-4638-964d-3af85370caab",
   "metadata": {},
   "outputs": [
    {
     "name": "stdout",
     "output_type": "stream",
     "text": [
      "<class 'pandas.core.frame.DataFrame'>\n",
      "RangeIndex: 4981 entries, 0 to 4980\n",
      "Data columns (total 11 columns):\n",
      " #   Column             Non-Null Count  Dtype  \n",
      "---  ------             --------------  -----  \n",
      " 0   gender             4981 non-null   object \n",
      " 1   age                4981 non-null   float64\n",
      " 2   hypertension       4981 non-null   int64  \n",
      " 3   heart_disease      4981 non-null   int64  \n",
      " 4   ever_married       4981 non-null   object \n",
      " 5   work_type          4981 non-null   object \n",
      " 6   Residence_type     4981 non-null   object \n",
      " 7   avg_glucose_level  4981 non-null   float64\n",
      " 8   bmi                4981 non-null   float64\n",
      " 9   smoking_status     4981 non-null   object \n",
      " 10  stroke             4981 non-null   int64  \n",
      "dtypes: float64(3), int64(3), object(5)\n",
      "memory usage: 428.2+ KB\n"
     ]
    }
   ],
   "source": [
    "dataframe.info()"
   ]
  },
  {
   "cell_type": "code",
   "execution_count": 5,
   "id": "96d1cfb2-d238-48f6-843e-d7fbcf282dfb",
   "metadata": {},
   "outputs": [
    {
     "data": {
      "text/html": [
       "<div>\n",
       "<style scoped>\n",
       "    .dataframe tbody tr th:only-of-type {\n",
       "        vertical-align: middle;\n",
       "    }\n",
       "\n",
       "    .dataframe tbody tr th {\n",
       "        vertical-align: top;\n",
       "    }\n",
       "\n",
       "    .dataframe thead th {\n",
       "        text-align: right;\n",
       "    }\n",
       "</style>\n",
       "<table border=\"1\" class=\"dataframe\">\n",
       "  <thead>\n",
       "    <tr style=\"text-align: right;\">\n",
       "      <th></th>\n",
       "      <th>age</th>\n",
       "      <th>hypertension</th>\n",
       "      <th>heart_disease</th>\n",
       "      <th>avg_glucose_level</th>\n",
       "      <th>bmi</th>\n",
       "      <th>stroke</th>\n",
       "    </tr>\n",
       "  </thead>\n",
       "  <tbody>\n",
       "    <tr>\n",
       "      <th>count</th>\n",
       "      <td>4981.000000</td>\n",
       "      <td>4981.000000</td>\n",
       "      <td>4981.000000</td>\n",
       "      <td>4981.000000</td>\n",
       "      <td>4981.000000</td>\n",
       "      <td>4981.000000</td>\n",
       "    </tr>\n",
       "    <tr>\n",
       "      <th>mean</th>\n",
       "      <td>43.419859</td>\n",
       "      <td>0.096165</td>\n",
       "      <td>0.055210</td>\n",
       "      <td>105.943562</td>\n",
       "      <td>28.498173</td>\n",
       "      <td>0.049789</td>\n",
       "    </tr>\n",
       "    <tr>\n",
       "      <th>std</th>\n",
       "      <td>22.662755</td>\n",
       "      <td>0.294848</td>\n",
       "      <td>0.228412</td>\n",
       "      <td>45.075373</td>\n",
       "      <td>6.790464</td>\n",
       "      <td>0.217531</td>\n",
       "    </tr>\n",
       "    <tr>\n",
       "      <th>min</th>\n",
       "      <td>0.080000</td>\n",
       "      <td>0.000000</td>\n",
       "      <td>0.000000</td>\n",
       "      <td>55.120000</td>\n",
       "      <td>14.000000</td>\n",
       "      <td>0.000000</td>\n",
       "    </tr>\n",
       "    <tr>\n",
       "      <th>25%</th>\n",
       "      <td>25.000000</td>\n",
       "      <td>0.000000</td>\n",
       "      <td>0.000000</td>\n",
       "      <td>77.230000</td>\n",
       "      <td>23.700000</td>\n",
       "      <td>0.000000</td>\n",
       "    </tr>\n",
       "    <tr>\n",
       "      <th>50%</th>\n",
       "      <td>45.000000</td>\n",
       "      <td>0.000000</td>\n",
       "      <td>0.000000</td>\n",
       "      <td>91.850000</td>\n",
       "      <td>28.100000</td>\n",
       "      <td>0.000000</td>\n",
       "    </tr>\n",
       "    <tr>\n",
       "      <th>75%</th>\n",
       "      <td>61.000000</td>\n",
       "      <td>0.000000</td>\n",
       "      <td>0.000000</td>\n",
       "      <td>113.860000</td>\n",
       "      <td>32.600000</td>\n",
       "      <td>0.000000</td>\n",
       "    </tr>\n",
       "    <tr>\n",
       "      <th>max</th>\n",
       "      <td>82.000000</td>\n",
       "      <td>1.000000</td>\n",
       "      <td>1.000000</td>\n",
       "      <td>271.740000</td>\n",
       "      <td>48.900000</td>\n",
       "      <td>1.000000</td>\n",
       "    </tr>\n",
       "  </tbody>\n",
       "</table>\n",
       "</div>"
      ],
      "text/plain": [
       "               age  hypertension  heart_disease  avg_glucose_level  \\\n",
       "count  4981.000000   4981.000000    4981.000000        4981.000000   \n",
       "mean     43.419859      0.096165       0.055210         105.943562   \n",
       "std      22.662755      0.294848       0.228412          45.075373   \n",
       "min       0.080000      0.000000       0.000000          55.120000   \n",
       "25%      25.000000      0.000000       0.000000          77.230000   \n",
       "50%      45.000000      0.000000       0.000000          91.850000   \n",
       "75%      61.000000      0.000000       0.000000         113.860000   \n",
       "max      82.000000      1.000000       1.000000         271.740000   \n",
       "\n",
       "               bmi       stroke  \n",
       "count  4981.000000  4981.000000  \n",
       "mean     28.498173     0.049789  \n",
       "std       6.790464     0.217531  \n",
       "min      14.000000     0.000000  \n",
       "25%      23.700000     0.000000  \n",
       "50%      28.100000     0.000000  \n",
       "75%      32.600000     0.000000  \n",
       "max      48.900000     1.000000  "
      ]
     },
     "execution_count": 5,
     "metadata": {},
     "output_type": "execute_result"
    }
   ],
   "source": [
    "dataframe.describe()"
   ]
  },
  {
   "cell_type": "code",
   "execution_count": 6,
   "id": "367a2c98-add9-4bae-92d5-bfa6bbbeb77b",
   "metadata": {},
   "outputs": [
    {
     "data": {
      "text/html": [
       "<div>\n",
       "<style scoped>\n",
       "    .dataframe tbody tr th:only-of-type {\n",
       "        vertical-align: middle;\n",
       "    }\n",
       "\n",
       "    .dataframe tbody tr th {\n",
       "        vertical-align: top;\n",
       "    }\n",
       "\n",
       "    .dataframe thead th {\n",
       "        text-align: right;\n",
       "    }\n",
       "</style>\n",
       "<table border=\"1\" class=\"dataframe\">\n",
       "  <thead>\n",
       "    <tr style=\"text-align: right;\">\n",
       "      <th></th>\n",
       "      <th>count</th>\n",
       "      <th>mean</th>\n",
       "      <th>std</th>\n",
       "      <th>min</th>\n",
       "      <th>25%</th>\n",
       "      <th>50%</th>\n",
       "      <th>75%</th>\n",
       "      <th>max</th>\n",
       "    </tr>\n",
       "  </thead>\n",
       "  <tbody>\n",
       "    <tr>\n",
       "      <th>age</th>\n",
       "      <td>4981.0</td>\n",
       "      <td>43.419859</td>\n",
       "      <td>22.662755</td>\n",
       "      <td>0.08</td>\n",
       "      <td>25.00</td>\n",
       "      <td>45.00</td>\n",
       "      <td>61.00</td>\n",
       "      <td>82.00</td>\n",
       "    </tr>\n",
       "    <tr>\n",
       "      <th>hypertension</th>\n",
       "      <td>4981.0</td>\n",
       "      <td>0.096165</td>\n",
       "      <td>0.294848</td>\n",
       "      <td>0.00</td>\n",
       "      <td>0.00</td>\n",
       "      <td>0.00</td>\n",
       "      <td>0.00</td>\n",
       "      <td>1.00</td>\n",
       "    </tr>\n",
       "    <tr>\n",
       "      <th>heart_disease</th>\n",
       "      <td>4981.0</td>\n",
       "      <td>0.055210</td>\n",
       "      <td>0.228412</td>\n",
       "      <td>0.00</td>\n",
       "      <td>0.00</td>\n",
       "      <td>0.00</td>\n",
       "      <td>0.00</td>\n",
       "      <td>1.00</td>\n",
       "    </tr>\n",
       "    <tr>\n",
       "      <th>avg_glucose_level</th>\n",
       "      <td>4981.0</td>\n",
       "      <td>105.943562</td>\n",
       "      <td>45.075373</td>\n",
       "      <td>55.12</td>\n",
       "      <td>77.23</td>\n",
       "      <td>91.85</td>\n",
       "      <td>113.86</td>\n",
       "      <td>271.74</td>\n",
       "    </tr>\n",
       "    <tr>\n",
       "      <th>bmi</th>\n",
       "      <td>4981.0</td>\n",
       "      <td>28.498173</td>\n",
       "      <td>6.790464</td>\n",
       "      <td>14.00</td>\n",
       "      <td>23.70</td>\n",
       "      <td>28.10</td>\n",
       "      <td>32.60</td>\n",
       "      <td>48.90</td>\n",
       "    </tr>\n",
       "    <tr>\n",
       "      <th>stroke</th>\n",
       "      <td>4981.0</td>\n",
       "      <td>0.049789</td>\n",
       "      <td>0.217531</td>\n",
       "      <td>0.00</td>\n",
       "      <td>0.00</td>\n",
       "      <td>0.00</td>\n",
       "      <td>0.00</td>\n",
       "      <td>1.00</td>\n",
       "    </tr>\n",
       "  </tbody>\n",
       "</table>\n",
       "</div>"
      ],
      "text/plain": [
       "                    count        mean        std    min    25%    50%     75%  \\\n",
       "age                4981.0   43.419859  22.662755   0.08  25.00  45.00   61.00   \n",
       "hypertension       4981.0    0.096165   0.294848   0.00   0.00   0.00    0.00   \n",
       "heart_disease      4981.0    0.055210   0.228412   0.00   0.00   0.00    0.00   \n",
       "avg_glucose_level  4981.0  105.943562  45.075373  55.12  77.23  91.85  113.86   \n",
       "bmi                4981.0   28.498173   6.790464  14.00  23.70  28.10   32.60   \n",
       "stroke             4981.0    0.049789   0.217531   0.00   0.00   0.00    0.00   \n",
       "\n",
       "                      max  \n",
       "age                 82.00  \n",
       "hypertension         1.00  \n",
       "heart_disease        1.00  \n",
       "avg_glucose_level  271.74  \n",
       "bmi                 48.90  \n",
       "stroke               1.00  "
      ]
     },
     "execution_count": 6,
     "metadata": {},
     "output_type": "execute_result"
    }
   ],
   "source": [
    "dataframe.describe().T \n",
    "# transpose of describe() dataframe"
   ]
  },
  {
   "cell_type": "code",
   "execution_count": 7,
   "id": "0fdc513e-cbcf-4ae1-8a2a-c7d71480e21b",
   "metadata": {},
   "outputs": [
    {
     "data": {
      "text/plain": [
       "gender                  2\n",
       "age                   104\n",
       "hypertension            2\n",
       "heart_disease           2\n",
       "ever_married            2\n",
       "work_type               4\n",
       "Residence_type          2\n",
       "avg_glucose_level    3895\n",
       "bmi                   342\n",
       "smoking_status          4\n",
       "stroke                  2\n",
       "dtype: int64"
      ]
     },
     "execution_count": 7,
     "metadata": {},
     "output_type": "execute_result"
    }
   ],
   "source": [
    "dataframe.nunique()\n",
    "# to calcultae number of unique values in each column"
   ]
  },
  {
   "cell_type": "code",
   "execution_count": 8,
   "id": "03e4ee70-a2ee-4d67-8e6a-c1f028c23467",
   "metadata": {},
   "outputs": [
    {
     "data": {
      "text/plain": [
       "0"
      ]
     },
     "execution_count": 8,
     "metadata": {},
     "output_type": "execute_result"
    }
   ],
   "source": [
    "dataframe.duplicated().sum()"
   ]
  },
  {
   "cell_type": "code",
   "execution_count": 9,
   "id": "47f9e6fc-7848-4b49-b865-547fb2ea544d",
   "metadata": {},
   "outputs": [],
   "source": [
    "# 0 means we dont have any duplicated value"
   ]
  },
  {
   "cell_type": "raw",
   "id": "62ee8524-b0b4-4b21-b0e4-f6c6edc7e55b",
   "metadata": {},
   "source": [
    "** CLEANING DATA **"
   ]
  },
  {
   "cell_type": "code",
   "execution_count": 10,
   "id": "b597137b-d446-4055-a55d-0666d76ebb03",
   "metadata": {},
   "outputs": [
    {
     "data": {
      "text/plain": [
       "[67.0,\n",
       " 80.0,\n",
       " 49.0,\n",
       " 79.0,\n",
       " 81.0,\n",
       " 74.0,\n",
       " 69.0,\n",
       " 78.0,\n",
       " 61.0,\n",
       " 54.0,\n",
       " 50.0,\n",
       " 64.0,\n",
       " 75.0,\n",
       " 60.0,\n",
       " 71.0,\n",
       " 52.0,\n",
       " 82.0,\n",
       " 65.0,\n",
       " 57.0,\n",
       " 42.0,\n",
       " 48.0,\n",
       " 72.0,\n",
       " 58.0,\n",
       " 76.0,\n",
       " 39.0,\n",
       " 77.0,\n",
       " 63.0,\n",
       " 73.0,\n",
       " 56.0,\n",
       " 45.0,\n",
       " 70.0,\n",
       " 59.0,\n",
       " 66.0,\n",
       " 43.0,\n",
       " 68.0,\n",
       " 47.0,\n",
       " 53.0,\n",
       " 38.0,\n",
       " 55.0,\n",
       " 46.0,\n",
       " 32.0,\n",
       " 51.0,\n",
       " 14.0,\n",
       " 3.0,\n",
       " 8.0,\n",
       " 37.0,\n",
       " 40.0,\n",
       " 35.0,\n",
       " 20.0,\n",
       " 44.0,\n",
       " 25.0,\n",
       " 27.0,\n",
       " 23.0,\n",
       " 17.0,\n",
       " 13.0,\n",
       " 4.0,\n",
       " 16.0,\n",
       " 22.0,\n",
       " 30.0,\n",
       " 29.0,\n",
       " 11.0,\n",
       " 21.0,\n",
       " 18.0,\n",
       " 33.0,\n",
       " 24.0,\n",
       " 36.0,\n",
       " 0.64,\n",
       " 34.0,\n",
       " 41.0,\n",
       " 0.88,\n",
       " 5.0,\n",
       " 26.0,\n",
       " 31.0,\n",
       " 7.0,\n",
       " 12.0,\n",
       " 62.0,\n",
       " 2.0,\n",
       " 9.0,\n",
       " 15.0,\n",
       " 28.0,\n",
       " 10.0,\n",
       " 1.8,\n",
       " 0.32,\n",
       " 1.08,\n",
       " 19.0,\n",
       " 6.0,\n",
       " 1.16,\n",
       " 1.0,\n",
       " 1.4,\n",
       " 1.72,\n",
       " 0.24,\n",
       " 1.64,\n",
       " 1.56,\n",
       " 0.72,\n",
       " 1.88,\n",
       " 1.24,\n",
       " 0.8,\n",
       " 0.4,\n",
       " 0.08,\n",
       " 1.48,\n",
       " 0.56,\n",
       " 1.32,\n",
       " 0.16,\n",
       " 0.48]"
      ]
     },
     "execution_count": 10,
     "metadata": {},
     "output_type": "execute_result"
    }
   ],
   "source": [
    "dataframe['age'].unique().tolist()"
   ]
  },
  {
   "cell_type": "code",
   "execution_count": 11,
   "id": "30ff96f7-0057-4182-b7a2-f37830342e88",
   "metadata": {},
   "outputs": [
    {
     "data": {
      "text/plain": [
       "[0.08,\n",
       " 0.16,\n",
       " 0.24,\n",
       " 0.32,\n",
       " 0.4,\n",
       " 0.48,\n",
       " 0.56,\n",
       " 0.64,\n",
       " 0.72,\n",
       " 0.8,\n",
       " 0.88,\n",
       " 1.0,\n",
       " 1.08,\n",
       " 1.16,\n",
       " 1.24,\n",
       " 1.32,\n",
       " 1.4,\n",
       " 1.48,\n",
       " 1.56,\n",
       " 1.64,\n",
       " 1.72,\n",
       " 1.8,\n",
       " 1.88,\n",
       " 2.0,\n",
       " 3.0,\n",
       " 4.0,\n",
       " 5.0,\n",
       " 6.0,\n",
       " 7.0,\n",
       " 8.0,\n",
       " 9.0,\n",
       " 10.0,\n",
       " 11.0,\n",
       " 12.0,\n",
       " 13.0,\n",
       " 14.0,\n",
       " 15.0,\n",
       " 16.0,\n",
       " 17.0,\n",
       " 18.0,\n",
       " 19.0,\n",
       " 20.0,\n",
       " 21.0,\n",
       " 22.0,\n",
       " 23.0,\n",
       " 24.0,\n",
       " 25.0,\n",
       " 26.0,\n",
       " 27.0,\n",
       " 28.0,\n",
       " 29.0,\n",
       " 30.0,\n",
       " 31.0,\n",
       " 32.0,\n",
       " 33.0,\n",
       " 34.0,\n",
       " 35.0,\n",
       " 36.0,\n",
       " 37.0,\n",
       " 38.0,\n",
       " 39.0,\n",
       " 40.0,\n",
       " 41.0,\n",
       " 42.0,\n",
       " 43.0,\n",
       " 44.0,\n",
       " 45.0,\n",
       " 46.0,\n",
       " 47.0,\n",
       " 48.0,\n",
       " 49.0,\n",
       " 50.0,\n",
       " 51.0,\n",
       " 52.0,\n",
       " 53.0,\n",
       " 54.0,\n",
       " 55.0,\n",
       " 56.0,\n",
       " 57.0,\n",
       " 58.0,\n",
       " 59.0,\n",
       " 60.0,\n",
       " 61.0,\n",
       " 62.0,\n",
       " 63.0,\n",
       " 64.0,\n",
       " 65.0,\n",
       " 66.0,\n",
       " 67.0,\n",
       " 68.0,\n",
       " 69.0,\n",
       " 70.0,\n",
       " 71.0,\n",
       " 72.0,\n",
       " 73.0,\n",
       " 74.0,\n",
       " 75.0,\n",
       " 76.0,\n",
       " 77.0,\n",
       " 78.0,\n",
       " 79.0,\n",
       " 80.0,\n",
       " 81.0,\n",
       " 82.0]"
      ]
     },
     "execution_count": 11,
     "metadata": {},
     "output_type": "execute_result"
    }
   ],
   "source": [
    "sorted(dataframe['age'].unique().tolist())\n",
    "# Sort the data of age column in ascending order"
   ]
  },
  {
   "cell_type": "code",
   "execution_count": 12,
   "id": "86c17735-5f6c-4d03-85e9-82f3921baad3",
   "metadata": {},
   "outputs": [],
   "source": [
    "# dataframe['age'] = dataframe['age'].astype(int)\n",
    "# convert the datatype of age column from float to int"
   ]
  },
  {
   "cell_type": "code",
   "execution_count": 13,
   "id": "d845fff4-05ae-46f4-947a-8fd4ed08d362",
   "metadata": {},
   "outputs": [
    {
     "data": {
      "text/plain": [
       "gender\n",
       "Female    2907\n",
       "Male      2074\n",
       "Name: count, dtype: int64"
      ]
     },
     "execution_count": 13,
     "metadata": {},
     "output_type": "execute_result"
    }
   ],
   "source": [
    "dataframe['gender'].value_counts()\n",
    "# count the number of male and female in the dataframe"
   ]
  },
  {
   "cell_type": "raw",
   "id": "25de43ab-c66f-442c-9fd6-f159d17d0b80",
   "metadata": {},
   "source": [
    "** EXPLORATORY DATA ANALYSIS (EDA) **"
   ]
  },
  {
   "cell_type": "code",
   "execution_count": 14,
   "id": "841f2152-35af-4cf9-8f4d-e74933dabef4",
   "metadata": {},
   "outputs": [],
   "source": [
    "sns.set_style(\"darkgrid\")"
   ]
  },
  {
   "cell_type": "code",
   "execution_count": 15,
   "id": "ad2efea9-e65b-485b-a1e0-5d92df585203",
   "metadata": {},
   "outputs": [],
   "source": [
    "plot_color = ['#008080', 'black']\n",
    "sns.set_palette(['#008080', 'black'])"
   ]
  },
  {
   "cell_type": "raw",
   "id": "81348ef9-ddda-4367-9cc3-c9c2b4924fcc",
   "metadata": {},
   "source": [
    "** Filter data for stroke and non stroke **"
   ]
  },
  {
   "cell_type": "code",
   "execution_count": 16,
   "id": "0134a382-fda9-4da2-af03-eb647be3004e",
   "metadata": {},
   "outputs": [],
   "source": [
    "no_stroke_data = dataframe[dataframe['stroke'] == 0]\n",
    "# person having no stroke\n",
    "stroke_data = dataframe[dataframe['stroke'] == 1]\n",
    "# person having stroke"
   ]
  },
  {
   "cell_type": "raw",
   "id": "8b7955bb-b2f0-4f37-9017-0d0d1472dab6",
   "metadata": {},
   "source": [
    "** UNIVARIATE ANALYSIS **  \n",
    "  (For only one column)"
   ]
  },
  {
   "cell_type": "code",
   "execution_count": 17,
   "id": "d7045d4d-3c02-43f7-b11a-fce79fdf1e1f",
   "metadata": {},
   "outputs": [
    {
     "data": {
      "text/plain": [
       "stroke\n",
       "0    4733\n",
       "1     248\n",
       "Name: count, dtype: int64"
      ]
     },
     "execution_count": 17,
     "metadata": {},
     "output_type": "execute_result"
    }
   ],
   "source": [
    "stroke_count = dataframe['stroke'].value_counts()\n",
    "stroke_count"
   ]
  },
  {
   "cell_type": "code",
   "execution_count": 18,
   "id": "75f39ff0-3eb0-48ca-afe0-768be2355e20",
   "metadata": {},
   "outputs": [
    {
     "data": {
      "image/svg+xml": [
       "<svg class=\"main-svg\" xmlns=\"http://www.w3.org/2000/svg\" xmlns:xlink=\"http://www.w3.org/1999/xlink\" width=\"700\" height=\"500\" style=\"\" viewBox=\"0 0 700 500\"><rect x=\"0\" y=\"0\" width=\"700\" height=\"500\" style=\"fill: rgb(255, 255, 255); fill-opacity: 1;\"/><defs id=\"defs-d8fa1b\"><g class=\"clips\"/><g class=\"gradients\"/><g class=\"patterns\"/></defs><g class=\"bglayer\"/><g class=\"layer-below\"><g class=\"imagelayer\"/><g class=\"shapelayer\"/></g><g class=\"cartesianlayer\"/><g class=\"polarlayer\"/><g class=\"smithlayer\"/><g class=\"ternarylayer\"/><g class=\"geolayer\"/><g class=\"funnelarealayer\"/><g class=\"pielayer\"><g class=\"trace\" stroke-linejoin=\"round\" style=\"opacity: 1;\"><g class=\"slice\"><path class=\"surface\" d=\"M334.5,260l0,-160a160,160 0 1 1 -49.24112758545964,7.765603905975013Z\" style=\"pointer-events: none; fill: rgb(0, 128, 128); fill-opacity: 1; stroke-width: 0; stroke: rgb(68, 68, 68); stroke-opacity: 1;\"/><g class=\"slicetext\"><text data-notex=\"1\" class=\"slicetext\" transform=\"translate(346.80422352952843,343.02333783054536)\" text-anchor=\"middle\" x=\"0\" y=\"0\" style=\"font-family: 'Open Sans', verdana, arial, sans-serif; font-size: 12px; fill: rgb(255, 255, 255); fill-opacity: 1; white-space: pre;\">95%</text></g></g><g class=\"slice\"><path class=\"surface\" d=\"M334.5,260l-49.24112758545948,-152.23439609402502a160,160 0 0 1 49.24112758545948,-7.765603905974984Z\" style=\"pointer-events: none; fill: rgb(0, 0, 0); fill-opacity: 1; stroke-width: 0; stroke: rgb(68, 68, 68); stroke-opacity: 1;\"/><g class=\"slicetext\"><text data-notex=\"1\" class=\"slicetext\" transform=\"translate(312.7725009108108,127.25543779930607)\" text-anchor=\"middle\" x=\"0\" y=\"0\" style=\"font-family: 'Open Sans', verdana, arial, sans-serif; font-size: 12px; fill: rgb(255, 255, 255); fill-opacity: 1; white-space: pre;\">4.98%</text></g></g></g></g><g class=\"iciclelayer\"/><g class=\"treemaplayer\"/><g class=\"sunburstlayer\"/><g class=\"glimages\"/><defs id=\"topdefs-d8fa1b\"><g class=\"clips\"/><clipPath id=\"legendd8fa1b\"><rect width=\"89\" height=\"67\" x=\"0\" y=\"0\"/></clipPath></defs><g class=\"layer-above\"><g class=\"imagelayer\"/><g class=\"shapelayer\"/></g><g class=\"infolayer\"><g class=\"legend\" pointer-events=\"all\" transform=\"translate(599.1800000000001,100)\"><rect class=\"bg\" shape-rendering=\"crispEdges\" style=\"stroke: rgb(68, 68, 68); stroke-opacity: 1; fill: rgb(255, 255, 255); fill-opacity: 1; stroke-width: 0px;\" width=\"89\" height=\"67\" x=\"0\" y=\"0\"/><g class=\"scrollbox\" transform=\"\" clip-path=\"url(#legendd8fa1b)\"><text class=\"legendtitletext\" text-anchor=\"start\" x=\"2\" y=\"18.2\" style=\"font-family: 'Open Sans', verdana, arial, sans-serif; font-size: 14px; fill: rgb(42, 63, 95); fill-opacity: 1; white-space: pre;\">Stroke Status</text><g class=\"groups\"><g class=\"traces\" transform=\"translate(0,32.7)\" style=\"opacity: 1;\"><text class=\"legendtext\" text-anchor=\"start\" x=\"40\" y=\"4.680000000000001\" style=\"font-family: 'Open Sans', verdana, arial, sans-serif; font-size: 12px; fill: rgb(42, 63, 95); fill-opacity: 1; white-space: pre;\">No</text><g class=\"layers\" style=\"opacity: 1;\"><g class=\"legendfill\"/><g class=\"legendlines\"/><g class=\"legendsymbols\"><g class=\"legendpoints\"><path class=\"legendpie\" d=\"M6,6H-6V-6H6Z\" transform=\"translate(20,0)\" style=\"fill: rgb(0, 128, 128); fill-opacity: 1; stroke-width: 0; stroke: rgb(68, 68, 68); stroke-opacity: 1;\"/></g></g></g><rect class=\"legendtoggle\" x=\"0\" y=\"-9.5\" width=\"59.578125\" height=\"19\" style=\"fill: rgb(0, 0, 0); fill-opacity: 0;\"/></g><g class=\"traces\" transform=\"translate(0,51.7)\" style=\"opacity: 1;\"><text class=\"legendtext\" text-anchor=\"start\" x=\"40\" y=\"4.680000000000001\" style=\"font-family: 'Open Sans', verdana, arial, sans-serif; font-size: 12px; fill: rgb(42, 63, 95); fill-opacity: 1; white-space: pre;\">Yes</text><g class=\"layers\" style=\"opacity: 1;\"><g class=\"legendfill\"/><g class=\"legendlines\"/><g class=\"legendsymbols\"><g class=\"legendpoints\"><path class=\"legendpie\" d=\"M6,6H-6V-6H6Z\" transform=\"translate(20,0)\" style=\"fill: rgb(0, 0, 0); fill-opacity: 1; stroke-width: 0; stroke: rgb(68, 68, 68); stroke-opacity: 1;\"/></g></g></g><rect class=\"legendtoggle\" x=\"0\" y=\"-9.5\" width=\"59.578125\" height=\"19\" style=\"fill: rgb(0, 0, 0); fill-opacity: 0;\"/></g></g></g><rect class=\"scrollbar\" rx=\"20\" ry=\"3\" width=\"0\" height=\"0\" style=\"fill: rgb(128, 139, 164); fill-opacity: 1;\" x=\"0\" y=\"0\"/></g><g class=\"g-gtitle\"><text class=\"gtitle\" x=\"210\" y=\"25\" text-anchor=\"start\" dy=\"0.7em\" style=\"opacity: 1; font-family: 'Open Sans', verdana, arial, sans-serif; font-size: 17px; fill: rgb(42, 63, 95); fill-opacity: 1; white-space: pre;\">Proportion of Stroke Cases</text></g></g></svg>"
      ]
     },
     "metadata": {},
     "output_type": "display_data"
    }
   ],
   "source": [
    "fig = px.pie(\n",
    "      stroke_count, values = stroke_count.values, names = ['No', 'Yes'],\n",
    "      title = 'Proportion of Stroke Cases',\n",
    "      color_discrete_sequence = plot_color\n",
    ")\n",
    "\n",
    "fig.update_layout(legend_title_text = 'Stroke Status', title_x = 0.3, title_y = 0.95)\n",
    "fig.show('svg')\n",
    "\n",
    "# this requires plotly/Kaleido to download\n",
    "# plotly requires to download google chrome "
   ]
  },
  {
   "cell_type": "raw",
   "id": "1f4341b7-ea97-44b4-85ca-c8a7241d97eb",
   "metadata": {},
   "source": [
    "** BIVARIATE ANALYSIS **\n",
    "   (For two columns)"
   ]
  },
  {
   "cell_type": "code",
   "execution_count": 19,
   "id": "dc1dec3c-c9d7-41b4-a037-9e058a073497",
   "metadata": {},
   "outputs": [],
   "source": [
    "def custom_histograms(columns:str, titles:list) -> go.Figure:\n",
    "    fig = sp.make_subplots(rows=1, cols=2, subplot_titles = ['No Stroke', 'Yes Stroke'])\n",
    "    histrogram_no_stroke = px.histogram(no_stroke_data, x = columns, color_discrete_sequence=['#008080'])\n",
    "    histrogram_stroke = px.histogram(stroke_data, x = columns, color_discrete_sequence=['black'])\n",
    "    fig.add_trace(histrogram_no_stroke['data'][0], row=1, col=1)\n",
    "    fig.add_trace(histrogram_stroke['data'][0], row=1, col=2)\n",
    "    fig.update_layout(title = titles[0], title_x = 0.5) \n",
    "    fig.update_xaxes(title_text = titles[1]) \n",
    "    fig.update_yaxes(title_text = 'Count') \n",
    "    return fig\n",
    "\n"
   ]
  },
  {
   "cell_type": "raw",
   "id": "f2b2545c-cb47-489c-807e-5b0ae4881ba0",
   "metadata": {},
   "source": [
    "** Stroke Analysis **"
   ]
  },
  {
   "cell_type": "code",
   "execution_count": 20,
   "id": "12f5eb82-de40-4dd8-a93f-70ca60bc0e05",
   "metadata": {},
   "outputs": [
    {
     "data": {
      "image/svg+xml": [
       "<svg class=\"main-svg\" xmlns=\"http://www.w3.org/2000/svg\" xmlns:xlink=\"http://www.w3.org/1999/xlink\" width=\"700\" height=\"500\" style=\"\" viewBox=\"0 0 700 500\"><rect x=\"0\" y=\"0\" width=\"700\" height=\"500\" style=\"fill: rgb(255, 255, 255); fill-opacity: 1;\"/><defs id=\"defs-5e6210\"><g class=\"clips\"><clipPath id=\"clip5e6210xyplot\" class=\"plotclip\"><rect width=\"243\" height=\"320\"/></clipPath><clipPath id=\"clip5e6210x2y2plot\" class=\"plotclip\"><rect width=\"242.99999999999997\" height=\"320\"/></clipPath><clipPath class=\"axesclip\" id=\"clip5e6210x\"><rect x=\"80\" y=\"0\" width=\"243\" height=\"500\"/></clipPath><clipPath class=\"axesclip\" id=\"clip5e6210y\"><rect x=\"0\" y=\"100\" width=\"700\" height=\"320\"/></clipPath><clipPath class=\"axesclip\" id=\"clip5e6210xy\"><rect x=\"80\" y=\"100\" width=\"243\" height=\"320\"/></clipPath><clipPath class=\"axesclip\" id=\"clip5e6210y2\"><rect x=\"0\" y=\"100\" width=\"700\" height=\"320\"/></clipPath><clipPath class=\"axesclip\" id=\"clip5e6210xy2\"><rect x=\"80\" y=\"100\" width=\"243\" height=\"320\"/></clipPath><clipPath class=\"axesclip\" id=\"clip5e6210x2\"><rect x=\"377\" y=\"0\" width=\"242.99999999999997\" height=\"500\"/></clipPath><clipPath class=\"axesclip\" id=\"clip5e6210x2y\"><rect x=\"377\" y=\"100\" width=\"242.99999999999997\" height=\"320\"/></clipPath><clipPath class=\"axesclip\" id=\"clip5e6210x2y2\"><rect x=\"377\" y=\"100\" width=\"242.99999999999997\" height=\"320\"/></clipPath></g><g class=\"gradients\"/><g class=\"patterns\"/></defs><g class=\"bglayer\"><rect class=\"bg\" x=\"80\" y=\"100\" width=\"243\" height=\"320\" style=\"fill: rgb(229, 236, 246); fill-opacity: 1; stroke-width: 0;\"/><rect class=\"bg\" x=\"377\" y=\"100\" width=\"242.99999999999997\" height=\"320\" style=\"fill: rgb(229, 236, 246); fill-opacity: 1; stroke-width: 0;\"/></g><g class=\"layer-below\"><g class=\"imagelayer\"/><g class=\"shapelayer\"/></g><g class=\"cartesianlayer\"><g class=\"subplot xy\"><g class=\"layer-subplot\"><g class=\"shapelayer\"/><g class=\"imagelayer\"/></g><g class=\"minor-gridlayer\"><g class=\"x\"/><g class=\"y\"/></g><g class=\"gridlayer\"><g class=\"x\"/><g class=\"y\"><path class=\"ygrid crisp\" transform=\"translate(0,351.38)\" d=\"M80,0h243\" style=\"stroke: rgb(255, 255, 255); stroke-opacity: 1; stroke-width: 1px;\"/><path class=\"ygrid crisp\" transform=\"translate(0,282.75)\" d=\"M80,0h243\" style=\"stroke: rgb(255, 255, 255); stroke-opacity: 1; stroke-width: 1px;\"/><path class=\"ygrid crisp\" transform=\"translate(0,214.13)\" d=\"M80,0h243\" style=\"stroke: rgb(255, 255, 255); stroke-opacity: 1; stroke-width: 1px;\"/><path class=\"ygrid crisp\" transform=\"translate(0,145.51)\" d=\"M80,0h243\" style=\"stroke: rgb(255, 255, 255); stroke-opacity: 1; stroke-width: 1px;\"/></g></g><g class=\"zerolinelayer\"><path class=\"yzl zl crisp\" transform=\"translate(0,420)\" d=\"M80,0h243\" style=\"stroke: rgb(255, 255, 255); stroke-opacity: 1; stroke-width: 2px;\"/></g><g class=\"layer-between\"><g class=\"shapelayer\"/><g class=\"imagelayer\"/></g><path class=\"xlines-below\"/><path class=\"ylines-below\"/><g class=\"overlines-below\"/><g class=\"xaxislayer-below\"/><g class=\"yaxislayer-below\"/><g class=\"overaxes-below\"/><g class=\"overplot\"><g class=\"xy\" transform=\"translate(80,100)\" clip-path=\"url(#clip5e6210xyplot)\"><g class=\"barlayer mlayer\"><g class=\"trace bars\" shape-rendering=\"crispEdges\" style=\"opacity: 1;\"><g class=\"points\"><g class=\"point\"><path d=\"M0,320V179.32H5.65V320Z\" style=\"vector-effect: none; opacity: 1; stroke-width: 0px; fill: rgb(0, 128, 128); fill-opacity: 1;\"/></g><g class=\"point\"><path d=\"M5.65,320V175.89H11.3V320Z\" style=\"vector-effect: none; opacity: 1; stroke-width: 0px; fill: rgb(0, 128, 128); fill-opacity: 1;\"/></g><g class=\"point\"><path d=\"M11.3,320V120.31H16.95V320Z\" style=\"vector-effect: none; opacity: 1; stroke-width: 0px; fill: rgb(0, 128, 128); fill-opacity: 1;\"/></g><g class=\"point\"><path d=\"M16.95,320V92.17H22.6V320Z\" style=\"vector-effect: none; opacity: 1; stroke-width: 0px; fill: rgb(0, 128, 128); fill-opacity: 1;\"/></g><g class=\"point\"><path d=\"M22.6,320V52.37H28.26V320Z\" style=\"vector-effect: none; opacity: 1; stroke-width: 0px; fill: rgb(0, 128, 128); fill-opacity: 1;\"/></g><g class=\"point\"><path d=\"M28.26,320V16H33.91V320Z\" style=\"vector-effect: none; opacity: 1; stroke-width: 0px; fill: rgb(0, 128, 128); fill-opacity: 1;\"/></g><g class=\"point\"><path d=\"M33.91,320V58.55H39.56V320Z\" style=\"vector-effect: none; opacity: 1; stroke-width: 0px; fill: rgb(0, 128, 128); fill-opacity: 1;\"/></g><g class=\"point\"><path d=\"M39.56,320V56.49H45.21V320Z\" style=\"vector-effect: none; opacity: 1; stroke-width: 0px; fill: rgb(0, 128, 128); fill-opacity: 1;\"/></g><g class=\"point\"><path d=\"M45.21,320V105.21H50.86V320Z\" style=\"vector-effect: none; opacity: 1; stroke-width: 0px; fill: rgb(0, 128, 128); fill-opacity: 1;\"/></g><g class=\"point\"><path d=\"M50.86,320V138.15H56.51V320Z\" style=\"vector-effect: none; opacity: 1; stroke-width: 0px; fill: rgb(0, 128, 128); fill-opacity: 1;\"/></g><g class=\"point\"><path d=\"M56.51,320V177.95H62.16V320Z\" style=\"vector-effect: none; opacity: 1; stroke-width: 0px; fill: rgb(0, 128, 128); fill-opacity: 1;\"/></g><g class=\"point\"><path d=\"M62.16,320V171.77H67.81V320Z\" style=\"vector-effect: none; opacity: 1; stroke-width: 0px; fill: rgb(0, 128, 128); fill-opacity: 1;\"/></g><g class=\"point\"><path d=\"M67.81,320V240.4H73.47V320Z\" style=\"vector-effect: none; opacity: 1; stroke-width: 0px; fill: rgb(0, 128, 128); fill-opacity: 1;\"/></g><g class=\"point\"><path d=\"M73.47,320V241.08H79.12V320Z\" style=\"vector-effect: none; opacity: 1; stroke-width: 0px; fill: rgb(0, 128, 128); fill-opacity: 1;\"/></g><g class=\"point\"><path d=\"M79.12,320V270.59H84.77V320Z\" style=\"vector-effect: none; opacity: 1; stroke-width: 0px; fill: rgb(0, 128, 128); fill-opacity: 1;\"/></g><g class=\"point\"><path d=\"M84.77,320V285H90.42V320Z\" style=\"vector-effect: none; opacity: 1; stroke-width: 0px; fill: rgb(0, 128, 128); fill-opacity: 1;\"/></g><g class=\"point\"><path d=\"M90.42,320V290.49H96.07V320Z\" style=\"vector-effect: none; opacity: 1; stroke-width: 0px; fill: rgb(0, 128, 128); fill-opacity: 1;\"/></g><g class=\"point\"><path d=\"M96.07,320V289.81H101.72V320Z\" style=\"vector-effect: none; opacity: 1; stroke-width: 0px; fill: rgb(0, 128, 128); fill-opacity: 1;\"/></g><g class=\"point\"><path d=\"M101.72,320V291.86H107.37V320Z\" style=\"vector-effect: none; opacity: 1; stroke-width: 0px; fill: rgb(0, 128, 128); fill-opacity: 1;\"/></g><g class=\"point\"><path d=\"M107.37,320V298.04H113.02V320Z\" style=\"vector-effect: none; opacity: 1; stroke-width: 0px; fill: rgb(0, 128, 128); fill-opacity: 1;\"/></g><g class=\"point\"><path d=\"M113.02,320V301.47H118.67V320Z\" style=\"vector-effect: none; opacity: 1; stroke-width: 0px; fill: rgb(0, 128, 128); fill-opacity: 1;\"/></g><g class=\"point\"><path d=\"M118.67,320V304.9H124.33V320Z\" style=\"vector-effect: none; opacity: 1; stroke-width: 0px; fill: rgb(0, 128, 128); fill-opacity: 1;\"/></g><g class=\"point\"><path d=\"M124.33,320V307.65H129.98V320Z\" style=\"vector-effect: none; opacity: 1; stroke-width: 0px; fill: rgb(0, 128, 128); fill-opacity: 1;\"/></g><g class=\"point\"><path d=\"M129.98,320V309.02H135.63V320Z\" style=\"vector-effect: none; opacity: 1; stroke-width: 0px; fill: rgb(0, 128, 128); fill-opacity: 1;\"/></g><g class=\"point\"><path d=\"M135.63,320V308.33H141.28V320Z\" style=\"vector-effect: none; opacity: 1; stroke-width: 0px; fill: rgb(0, 128, 128); fill-opacity: 1;\"/></g><g class=\"point\"><path d=\"M141.28,320V306.28H146.93V320Z\" style=\"vector-effect: none; opacity: 1; stroke-width: 0px; fill: rgb(0, 128, 128); fill-opacity: 1;\"/></g><g class=\"point\"><path d=\"M146.93,320V303.53H152.58V320Z\" style=\"vector-effect: none; opacity: 1; stroke-width: 0px; fill: rgb(0, 128, 128); fill-opacity: 1;\"/></g><g class=\"point\"><path d=\"M152.58,320V298.04H158.23V320Z\" style=\"vector-effect: none; opacity: 1; stroke-width: 0px; fill: rgb(0, 128, 128); fill-opacity: 1;\"/></g><g class=\"point\"><path d=\"M158.23,320V288.43H163.88V320Z\" style=\"vector-effect: none; opacity: 1; stroke-width: 0px; fill: rgb(0, 128, 128); fill-opacity: 1;\"/></g><g class=\"point\"><path d=\"M163.88,320V283.63H169.53V320Z\" style=\"vector-effect: none; opacity: 1; stroke-width: 0px; fill: rgb(0, 128, 128); fill-opacity: 1;\"/></g><g class=\"point\"><path d=\"M169.53,320V286.37H175.19V320Z\" style=\"vector-effect: none; opacity: 1; stroke-width: 0px; fill: rgb(0, 128, 128); fill-opacity: 1;\"/></g><g class=\"point\"><path d=\"M175.19,320V295.98H180.84V320Z\" style=\"vector-effect: none; opacity: 1; stroke-width: 0px; fill: rgb(0, 128, 128); fill-opacity: 1;\"/></g><g class=\"point\"><path d=\"M180.84,320V285H186.49V320Z\" style=\"vector-effect: none; opacity: 1; stroke-width: 0px; fill: rgb(0, 128, 128); fill-opacity: 1;\"/></g><g class=\"point\"><path d=\"M186.49,320V296.67H192.14V320Z\" style=\"vector-effect: none; opacity: 1; stroke-width: 0px; fill: rgb(0, 128, 128); fill-opacity: 1;\"/></g><g class=\"point\"><path d=\"M192.14,320V292.55H197.79V320Z\" style=\"vector-effect: none; opacity: 1; stroke-width: 0px; fill: rgb(0, 128, 128); fill-opacity: 1;\"/></g><g class=\"point\"><path d=\"M197.79,320V298.04H203.44V320Z\" style=\"vector-effect: none; opacity: 1; stroke-width: 0px; fill: rgb(0, 128, 128); fill-opacity: 1;\"/></g><g class=\"point\"><path d=\"M203.44,320V304.9H209.09V320Z\" style=\"vector-effect: none; opacity: 1; stroke-width: 0px; fill: rgb(0, 128, 128); fill-opacity: 1;\"/></g><g class=\"point\"><path d=\"M209.09,320V309.71H214.74V320Z\" style=\"vector-effect: none; opacity: 1; stroke-width: 0px; fill: rgb(0, 128, 128); fill-opacity: 1;\"/></g><g class=\"point\"><path d=\"M214.74,320V313.82H220.4V320Z\" style=\"vector-effect: none; opacity: 1; stroke-width: 0px; fill: rgb(0, 128, 128); fill-opacity: 1;\"/></g><g class=\"point\"><path d=\"M220.4,320V312.45H226.05V320Z\" style=\"vector-effect: none; opacity: 1; stroke-width: 0px; fill: rgb(0, 128, 128); fill-opacity: 1;\"/></g><g class=\"point\"><path d=\"M226.05,320V318.63H231.7V320Z\" style=\"vector-effect: none; opacity: 1; stroke-width: 0px; fill: rgb(0, 128, 128); fill-opacity: 1;\"/></g><g class=\"point\"><path d=\"M231.7,320V317.94H237.35V320Z\" style=\"vector-effect: none; opacity: 1; stroke-width: 0px; fill: rgb(0, 128, 128); fill-opacity: 1;\"/></g><g class=\"point\"><path d=\"M237.35,320V317.26H243V320Z\" style=\"vector-effect: none; opacity: 1; stroke-width: 0px; fill: rgb(0, 128, 128); fill-opacity: 1;\"/></g></g></g></g></g></g><path class=\"xlines-above crisp\" d=\"M0,0\" style=\"fill: none;\"/><path class=\"ylines-above crisp\" d=\"M0,0\" style=\"fill: none;\"/><g class=\"overlines-above\"/><g class=\"xaxislayer-above\"><g class=\"xtick\"><text text-anchor=\"middle\" x=\"0\" y=\"433\" transform=\"translate(130.86,0)\" style=\"font-family: 'Open Sans', verdana, arial, sans-serif; font-size: 12px; fill: rgb(42, 63, 95); fill-opacity: 1; white-space: pre; opacity: 1;\">100</text></g><g class=\"xtick\"><text text-anchor=\"middle\" x=\"0\" y=\"433\" style=\"font-family: 'Open Sans', verdana, arial, sans-serif; font-size: 12px; fill: rgb(42, 63, 95); fill-opacity: 1; white-space: pre; opacity: 1;\" transform=\"translate(187.37,0)\">150</text></g><g class=\"xtick\"><text text-anchor=\"middle\" x=\"0\" y=\"433\" style=\"font-family: 'Open Sans', verdana, arial, sans-serif; font-size: 12px; fill: rgb(42, 63, 95); fill-opacity: 1; white-space: pre; opacity: 1;\" transform=\"translate(243.88,0)\">200</text></g><g class=\"xtick\"><text text-anchor=\"middle\" x=\"0\" y=\"433\" style=\"font-family: 'Open Sans', verdana, arial, sans-serif; font-size: 12px; fill: rgb(42, 63, 95); fill-opacity: 1; white-space: pre; opacity: 1;\" transform=\"translate(300.4,0)\">250</text></g></g><g class=\"yaxislayer-above\"><g class=\"ytick\"><text text-anchor=\"end\" x=\"79\" y=\"4.199999999999999\" transform=\"translate(0,420)\" style=\"font-family: 'Open Sans', verdana, arial, sans-serif; font-size: 12px; fill: rgb(42, 63, 95); fill-opacity: 1; white-space: pre; opacity: 1;\">0</text></g><g class=\"ytick\"><text text-anchor=\"end\" x=\"79\" y=\"4.199999999999999\" style=\"font-family: 'Open Sans', verdana, arial, sans-serif; font-size: 12px; fill: rgb(42, 63, 95); fill-opacity: 1; white-space: pre; opacity: 1;\" transform=\"translate(0,351.38)\">100</text></g><g class=\"ytick\"><text text-anchor=\"end\" x=\"79\" y=\"4.199999999999999\" style=\"font-family: 'Open Sans', verdana, arial, sans-serif; font-size: 12px; fill: rgb(42, 63, 95); fill-opacity: 1; white-space: pre; opacity: 1;\" transform=\"translate(0,282.75)\">200</text></g><g class=\"ytick\"><text text-anchor=\"end\" x=\"79\" y=\"4.199999999999999\" style=\"font-family: 'Open Sans', verdana, arial, sans-serif; font-size: 12px; fill: rgb(42, 63, 95); fill-opacity: 1; white-space: pre; opacity: 1;\" transform=\"translate(0,214.13)\">300</text></g><g class=\"ytick\"><text text-anchor=\"end\" x=\"79\" y=\"4.199999999999999\" style=\"font-family: 'Open Sans', verdana, arial, sans-serif; font-size: 12px; fill: rgb(42, 63, 95); fill-opacity: 1; white-space: pre; opacity: 1;\" transform=\"translate(0,145.51)\">400</text></g></g><g class=\"overaxes-above\"/></g><g class=\"subplot x2y2\"><g class=\"layer-subplot\"><g class=\"shapelayer\"/><g class=\"imagelayer\"/></g><g class=\"minor-gridlayer\"><g class=\"x2\"/><g class=\"y2\"/></g><g class=\"gridlayer\"><g class=\"x2\"/><g class=\"y2\"><path class=\"y2grid crisp\" transform=\"translate(0,344)\" d=\"M377,0h242.99999999999997\" style=\"stroke: rgb(255, 255, 255); stroke-opacity: 1; stroke-width: 1px;\"/><path class=\"y2grid crisp\" transform=\"translate(0,268)\" d=\"M377,0h242.99999999999997\" style=\"stroke: rgb(255, 255, 255); stroke-opacity: 1; stroke-width: 1px;\"/><path class=\"y2grid crisp\" transform=\"translate(0,192)\" d=\"M377,0h242.99999999999997\" style=\"stroke: rgb(255, 255, 255); stroke-opacity: 1; stroke-width: 1px;\"/><path class=\"y2grid crisp\" transform=\"translate(0,116)\" d=\"M377,0h242.99999999999997\" style=\"stroke: rgb(255, 255, 255); stroke-opacity: 1; stroke-width: 1px;\"/></g></g><g class=\"zerolinelayer\"><path class=\"y2zl zl crisp\" transform=\"translate(0,420)\" d=\"M377,0h242.99999999999997\" style=\"stroke: rgb(255, 255, 255); stroke-opacity: 1; stroke-width: 2px;\"/></g><g class=\"layer-between\"><g class=\"shapelayer\"/><g class=\"imagelayer\"/></g><path class=\"xlines-below\"/><path class=\"ylines-below\"/><g class=\"overlines-below\"/><g class=\"xaxislayer-below\"/><g class=\"yaxislayer-below\"/><g class=\"overaxes-below\"/><g class=\"overplot\"><g class=\"x2y2\" transform=\"translate(377,100)\" clip-path=\"url(#clip5e6210x2y2plot)\"><g class=\"barlayer mlayer\"><g class=\"trace bars\" shape-rendering=\"crispEdges\" style=\"opacity: 1;\"><g class=\"points\"><g class=\"point\"><path d=\"M0,320V198.4H5.52V320Z\" style=\"vector-effect: none; opacity: 1; stroke-width: 0px; fill: rgb(0, 0, 0); fill-opacity: 1;\"/></g><g class=\"point\"><path d=\"M5.52,320V152.8H11.05V320Z\" style=\"vector-effect: none; opacity: 1; stroke-width: 0px; fill: rgb(0, 0, 0); fill-opacity: 1;\"/></g><g class=\"point\"><path d=\"M11.05,320V198.4H16.57V320Z\" style=\"vector-effect: none; opacity: 1; stroke-width: 0px; fill: rgb(0, 0, 0); fill-opacity: 1;\"/></g><g class=\"point\"><path d=\"M16.57,320V16H22.09V320Z\" style=\"vector-effect: none; opacity: 1; stroke-width: 0px; fill: rgb(0, 0, 0); fill-opacity: 1;\"/></g><g class=\"point\"><path d=\"M22.09,320V76.8H27.61V320Z\" style=\"vector-effect: none; opacity: 1; stroke-width: 0px; fill: rgb(0, 0, 0); fill-opacity: 1;\"/></g><g class=\"point\"><path d=\"M27.61,320V107.2H33.14V320Z\" style=\"vector-effect: none; opacity: 1; stroke-width: 0px; fill: rgb(0, 0, 0); fill-opacity: 1;\"/></g><g class=\"point\"><path d=\"M33.14,320V152.8H38.66V320Z\" style=\"vector-effect: none; opacity: 1; stroke-width: 0px; fill: rgb(0, 0, 0); fill-opacity: 1;\"/></g><g class=\"point\"><path d=\"M38.66,320V122.4H44.18V320Z\" style=\"vector-effect: none; opacity: 1; stroke-width: 0px; fill: rgb(0, 0, 0); fill-opacity: 1;\"/></g><g class=\"point\"><path d=\"M44.18,320V152.8H49.7V320Z\" style=\"vector-effect: none; opacity: 1; stroke-width: 0px; fill: rgb(0, 0, 0); fill-opacity: 1;\"/></g><g class=\"point\"><path d=\"M49.7,320V137.6H55.23V320Z\" style=\"vector-effect: none; opacity: 1; stroke-width: 0px; fill: rgb(0, 0, 0); fill-opacity: 1;\"/></g><g class=\"point\"><path d=\"M55.23,320V198.4H60.75V320Z\" style=\"vector-effect: none; opacity: 1; stroke-width: 0px; fill: rgb(0, 0, 0); fill-opacity: 1;\"/></g><g class=\"point\"><path d=\"M60.75,320V168H66.27V320Z\" style=\"vector-effect: none; opacity: 1; stroke-width: 0px; fill: rgb(0, 0, 0); fill-opacity: 1;\"/></g><g class=\"point\"><path d=\"M66.27,320V244H71.8V320Z\" style=\"vector-effect: none; opacity: 1; stroke-width: 0px; fill: rgb(0, 0, 0); fill-opacity: 1;\"/></g><g class=\"point\"><path d=\"M71.8,320V289.6H77.32V320Z\" style=\"vector-effect: none; opacity: 1; stroke-width: 0px; fill: rgb(0, 0, 0); fill-opacity: 1;\"/></g><g class=\"point\"><path d=\"M77.32,320V289.6H82.84V320Z\" style=\"vector-effect: none; opacity: 1; stroke-width: 0px; fill: rgb(0, 0, 0); fill-opacity: 1;\"/></g><g class=\"point\"><path d=\"M82.84,320V259.2H88.36V320Z\" style=\"vector-effect: none; opacity: 1; stroke-width: 0px; fill: rgb(0, 0, 0); fill-opacity: 1;\"/></g><g class=\"point\"><path d=\"M88.36,320V304.8H93.89V320Z\" style=\"vector-effect: none; opacity: 1; stroke-width: 0px; fill: rgb(0, 0, 0); fill-opacity: 1;\"/></g><g class=\"point\"><path d=\"M93.89,320V274.4H99.41V320Z\" style=\"vector-effect: none; opacity: 1; stroke-width: 0px; fill: rgb(0, 0, 0); fill-opacity: 1;\"/></g><g class=\"point\"><path d=\"M0,0Z\" style=\"vector-effect: none; opacity: 1; stroke-width: 0px; fill: rgb(0, 0, 0); fill-opacity: 1;\"/></g><g class=\"point\"><path d=\"M104.93,320V304.8H110.45V320Z\" style=\"vector-effect: none; opacity: 1; stroke-width: 0px; fill: rgb(0, 0, 0); fill-opacity: 1;\"/></g><g class=\"point\"><path d=\"M0,0Z\" style=\"vector-effect: none; opacity: 1; stroke-width: 0px; fill: rgb(0, 0, 0); fill-opacity: 1;\"/></g><g class=\"point\"><path d=\"M115.98,320V289.6H121.5V320Z\" style=\"vector-effect: none; opacity: 1; stroke-width: 0px; fill: rgb(0, 0, 0); fill-opacity: 1;\"/></g><g class=\"point\"><path d=\"M121.5,320V259.2H127.02V320Z\" style=\"vector-effect: none; opacity: 1; stroke-width: 0px; fill: rgb(0, 0, 0); fill-opacity: 1;\"/></g><g class=\"point\"><path d=\"M127.02,320V289.6H132.55V320Z\" style=\"vector-effect: none; opacity: 1; stroke-width: 0px; fill: rgb(0, 0, 0); fill-opacity: 1;\"/></g><g class=\"point\"><path d=\"M132.55,320V289.6H138.07V320Z\" style=\"vector-effect: none; opacity: 1; stroke-width: 0px; fill: rgb(0, 0, 0); fill-opacity: 1;\"/></g><g class=\"point\"><path d=\"M138.07,320V274.4H143.59V320Z\" style=\"vector-effect: none; opacity: 1; stroke-width: 0px; fill: rgb(0, 0, 0); fill-opacity: 1;\"/></g><g class=\"point\"><path d=\"M143.59,320V259.2H149.11V320Z\" style=\"vector-effect: none; opacity: 1; stroke-width: 0px; fill: rgb(0, 0, 0); fill-opacity: 1;\"/></g><g class=\"point\"><path d=\"M149.11,320V213.6H154.64V320Z\" style=\"vector-effect: none; opacity: 1; stroke-width: 0px; fill: rgb(0, 0, 0); fill-opacity: 1;\"/></g><g class=\"point\"><path d=\"M154.64,320V183.2H160.16V320Z\" style=\"vector-effect: none; opacity: 1; stroke-width: 0px; fill: rgb(0, 0, 0); fill-opacity: 1;\"/></g><g class=\"point\"><path d=\"M160.16,320V259.2H165.68V320Z\" style=\"vector-effect: none; opacity: 1; stroke-width: 0px; fill: rgb(0, 0, 0); fill-opacity: 1;\"/></g><g class=\"point\"><path d=\"M165.68,320V198.4H171.2V320Z\" style=\"vector-effect: none; opacity: 1; stroke-width: 0px; fill: rgb(0, 0, 0); fill-opacity: 1;\"/></g><g class=\"point\"><path d=\"M171.2,320V213.6H176.73V320Z\" style=\"vector-effect: none; opacity: 1; stroke-width: 0px; fill: rgb(0, 0, 0); fill-opacity: 1;\"/></g><g class=\"point\"><path d=\"M176.73,320V183.2H182.25V320Z\" style=\"vector-effect: none; opacity: 1; stroke-width: 0px; fill: rgb(0, 0, 0); fill-opacity: 1;\"/></g><g class=\"point\"><path d=\"M182.25,320V244H187.77V320Z\" style=\"vector-effect: none; opacity: 1; stroke-width: 0px; fill: rgb(0, 0, 0); fill-opacity: 1;\"/></g><g class=\"point\"><path d=\"M187.77,320V259.2H193.3V320Z\" style=\"vector-effect: none; opacity: 1; stroke-width: 0px; fill: rgb(0, 0, 0); fill-opacity: 1;\"/></g><g class=\"point\"><path d=\"M193.3,320V259.2H198.82V320Z\" style=\"vector-effect: none; opacity: 1; stroke-width: 0px; fill: rgb(0, 0, 0); fill-opacity: 1;\"/></g><g class=\"point\"><path d=\"M198.82,320V274.4H204.34V320Z\" style=\"vector-effect: none; opacity: 1; stroke-width: 0px; fill: rgb(0, 0, 0); fill-opacity: 1;\"/></g><g class=\"point\"><path d=\"M204.34,320V259.2H209.86V320Z\" style=\"vector-effect: none; opacity: 1; stroke-width: 0px; fill: rgb(0, 0, 0); fill-opacity: 1;\"/></g><g class=\"point\"><path d=\"M209.86,320V289.6H215.39V320Z\" style=\"vector-effect: none; opacity: 1; stroke-width: 0px; fill: rgb(0, 0, 0); fill-opacity: 1;\"/></g><g class=\"point\"><path d=\"M215.39,320V289.6H220.91V320Z\" style=\"vector-effect: none; opacity: 1; stroke-width: 0px; fill: rgb(0, 0, 0); fill-opacity: 1;\"/></g><g class=\"point\"><path d=\"M220.91,320V304.8H226.43V320Z\" style=\"vector-effect: none; opacity: 1; stroke-width: 0px; fill: rgb(0, 0, 0); fill-opacity: 1;\"/></g><g class=\"point\"><path d=\"M226.43,320V304.8H231.95V320Z\" style=\"vector-effect: none; opacity: 1; stroke-width: 0px; fill: rgb(0, 0, 0); fill-opacity: 1;\"/></g><g class=\"point\"><path d=\"M0,0Z\" style=\"vector-effect: none; opacity: 1; stroke-width: 0px; fill: rgb(0, 0, 0); fill-opacity: 1;\"/></g><g class=\"point\"><path d=\"M237.48,320V304.8H243V320Z\" style=\"vector-effect: none; opacity: 1; stroke-width: 0px; fill: rgb(0, 0, 0); fill-opacity: 1;\"/></g></g></g></g></g></g><path class=\"xlines-above crisp\" d=\"M0,0\" style=\"fill: none;\"/><path class=\"ylines-above crisp\" d=\"M0,0\" style=\"fill: none;\"/><g class=\"overlines-above\"/><g class=\"xaxislayer-above\"><g class=\"x2tick\"><text text-anchor=\"middle\" x=\"0\" y=\"433\" transform=\"translate(426.7,0)\" style=\"font-family: 'Open Sans', verdana, arial, sans-serif; font-size: 12px; fill: rgb(42, 63, 95); fill-opacity: 1; white-space: pre; opacity: 1;\">100</text></g><g class=\"x2tick\"><text text-anchor=\"middle\" x=\"0\" y=\"433\" style=\"font-family: 'Open Sans', verdana, arial, sans-serif; font-size: 12px; fill: rgb(42, 63, 95); fill-opacity: 1; white-space: pre; opacity: 1;\" transform=\"translate(481.93,0)\">150</text></g><g class=\"x2tick\"><text text-anchor=\"middle\" x=\"0\" y=\"433\" style=\"font-family: 'Open Sans', verdana, arial, sans-serif; font-size: 12px; fill: rgb(42, 63, 95); fill-opacity: 1; white-space: pre; opacity: 1;\" transform=\"translate(537.16,0)\">200</text></g><g class=\"x2tick\"><text text-anchor=\"middle\" x=\"0\" y=\"433\" style=\"font-family: 'Open Sans', verdana, arial, sans-serif; font-size: 12px; fill: rgb(42, 63, 95); fill-opacity: 1; white-space: pre; opacity: 1;\" transform=\"translate(592.39,0)\">250</text></g></g><g class=\"yaxislayer-above\"><g class=\"y2tick\"><text text-anchor=\"end\" x=\"376\" y=\"4.199999999999999\" transform=\"translate(0,420)\" style=\"font-family: 'Open Sans', verdana, arial, sans-serif; font-size: 12px; fill: rgb(42, 63, 95); fill-opacity: 1; white-space: pre; opacity: 1;\">0</text></g><g class=\"y2tick\"><text text-anchor=\"end\" x=\"376\" y=\"4.199999999999999\" style=\"font-family: 'Open Sans', verdana, arial, sans-serif; font-size: 12px; fill: rgb(42, 63, 95); fill-opacity: 1; white-space: pre; opacity: 1;\" transform=\"translate(0,344)\">5</text></g><g class=\"y2tick\"><text text-anchor=\"end\" x=\"376\" y=\"4.199999999999999\" style=\"font-family: 'Open Sans', verdana, arial, sans-serif; font-size: 12px; fill: rgb(42, 63, 95); fill-opacity: 1; white-space: pre; opacity: 1;\" transform=\"translate(0,268)\">10</text></g><g class=\"y2tick\"><text text-anchor=\"end\" x=\"376\" y=\"4.199999999999999\" style=\"font-family: 'Open Sans', verdana, arial, sans-serif; font-size: 12px; fill: rgb(42, 63, 95); fill-opacity: 1; white-space: pre; opacity: 1;\" transform=\"translate(0,192)\">15</text></g><g class=\"y2tick\"><text text-anchor=\"end\" x=\"376\" y=\"4.199999999999999\" style=\"font-family: 'Open Sans', verdana, arial, sans-serif; font-size: 12px; fill: rgb(42, 63, 95); fill-opacity: 1; white-space: pre; opacity: 1;\" transform=\"translate(0,116)\">20</text></g></g><g class=\"overaxes-above\"/></g></g><g class=\"polarlayer\"/><g class=\"smithlayer\"/><g class=\"ternarylayer\"/><g class=\"geolayer\"/><g class=\"funnelarealayer\"/><g class=\"pielayer\"/><g class=\"iciclelayer\"/><g class=\"treemaplayer\"/><g class=\"sunburstlayer\"/><g class=\"glimages\"/><defs id=\"topdefs-5e6210\"><g class=\"clips\"/></defs><g class=\"layer-above\"><g class=\"imagelayer\"/><g class=\"shapelayer\"/></g><g class=\"infolayer\"><g class=\"g-gtitle\"><text class=\"gtitle\" x=\"350\" y=\"50\" text-anchor=\"middle\" dy=\"0em\" style=\"opacity: 1; font-family: 'Open Sans', verdana, arial, sans-serif; font-size: 17px; fill: rgb(42, 63, 95); fill-opacity: 1; white-space: pre;\">Average Glucose Level Distribution by Stroke</text></g><g class=\"g-xtitle\"><text class=\"xtitle\" x=\"201.5\" y=\"460.3\" text-anchor=\"middle\" style=\"opacity: 1; font-family: 'Open Sans', verdana, arial, sans-serif; font-size: 14px; fill: rgb(42, 63, 95); fill-opacity: 1; white-space: pre;\">Average Glucose Level</text></g><g class=\"g-x2title\"><text class=\"x2title\" x=\"498.5\" y=\"460.3\" text-anchor=\"middle\" style=\"opacity: 1; font-family: 'Open Sans', verdana, arial, sans-serif; font-size: 14px; fill: rgb(42, 63, 95); fill-opacity: 1; white-space: pre;\">Average Glucose Level</text></g><g class=\"g-ytitle\"><text class=\"ytitle\" transform=\"rotate(-90,39.56875,260)\" x=\"39.56875\" y=\"260\" text-anchor=\"middle\" style=\"opacity: 1; font-family: 'Open Sans', verdana, arial, sans-serif; font-size: 14px; fill: rgb(42, 63, 95); fill-opacity: 1; white-space: pre;\">Count</text></g><g class=\"g-y2title\"><text class=\"y2title\" transform=\"rotate(-90,343.240625,260)\" x=\"343.240625\" y=\"260\" text-anchor=\"middle\" style=\"opacity: 1; font-family: 'Open Sans', verdana, arial, sans-serif; font-size: 14px; fill: rgb(42, 63, 95); fill-opacity: 1; white-space: pre;\">Count</text></g><g class=\"annotation\" data-index=\"0\" style=\"opacity: 1;\"><g class=\"annotation-text-g\" transform=\"rotate(0,201.5,89.5)\"><g class=\"cursor-pointer\" transform=\"translate(164,79)\"><rect class=\"bg\" x=\"0.5\" y=\"0.5\" width=\"74\" height=\"20\" style=\"stroke-width: 1px; stroke: rgb(0, 0, 0); stroke-opacity: 0; fill: rgb(0, 0, 0); fill-opacity: 0;\"/><text class=\"annotation-text\" text-anchor=\"middle\" x=\"37.5703125\" y=\"16\" style=\"font-family: 'Open Sans', verdana, arial, sans-serif; font-size: 16px; fill: rgb(42, 63, 95); fill-opacity: 1; white-space: pre;\">No Stroke</text></g></g></g><g class=\"annotation\" data-index=\"1\" style=\"opacity: 1;\"><g class=\"annotation-text-g\" transform=\"rotate(0,498.5,89.5)\"><g class=\"cursor-pointer\" transform=\"translate(458,79)\"><rect class=\"bg\" x=\"0.5\" y=\"0.5\" width=\"80\" height=\"20\" style=\"stroke-width: 1px; stroke: rgb(0, 0, 0); stroke-opacity: 0; fill: rgb(0, 0, 0); fill-opacity: 0;\"/><text class=\"annotation-text\" text-anchor=\"middle\" x=\"40.3984375\" y=\"16\" style=\"font-family: 'Open Sans', verdana, arial, sans-serif; font-size: 16px; fill: rgb(42, 63, 95); fill-opacity: 1; white-space: pre;\">Yes Stroke</text></g></g></g></g></svg>"
      ]
     },
     "metadata": {},
     "output_type": "display_data"
    }
   ],
   "source": [
    "fig = custom_histograms('avg_glucose_level', ['Average Glucose Level Distribution by Stroke', 'Average Glucose Level'])\n",
    "fig.show('svg')"
   ]
  },
  {
   "cell_type": "raw",
   "id": "d60957e3-66a7-4459-8574-e4f95b30ab9b",
   "metadata": {},
   "source": [
    "** Age Analysis **"
   ]
  },
  {
   "cell_type": "code",
   "execution_count": 21,
   "id": "e5a9fa77-0333-4993-ba36-58bd27c39d5f",
   "metadata": {},
   "outputs": [
    {
     "data": {
      "image/svg+xml": [
       "<svg class=\"main-svg\" xmlns=\"http://www.w3.org/2000/svg\" xmlns:xlink=\"http://www.w3.org/1999/xlink\" width=\"700\" height=\"500\" style=\"\" viewBox=\"0 0 700 500\"><rect x=\"0\" y=\"0\" width=\"700\" height=\"500\" style=\"fill: rgb(255, 255, 255); fill-opacity: 1;\"/><defs id=\"defs-1e9a8e\"><g class=\"clips\"><clipPath id=\"clip1e9a8exyplot\" class=\"plotclip\"><rect width=\"243\" height=\"320\"/></clipPath><clipPath id=\"clip1e9a8ex2y2plot\" class=\"plotclip\"><rect width=\"242.99999999999997\" height=\"320\"/></clipPath><clipPath class=\"axesclip\" id=\"clip1e9a8ex\"><rect x=\"80\" y=\"0\" width=\"243\" height=\"500\"/></clipPath><clipPath class=\"axesclip\" id=\"clip1e9a8ey\"><rect x=\"0\" y=\"100\" width=\"700\" height=\"320\"/></clipPath><clipPath class=\"axesclip\" id=\"clip1e9a8exy\"><rect x=\"80\" y=\"100\" width=\"243\" height=\"320\"/></clipPath><clipPath class=\"axesclip\" id=\"clip1e9a8ey2\"><rect x=\"0\" y=\"100\" width=\"700\" height=\"320\"/></clipPath><clipPath class=\"axesclip\" id=\"clip1e9a8exy2\"><rect x=\"80\" y=\"100\" width=\"243\" height=\"320\"/></clipPath><clipPath class=\"axesclip\" id=\"clip1e9a8ex2\"><rect x=\"377\" y=\"0\" width=\"242.99999999999997\" height=\"500\"/></clipPath><clipPath class=\"axesclip\" id=\"clip1e9a8ex2y\"><rect x=\"377\" y=\"100\" width=\"242.99999999999997\" height=\"320\"/></clipPath><clipPath class=\"axesclip\" id=\"clip1e9a8ex2y2\"><rect x=\"377\" y=\"100\" width=\"242.99999999999997\" height=\"320\"/></clipPath></g><g class=\"gradients\"/><g class=\"patterns\"/></defs><g class=\"bglayer\"><rect class=\"bg\" x=\"80\" y=\"100\" width=\"243\" height=\"320\" style=\"fill: rgb(229, 236, 246); fill-opacity: 1; stroke-width: 0;\"/><rect class=\"bg\" x=\"377\" y=\"100\" width=\"242.99999999999997\" height=\"320\" style=\"fill: rgb(229, 236, 246); fill-opacity: 1; stroke-width: 0;\"/></g><g class=\"layer-below\"><g class=\"imagelayer\"/><g class=\"shapelayer\"/></g><g class=\"cartesianlayer\"><g class=\"subplot xy\"><g class=\"layer-subplot\"><g class=\"shapelayer\"/><g class=\"imagelayer\"/></g><g class=\"minor-gridlayer\"><g class=\"x\"/><g class=\"y\"/></g><g class=\"gridlayer\"><g class=\"x\"/><g class=\"y\"><path class=\"ygrid crisp\" transform=\"translate(0,382.24)\" d=\"M80,0h243\" style=\"stroke: rgb(255, 255, 255); stroke-opacity: 1; stroke-width: 1px;\"/><path class=\"ygrid crisp\" transform=\"translate(0,344.47)\" d=\"M80,0h243\" style=\"stroke: rgb(255, 255, 255); stroke-opacity: 1; stroke-width: 1px;\"/><path class=\"ygrid crisp\" transform=\"translate(0,306.71000000000004)\" d=\"M80,0h243\" style=\"stroke: rgb(255, 255, 255); stroke-opacity: 1; stroke-width: 1px;\"/><path class=\"ygrid crisp\" transform=\"translate(0,268.94)\" d=\"M80,0h243\" style=\"stroke: rgb(255, 255, 255); stroke-opacity: 1; stroke-width: 1px;\"/><path class=\"ygrid crisp\" transform=\"translate(0,231.18)\" d=\"M80,0h243\" style=\"stroke: rgb(255, 255, 255); stroke-opacity: 1; stroke-width: 1px;\"/><path class=\"ygrid crisp\" transform=\"translate(0,193.42000000000002)\" d=\"M80,0h243\" style=\"stroke: rgb(255, 255, 255); stroke-opacity: 1; stroke-width: 1px;\"/><path class=\"ygrid crisp\" transform=\"translate(0,155.65)\" d=\"M80,0h243\" style=\"stroke: rgb(255, 255, 255); stroke-opacity: 1; stroke-width: 1px;\"/><path class=\"ygrid crisp\" transform=\"translate(0,117.89)\" d=\"M80,0h243\" style=\"stroke: rgb(255, 255, 255); stroke-opacity: 1; stroke-width: 1px;\"/></g></g><g class=\"zerolinelayer\"><path class=\"yzl zl crisp\" transform=\"translate(0,420)\" d=\"M80,0h243\" style=\"stroke: rgb(255, 255, 255); stroke-opacity: 1; stroke-width: 2px;\"/></g><g class=\"layer-between\"><g class=\"shapelayer\"/><g class=\"imagelayer\"/></g><path class=\"xlines-below\"/><path class=\"ylines-below\"/><g class=\"overlines-below\"/><g class=\"xaxislayer-below\"/><g class=\"yaxislayer-below\"/><g class=\"overaxes-below\"/><g class=\"overplot\"><g class=\"xy\" transform=\"translate(80,100)\" clip-path=\"url(#clip1e9a8exyplot)\"><g class=\"barlayer mlayer\"><g class=\"trace bars\" shape-rendering=\"crispEdges\" style=\"opacity: 1;\"><g class=\"points\"><g class=\"point\"><path d=\"M0,320V106.63H5.79V320Z\" style=\"vector-effect: none; opacity: 1; stroke-width: 0px; fill: rgb(0, 128, 128); fill-opacity: 1;\"/></g><g class=\"point\"><path d=\"M5.79,320V131.18H11.57V320Z\" style=\"vector-effect: none; opacity: 1; stroke-width: 0px; fill: rgb(0, 128, 128); fill-opacity: 1;\"/></g><g class=\"point\"><path d=\"M11.57,320V140.62H17.36V320Z\" style=\"vector-effect: none; opacity: 1; stroke-width: 0px; fill: rgb(0, 128, 128); fill-opacity: 1;\"/></g><g class=\"point\"><path d=\"M17.36,320V214.26H23.14V320Z\" style=\"vector-effect: none; opacity: 1; stroke-width: 0px; fill: rgb(0, 128, 128); fill-opacity: 1;\"/></g><g class=\"point\"><path d=\"M23.14,320V142.51H28.93V320Z\" style=\"vector-effect: none; opacity: 1; stroke-width: 0px; fill: rgb(0, 128, 128); fill-opacity: 1;\"/></g><g class=\"point\"><path d=\"M28.93,320V187.83H34.71V320Z\" style=\"vector-effect: none; opacity: 1; stroke-width: 0px; fill: rgb(0, 128, 128); fill-opacity: 1;\"/></g><g class=\"point\"><path d=\"M34.71,320V133.07H40.5V320Z\" style=\"vector-effect: none; opacity: 1; stroke-width: 0px; fill: rgb(0, 128, 128); fill-opacity: 1;\"/></g><g class=\"point\"><path d=\"M40.5,320V144.4H46.29V320Z\" style=\"vector-effect: none; opacity: 1; stroke-width: 0px; fill: rgb(0, 128, 128); fill-opacity: 1;\"/></g><g class=\"point\"><path d=\"M46.29,320V129.29H52.07V320Z\" style=\"vector-effect: none; opacity: 1; stroke-width: 0px; fill: rgb(0, 128, 128); fill-opacity: 1;\"/></g><g class=\"point\"><path d=\"M52.07,320V119.85H57.86V320Z\" style=\"vector-effect: none; opacity: 1; stroke-width: 0px; fill: rgb(0, 128, 128); fill-opacity: 1;\"/></g><g class=\"point\"><path d=\"M57.86,320V121.74H63.64V320Z\" style=\"vector-effect: none; opacity: 1; stroke-width: 0px; fill: rgb(0, 128, 128); fill-opacity: 1;\"/></g><g class=\"point\"><path d=\"M63.64,320V119.85H69.43V320Z\" style=\"vector-effect: none; opacity: 1; stroke-width: 0px; fill: rgb(0, 128, 128); fill-opacity: 1;\"/></g><g class=\"point\"><path d=\"M69.43,320V114.19H75.21V320Z\" style=\"vector-effect: none; opacity: 1; stroke-width: 0px; fill: rgb(0, 128, 128); fill-opacity: 1;\"/></g><g class=\"point\"><path d=\"M75.21,320V104.75H81V320Z\" style=\"vector-effect: none; opacity: 1; stroke-width: 0px; fill: rgb(0, 128, 128); fill-opacity: 1;\"/></g><g class=\"point\"><path d=\"M81,320V125.52H86.79V320Z\" style=\"vector-effect: none; opacity: 1; stroke-width: 0px; fill: rgb(0, 128, 128); fill-opacity: 1;\"/></g><g class=\"point\"><path d=\"M86.79,320V76.42H92.57V320Z\" style=\"vector-effect: none; opacity: 1; stroke-width: 0px; fill: rgb(0, 128, 128); fill-opacity: 1;\"/></g><g class=\"point\"><path d=\"M92.57,320V83.98H98.36V320Z\" style=\"vector-effect: none; opacity: 1; stroke-width: 0px; fill: rgb(0, 128, 128); fill-opacity: 1;\"/></g><g class=\"point\"><path d=\"M98.36,320V93.42H104.14V320Z\" style=\"vector-effect: none; opacity: 1; stroke-width: 0px; fill: rgb(0, 128, 128); fill-opacity: 1;\"/></g><g class=\"point\"><path d=\"M104.14,320V83.98H109.93V320Z\" style=\"vector-effect: none; opacity: 1; stroke-width: 0px; fill: rgb(0, 128, 128); fill-opacity: 1;\"/></g><g class=\"point\"><path d=\"M109.93,320V65.09H115.71V320Z\" style=\"vector-effect: none; opacity: 1; stroke-width: 0px; fill: rgb(0, 128, 128); fill-opacity: 1;\"/></g><g class=\"point\"><path d=\"M115.71,320V49.99H121.5V320Z\" style=\"vector-effect: none; opacity: 1; stroke-width: 0px; fill: rgb(0, 128, 128); fill-opacity: 1;\"/></g><g class=\"point\"><path d=\"M121.5,320V72.65H127.29V320Z\" style=\"vector-effect: none; opacity: 1; stroke-width: 0px; fill: rgb(0, 128, 128); fill-opacity: 1;\"/></g><g class=\"point\"><path d=\"M127.29,320V29.22H133.07V320Z\" style=\"vector-effect: none; opacity: 1; stroke-width: 0px; fill: rgb(0, 128, 128); fill-opacity: 1;\"/></g><g class=\"point\"><path d=\"M133.07,320V74.53H138.86V320Z\" style=\"vector-effect: none; opacity: 1; stroke-width: 0px; fill: rgb(0, 128, 128); fill-opacity: 1;\"/></g><g class=\"point\"><path d=\"M138.86,320V68.87H144.64V320Z\" style=\"vector-effect: none; opacity: 1; stroke-width: 0px; fill: rgb(0, 128, 128); fill-opacity: 1;\"/></g><g class=\"point\"><path d=\"M144.64,320V23.55H150.43V320Z\" style=\"vector-effect: none; opacity: 1; stroke-width: 0px; fill: rgb(0, 128, 128); fill-opacity: 1;\"/></g><g class=\"point\"><path d=\"M150.43,320V16H156.21V320Z\" style=\"vector-effect: none; opacity: 1; stroke-width: 0px; fill: rgb(0, 128, 128); fill-opacity: 1;\"/></g><g class=\"point\"><path d=\"M156.21,320V19.78H162V320Z\" style=\"vector-effect: none; opacity: 1; stroke-width: 0px; fill: rgb(0, 128, 128); fill-opacity: 1;\"/></g><g class=\"point\"><path d=\"M162,320V31.11H167.79V320Z\" style=\"vector-effect: none; opacity: 1; stroke-width: 0px; fill: rgb(0, 128, 128); fill-opacity: 1;\"/></g><g class=\"point\"><path d=\"M167.79,320V76.42H173.57V320Z\" style=\"vector-effect: none; opacity: 1; stroke-width: 0px; fill: rgb(0, 128, 128); fill-opacity: 1;\"/></g><g class=\"point\"><path d=\"M173.57,320V61.32H179.36V320Z\" style=\"vector-effect: none; opacity: 1; stroke-width: 0px; fill: rgb(0, 128, 128); fill-opacity: 1;\"/></g><g class=\"point\"><path d=\"M179.36,320V61.32H185.14V320Z\" style=\"vector-effect: none; opacity: 1; stroke-width: 0px; fill: rgb(0, 128, 128); fill-opacity: 1;\"/></g><g class=\"point\"><path d=\"M185.14,320V116.07H190.93V320Z\" style=\"vector-effect: none; opacity: 1; stroke-width: 0px; fill: rgb(0, 128, 128); fill-opacity: 1;\"/></g><g class=\"point\"><path d=\"M190.93,320V131.18H196.71V320Z\" style=\"vector-effect: none; opacity: 1; stroke-width: 0px; fill: rgb(0, 128, 128); fill-opacity: 1;\"/></g><g class=\"point\"><path d=\"M196.71,320V159.5H202.5V320Z\" style=\"vector-effect: none; opacity: 1; stroke-width: 0px; fill: rgb(0, 128, 128); fill-opacity: 1;\"/></g><g class=\"point\"><path d=\"M202.5,320V144.4H208.29V320Z\" style=\"vector-effect: none; opacity: 1; stroke-width: 0px; fill: rgb(0, 128, 128); fill-opacity: 1;\"/></g><g class=\"point\"><path d=\"M208.29,320V168.94H214.07V320Z\" style=\"vector-effect: none; opacity: 1; stroke-width: 0px; fill: rgb(0, 128, 128); fill-opacity: 1;\"/></g><g class=\"point\"><path d=\"M214.07,320V174.61H219.86V320Z\" style=\"vector-effect: none; opacity: 1; stroke-width: 0px; fill: rgb(0, 128, 128); fill-opacity: 1;\"/></g><g class=\"point\"><path d=\"M219.86,320V180.27H225.64V320Z\" style=\"vector-effect: none; opacity: 1; stroke-width: 0px; fill: rgb(0, 128, 128); fill-opacity: 1;\"/></g><g class=\"point\"><path d=\"M225.64,320V40.55H231.43V320Z\" style=\"vector-effect: none; opacity: 1; stroke-width: 0px; fill: rgb(0, 128, 128); fill-opacity: 1;\"/></g><g class=\"point\"><path d=\"M231.43,320V133.07H237.21V320Z\" style=\"vector-effect: none; opacity: 1; stroke-width: 0px; fill: rgb(0, 128, 128); fill-opacity: 1;\"/></g><g class=\"point\"><path d=\"M237.21,320V231.25H243V320Z\" style=\"vector-effect: none; opacity: 1; stroke-width: 0px; fill: rgb(0, 128, 128); fill-opacity: 1;\"/></g></g></g></g></g></g><path class=\"xlines-above crisp\" d=\"M0,0\" style=\"fill: none;\"/><path class=\"ylines-above crisp\" d=\"M0,0\" style=\"fill: none;\"/><g class=\"overlines-above\"/><g class=\"xaxislayer-above\"><g class=\"xtick\"><text text-anchor=\"middle\" x=\"0\" y=\"433\" transform=\"translate(80,0)\" style=\"font-family: 'Open Sans', verdana, arial, sans-serif; font-size: 12px; fill: rgb(42, 63, 95); fill-opacity: 1; white-space: pre; opacity: 1;\">0</text></g><g class=\"xtick\"><text text-anchor=\"middle\" x=\"0\" y=\"433\" style=\"font-family: 'Open Sans', verdana, arial, sans-serif; font-size: 12px; fill: rgb(42, 63, 95); fill-opacity: 1; white-space: pre; opacity: 1;\" transform=\"translate(137.86,0)\">20</text></g><g class=\"xtick\"><text text-anchor=\"middle\" x=\"0\" y=\"433\" style=\"font-family: 'Open Sans', verdana, arial, sans-serif; font-size: 12px; fill: rgb(42, 63, 95); fill-opacity: 1; white-space: pre; opacity: 1;\" transform=\"translate(195.70999999999998,0)\">40</text></g><g class=\"xtick\"><text text-anchor=\"middle\" x=\"0\" y=\"433\" style=\"font-family: 'Open Sans', verdana, arial, sans-serif; font-size: 12px; fill: rgb(42, 63, 95); fill-opacity: 1; white-space: pre; opacity: 1;\" transform=\"translate(253.57,0)\">60</text></g><g class=\"xtick\"><text text-anchor=\"middle\" x=\"0\" y=\"433\" style=\"font-family: 'Open Sans', verdana, arial, sans-serif; font-size: 12px; fill: rgb(42, 63, 95); fill-opacity: 1; white-space: pre; opacity: 1;\" transform=\"translate(311.43,0)\">80</text></g></g><g class=\"yaxislayer-above\"><g class=\"ytick\"><text text-anchor=\"end\" x=\"79\" y=\"4.199999999999999\" transform=\"translate(0,420)\" style=\"font-family: 'Open Sans', verdana, arial, sans-serif; font-size: 12px; fill: rgb(42, 63, 95); fill-opacity: 1; white-space: pre; opacity: 1;\">0</text></g><g class=\"ytick\"><text text-anchor=\"end\" x=\"79\" y=\"4.199999999999999\" style=\"font-family: 'Open Sans', verdana, arial, sans-serif; font-size: 12px; fill: rgb(42, 63, 95); fill-opacity: 1; white-space: pre; opacity: 1;\" transform=\"translate(0,382.24)\">20</text></g><g class=\"ytick\"><text text-anchor=\"end\" x=\"79\" y=\"4.199999999999999\" style=\"font-family: 'Open Sans', verdana, arial, sans-serif; font-size: 12px; fill: rgb(42, 63, 95); fill-opacity: 1; white-space: pre; opacity: 1;\" transform=\"translate(0,344.47)\">40</text></g><g class=\"ytick\"><text text-anchor=\"end\" x=\"79\" y=\"4.199999999999999\" style=\"font-family: 'Open Sans', verdana, arial, sans-serif; font-size: 12px; fill: rgb(42, 63, 95); fill-opacity: 1; white-space: pre; opacity: 1;\" transform=\"translate(0,306.71000000000004)\">60</text></g><g class=\"ytick\"><text text-anchor=\"end\" x=\"79\" y=\"4.199999999999999\" style=\"font-family: 'Open Sans', verdana, arial, sans-serif; font-size: 12px; fill: rgb(42, 63, 95); fill-opacity: 1; white-space: pre; opacity: 1;\" transform=\"translate(0,268.94)\">80</text></g><g class=\"ytick\"><text text-anchor=\"end\" x=\"79\" y=\"4.199999999999999\" style=\"font-family: 'Open Sans', verdana, arial, sans-serif; font-size: 12px; fill: rgb(42, 63, 95); fill-opacity: 1; white-space: pre; opacity: 1;\" transform=\"translate(0,231.18)\">100</text></g><g class=\"ytick\"><text text-anchor=\"end\" x=\"79\" y=\"4.199999999999999\" style=\"font-family: 'Open Sans', verdana, arial, sans-serif; font-size: 12px; fill: rgb(42, 63, 95); fill-opacity: 1; white-space: pre; opacity: 1;\" transform=\"translate(0,193.42000000000002)\">120</text></g><g class=\"ytick\"><text text-anchor=\"end\" x=\"79\" y=\"4.199999999999999\" style=\"font-family: 'Open Sans', verdana, arial, sans-serif; font-size: 12px; fill: rgb(42, 63, 95); fill-opacity: 1; white-space: pre; opacity: 1;\" transform=\"translate(0,155.65)\">140</text></g><g class=\"ytick\"><text text-anchor=\"end\" x=\"79\" y=\"4.199999999999999\" style=\"font-family: 'Open Sans', verdana, arial, sans-serif; font-size: 12px; fill: rgb(42, 63, 95); fill-opacity: 1; white-space: pre; opacity: 1;\" transform=\"translate(0,117.89)\">160</text></g></g><g class=\"overaxes-above\"/></g><g class=\"subplot x2y2\"><g class=\"layer-subplot\"><g class=\"shapelayer\"/><g class=\"imagelayer\"/></g><g class=\"minor-gridlayer\"><g class=\"x2\"/><g class=\"y2\"/></g><g class=\"gridlayer\"><g class=\"x2\"/><g class=\"y2\"><path class=\"y2grid crisp\" transform=\"translate(0,380)\" d=\"M377,0h242.99999999999997\" style=\"stroke: rgb(255, 255, 255); stroke-opacity: 1; stroke-width: 1px;\"/><path class=\"y2grid crisp\" transform=\"translate(0,340)\" d=\"M377,0h242.99999999999997\" style=\"stroke: rgb(255, 255, 255); stroke-opacity: 1; stroke-width: 1px;\"/><path class=\"y2grid crisp\" transform=\"translate(0,300)\" d=\"M377,0h242.99999999999997\" style=\"stroke: rgb(255, 255, 255); stroke-opacity: 1; stroke-width: 1px;\"/><path class=\"y2grid crisp\" transform=\"translate(0,260)\" d=\"M377,0h242.99999999999997\" style=\"stroke: rgb(255, 255, 255); stroke-opacity: 1; stroke-width: 1px;\"/><path class=\"y2grid crisp\" transform=\"translate(0,220)\" d=\"M377,0h242.99999999999997\" style=\"stroke: rgb(255, 255, 255); stroke-opacity: 1; stroke-width: 1px;\"/><path class=\"y2grid crisp\" transform=\"translate(0,180)\" d=\"M377,0h242.99999999999997\" style=\"stroke: rgb(255, 255, 255); stroke-opacity: 1; stroke-width: 1px;\"/><path class=\"y2grid crisp\" transform=\"translate(0,140)\" d=\"M377,0h242.99999999999997\" style=\"stroke: rgb(255, 255, 255); stroke-opacity: 1; stroke-width: 1px;\"/></g></g><g class=\"zerolinelayer\"><path class=\"y2zl zl crisp\" transform=\"translate(0,420)\" d=\"M377,0h242.99999999999997\" style=\"stroke: rgb(255, 255, 255); stroke-opacity: 1; stroke-width: 2px;\"/></g><g class=\"layer-between\"><g class=\"shapelayer\"/><g class=\"imagelayer\"/></g><path class=\"xlines-below\"/><path class=\"ylines-below\"/><g class=\"overlines-below\"/><g class=\"xaxislayer-below\"/><g class=\"yaxislayer-below\"/><g class=\"overaxes-below\"/><g class=\"overplot\"><g class=\"x2y2\" transform=\"translate(377,100)\" clip-path=\"url(#clip1e9a8ex2y2plot)\"><g class=\"barlayer mlayer\"><g class=\"trace bars\" shape-rendering=\"crispEdges\" style=\"opacity: 1;\"><g class=\"points\"><g class=\"point\"><path d=\"M0,320V312H5.79V320Z\" style=\"vector-effect: none; opacity: 1; stroke-width: 0px; fill: rgb(0, 0, 0); fill-opacity: 1;\"/></g><g class=\"point\"><path d=\"M0,0Z\" style=\"vector-effect: none; opacity: 1; stroke-width: 0px; fill: rgb(0, 0, 0); fill-opacity: 1;\"/></g><g class=\"point\"><path d=\"M0,0Z\" style=\"vector-effect: none; opacity: 1; stroke-width: 0px; fill: rgb(0, 0, 0); fill-opacity: 1;\"/></g><g class=\"point\"><path d=\"M0,0Z\" style=\"vector-effect: none; opacity: 1; stroke-width: 0px; fill: rgb(0, 0, 0); fill-opacity: 1;\"/></g><g class=\"point\"><path d=\"M0,0Z\" style=\"vector-effect: none; opacity: 1; stroke-width: 0px; fill: rgb(0, 0, 0); fill-opacity: 1;\"/></g><g class=\"point\"><path d=\"M0,0Z\" style=\"vector-effect: none; opacity: 1; stroke-width: 0px; fill: rgb(0, 0, 0); fill-opacity: 1;\"/></g><g class=\"point\"><path d=\"M0,0Z\" style=\"vector-effect: none; opacity: 1; stroke-width: 0px; fill: rgb(0, 0, 0); fill-opacity: 1;\"/></g><g class=\"point\"><path d=\"M40.5,320V312H46.29V320Z\" style=\"vector-effect: none; opacity: 1; stroke-width: 0px; fill: rgb(0, 0, 0); fill-opacity: 1;\"/></g><g class=\"point\"><path d=\"M0,0Z\" style=\"vector-effect: none; opacity: 1; stroke-width: 0px; fill: rgb(0, 0, 0); fill-opacity: 1;\"/></g><g class=\"point\"><path d=\"M0,0Z\" style=\"vector-effect: none; opacity: 1; stroke-width: 0px; fill: rgb(0, 0, 0); fill-opacity: 1;\"/></g><g class=\"point\"><path d=\"M0,0Z\" style=\"vector-effect: none; opacity: 1; stroke-width: 0px; fill: rgb(0, 0, 0); fill-opacity: 1;\"/></g><g class=\"point\"><path d=\"M0,0Z\" style=\"vector-effect: none; opacity: 1; stroke-width: 0px; fill: rgb(0, 0, 0); fill-opacity: 1;\"/></g><g class=\"point\"><path d=\"M0,0Z\" style=\"vector-effect: none; opacity: 1; stroke-width: 0px; fill: rgb(0, 0, 0); fill-opacity: 1;\"/></g><g class=\"point\"><path d=\"M0,0Z\" style=\"vector-effect: none; opacity: 1; stroke-width: 0px; fill: rgb(0, 0, 0); fill-opacity: 1;\"/></g><g class=\"point\"><path d=\"M0,0Z\" style=\"vector-effect: none; opacity: 1; stroke-width: 0px; fill: rgb(0, 0, 0); fill-opacity: 1;\"/></g><g class=\"point\"><path d=\"M0,0Z\" style=\"vector-effect: none; opacity: 1; stroke-width: 0px; fill: rgb(0, 0, 0); fill-opacity: 1;\"/></g><g class=\"point\"><path d=\"M92.57,320V312H98.36V320Z\" style=\"vector-effect: none; opacity: 1; stroke-width: 0px; fill: rgb(0, 0, 0); fill-opacity: 1;\"/></g><g class=\"point\"><path d=\"M0,0Z\" style=\"vector-effect: none; opacity: 1; stroke-width: 0px; fill: rgb(0, 0, 0); fill-opacity: 1;\"/></g><g class=\"point\"><path d=\"M0,0Z\" style=\"vector-effect: none; opacity: 1; stroke-width: 0px; fill: rgb(0, 0, 0); fill-opacity: 1;\"/></g><g class=\"point\"><path d=\"M109.93,320V280H115.71V320Z\" style=\"vector-effect: none; opacity: 1; stroke-width: 0px; fill: rgb(0, 0, 0); fill-opacity: 1;\"/></g><g class=\"point\"><path d=\"M0,0Z\" style=\"vector-effect: none; opacity: 1; stroke-width: 0px; fill: rgb(0, 0, 0); fill-opacity: 1;\"/></g><g class=\"point\"><path d=\"M121.5,320V304H127.29V320Z\" style=\"vector-effect: none; opacity: 1; stroke-width: 0px; fill: rgb(0, 0, 0); fill-opacity: 1;\"/></g><g class=\"point\"><path d=\"M127.29,320V304H133.07V320Z\" style=\"vector-effect: none; opacity: 1; stroke-width: 0px; fill: rgb(0, 0, 0); fill-opacity: 1;\"/></g><g class=\"point\"><path d=\"M133.07,320V304H138.86V320Z\" style=\"vector-effect: none; opacity: 1; stroke-width: 0px; fill: rgb(0, 0, 0); fill-opacity: 1;\"/></g><g class=\"point\"><path d=\"M138.86,320V280H144.64V320Z\" style=\"vector-effect: none; opacity: 1; stroke-width: 0px; fill: rgb(0, 0, 0); fill-opacity: 1;\"/></g><g class=\"point\"><path d=\"M144.64,320V264H150.43V320Z\" style=\"vector-effect: none; opacity: 1; stroke-width: 0px; fill: rgb(0, 0, 0); fill-opacity: 1;\"/></g><g class=\"point\"><path d=\"M150.43,320V288H156.21V320Z\" style=\"vector-effect: none; opacity: 1; stroke-width: 0px; fill: rgb(0, 0, 0); fill-opacity: 1;\"/></g><g class=\"point\"><path d=\"M156.21,320V256H162V320Z\" style=\"vector-effect: none; opacity: 1; stroke-width: 0px; fill: rgb(0, 0, 0); fill-opacity: 1;\"/></g><g class=\"point\"><path d=\"M162,320V208H167.79V320Z\" style=\"vector-effect: none; opacity: 1; stroke-width: 0px; fill: rgb(0, 0, 0); fill-opacity: 1;\"/></g><g class=\"point\"><path d=\"M167.79,320V200H173.57V320Z\" style=\"vector-effect: none; opacity: 1; stroke-width: 0px; fill: rgb(0, 0, 0); fill-opacity: 1;\"/></g><g class=\"point\"><path d=\"M173.57,320V240H179.36V320Z\" style=\"vector-effect: none; opacity: 1; stroke-width: 0px; fill: rgb(0, 0, 0); fill-opacity: 1;\"/></g><g class=\"point\"><path d=\"M179.36,320V248H185.14V320Z\" style=\"vector-effect: none; opacity: 1; stroke-width: 0px; fill: rgb(0, 0, 0); fill-opacity: 1;\"/></g><g class=\"point\"><path d=\"M185.14,320V272H190.93V320Z\" style=\"vector-effect: none; opacity: 1; stroke-width: 0px; fill: rgb(0, 0, 0); fill-opacity: 1;\"/></g><g class=\"point\"><path d=\"M190.93,320V264H196.71V320Z\" style=\"vector-effect: none; opacity: 1; stroke-width: 0px; fill: rgb(0, 0, 0); fill-opacity: 1;\"/></g><g class=\"point\"><path d=\"M196.71,320V200H202.5V320Z\" style=\"vector-effect: none; opacity: 1; stroke-width: 0px; fill: rgb(0, 0, 0); fill-opacity: 1;\"/></g><g class=\"point\"><path d=\"M202.5,320V216H208.29V320Z\" style=\"vector-effect: none; opacity: 1; stroke-width: 0px; fill: rgb(0, 0, 0); fill-opacity: 1;\"/></g><g class=\"point\"><path d=\"M208.29,320V240H214.07V320Z\" style=\"vector-effect: none; opacity: 1; stroke-width: 0px; fill: rgb(0, 0, 0); fill-opacity: 1;\"/></g><g class=\"point\"><path d=\"M214.07,320V200H219.86V320Z\" style=\"vector-effect: none; opacity: 1; stroke-width: 0px; fill: rgb(0, 0, 0); fill-opacity: 1;\"/></g><g class=\"point\"><path d=\"M219.86,320V176H225.64V320Z\" style=\"vector-effect: none; opacity: 1; stroke-width: 0px; fill: rgb(0, 0, 0); fill-opacity: 1;\"/></g><g class=\"point\"><path d=\"M225.64,320V16H231.43V320Z\" style=\"vector-effect: none; opacity: 1; stroke-width: 0px; fill: rgb(0, 0, 0); fill-opacity: 1;\"/></g><g class=\"point\"><path d=\"M231.43,320V72H237.21V320Z\" style=\"vector-effect: none; opacity: 1; stroke-width: 0px; fill: rgb(0, 0, 0); fill-opacity: 1;\"/></g><g class=\"point\"><path d=\"M237.21,320V248H243V320Z\" style=\"vector-effect: none; opacity: 1; stroke-width: 0px; fill: rgb(0, 0, 0); fill-opacity: 1;\"/></g></g></g></g></g></g><path class=\"xlines-above crisp\" d=\"M0,0\" style=\"fill: none;\"/><path class=\"ylines-above crisp\" d=\"M0,0\" style=\"fill: none;\"/><g class=\"overlines-above\"/><g class=\"xaxislayer-above\"><g class=\"x2tick\"><text text-anchor=\"middle\" x=\"0\" y=\"433\" transform=\"translate(377,0)\" style=\"font-family: 'Open Sans', verdana, arial, sans-serif; font-size: 12px; fill: rgb(42, 63, 95); fill-opacity: 1; white-space: pre; opacity: 1;\">0</text></g><g class=\"x2tick\"><text text-anchor=\"middle\" x=\"0\" y=\"433\" style=\"font-family: 'Open Sans', verdana, arial, sans-serif; font-size: 12px; fill: rgb(42, 63, 95); fill-opacity: 1; white-space: pre; opacity: 1;\" transform=\"translate(434.86,0)\">20</text></g><g class=\"x2tick\"><text text-anchor=\"middle\" x=\"0\" y=\"433\" style=\"font-family: 'Open Sans', verdana, arial, sans-serif; font-size: 12px; fill: rgb(42, 63, 95); fill-opacity: 1; white-space: pre; opacity: 1;\" transform=\"translate(492.71,0)\">40</text></g><g class=\"x2tick\"><text text-anchor=\"middle\" x=\"0\" y=\"433\" style=\"font-family: 'Open Sans', verdana, arial, sans-serif; font-size: 12px; fill: rgb(42, 63, 95); fill-opacity: 1; white-space: pre; opacity: 1;\" transform=\"translate(550.5699999999999,0)\">60</text></g><g class=\"x2tick\"><text text-anchor=\"middle\" x=\"0\" y=\"433\" style=\"font-family: 'Open Sans', verdana, arial, sans-serif; font-size: 12px; fill: rgb(42, 63, 95); fill-opacity: 1; white-space: pre; opacity: 1;\" transform=\"translate(608.4300000000001,0)\">80</text></g></g><g class=\"yaxislayer-above\"><g class=\"y2tick\"><text text-anchor=\"end\" x=\"376\" y=\"4.199999999999999\" transform=\"translate(0,420)\" style=\"font-family: 'Open Sans', verdana, arial, sans-serif; font-size: 12px; fill: rgb(42, 63, 95); fill-opacity: 1; white-space: pre; opacity: 1;\">0</text></g><g class=\"y2tick\"><text text-anchor=\"end\" x=\"376\" y=\"4.199999999999999\" style=\"font-family: 'Open Sans', verdana, arial, sans-serif; font-size: 12px; fill: rgb(42, 63, 95); fill-opacity: 1; white-space: pre; opacity: 1;\" transform=\"translate(0,380)\">5</text></g><g class=\"y2tick\"><text text-anchor=\"end\" x=\"376\" y=\"4.199999999999999\" style=\"font-family: 'Open Sans', verdana, arial, sans-serif; font-size: 12px; fill: rgb(42, 63, 95); fill-opacity: 1; white-space: pre; opacity: 1;\" transform=\"translate(0,340)\">10</text></g><g class=\"y2tick\"><text text-anchor=\"end\" x=\"376\" y=\"4.199999999999999\" style=\"font-family: 'Open Sans', verdana, arial, sans-serif; font-size: 12px; fill: rgb(42, 63, 95); fill-opacity: 1; white-space: pre; opacity: 1;\" transform=\"translate(0,300)\">15</text></g><g class=\"y2tick\"><text text-anchor=\"end\" x=\"376\" y=\"4.199999999999999\" style=\"font-family: 'Open Sans', verdana, arial, sans-serif; font-size: 12px; fill: rgb(42, 63, 95); fill-opacity: 1; white-space: pre; opacity: 1;\" transform=\"translate(0,260)\">20</text></g><g class=\"y2tick\"><text text-anchor=\"end\" x=\"376\" y=\"4.199999999999999\" style=\"font-family: 'Open Sans', verdana, arial, sans-serif; font-size: 12px; fill: rgb(42, 63, 95); fill-opacity: 1; white-space: pre; opacity: 1;\" transform=\"translate(0,220)\">25</text></g><g class=\"y2tick\"><text text-anchor=\"end\" x=\"376\" y=\"4.199999999999999\" style=\"font-family: 'Open Sans', verdana, arial, sans-serif; font-size: 12px; fill: rgb(42, 63, 95); fill-opacity: 1; white-space: pre; opacity: 1;\" transform=\"translate(0,180)\">30</text></g><g class=\"y2tick\"><text text-anchor=\"end\" x=\"376\" y=\"4.199999999999999\" style=\"font-family: 'Open Sans', verdana, arial, sans-serif; font-size: 12px; fill: rgb(42, 63, 95); fill-opacity: 1; white-space: pre; opacity: 1;\" transform=\"translate(0,140)\">35</text></g><g class=\"y2tick\"><text text-anchor=\"end\" x=\"376\" y=\"4.199999999999999\" style=\"font-family: 'Open Sans', verdana, arial, sans-serif; font-size: 12px; fill: rgb(42, 63, 95); fill-opacity: 1; white-space: pre; opacity: 1;\" transform=\"translate(0,100)\">40</text></g></g><g class=\"overaxes-above\"/></g></g><g class=\"polarlayer\"/><g class=\"smithlayer\"/><g class=\"ternarylayer\"/><g class=\"geolayer\"/><g class=\"funnelarealayer\"/><g class=\"pielayer\"/><g class=\"iciclelayer\"/><g class=\"treemaplayer\"/><g class=\"sunburstlayer\"/><g class=\"glimages\"/><defs id=\"topdefs-1e9a8e\"><g class=\"clips\"/></defs><g class=\"layer-above\"><g class=\"imagelayer\"/><g class=\"shapelayer\"/></g><g class=\"infolayer\"><g class=\"g-gtitle\"><text class=\"gtitle\" x=\"350\" y=\"50\" text-anchor=\"middle\" dy=\"0em\" style=\"opacity: 1; font-family: 'Open Sans', verdana, arial, sans-serif; font-size: 17px; fill: rgb(42, 63, 95); fill-opacity: 1; white-space: pre;\">Age distribution by Stroke</text></g><g class=\"g-xtitle\"><text class=\"xtitle\" x=\"201.5\" y=\"460.3\" text-anchor=\"middle\" style=\"opacity: 1; font-family: 'Open Sans', verdana, arial, sans-serif; font-size: 14px; fill: rgb(42, 63, 95); fill-opacity: 1; white-space: pre;\">Age</text></g><g class=\"g-x2title\"><text class=\"x2title\" x=\"498.5\" y=\"460.3\" text-anchor=\"middle\" style=\"opacity: 1; font-family: 'Open Sans', verdana, arial, sans-serif; font-size: 14px; fill: rgb(42, 63, 95); fill-opacity: 1; white-space: pre;\">Age</text></g><g class=\"g-ytitle\"><text class=\"ytitle\" transform=\"rotate(-90,39.56875,260)\" x=\"39.56875\" y=\"260\" text-anchor=\"middle\" style=\"opacity: 1; font-family: 'Open Sans', verdana, arial, sans-serif; font-size: 14px; fill: rgb(42, 63, 95); fill-opacity: 1; white-space: pre;\">Count</text></g><g class=\"g-y2title\"><text class=\"y2title\" transform=\"rotate(-90,343.240625,260)\" x=\"343.240625\" y=\"260\" text-anchor=\"middle\" style=\"opacity: 1; font-family: 'Open Sans', verdana, arial, sans-serif; font-size: 14px; fill: rgb(42, 63, 95); fill-opacity: 1; white-space: pre;\">Count</text></g><g class=\"annotation\" data-index=\"0\" style=\"opacity: 1;\"><g class=\"annotation-text-g\" transform=\"rotate(0,201.5,89.5)\"><g class=\"cursor-pointer\" transform=\"translate(164,79)\"><rect class=\"bg\" x=\"0.5\" y=\"0.5\" width=\"74\" height=\"20\" style=\"stroke-width: 1px; stroke: rgb(0, 0, 0); stroke-opacity: 0; fill: rgb(0, 0, 0); fill-opacity: 0;\"/><text class=\"annotation-text\" text-anchor=\"middle\" x=\"37.5703125\" y=\"16\" style=\"font-family: 'Open Sans', verdana, arial, sans-serif; font-size: 16px; fill: rgb(42, 63, 95); fill-opacity: 1; white-space: pre;\">No Stroke</text></g></g></g><g class=\"annotation\" data-index=\"1\" style=\"opacity: 1;\"><g class=\"annotation-text-g\" transform=\"rotate(0,498.5,89.5)\"><g class=\"cursor-pointer\" transform=\"translate(458,79)\"><rect class=\"bg\" x=\"0.5\" y=\"0.5\" width=\"80\" height=\"20\" style=\"stroke-width: 1px; stroke: rgb(0, 0, 0); stroke-opacity: 0; fill: rgb(0, 0, 0); fill-opacity: 0;\"/><text class=\"annotation-text\" text-anchor=\"middle\" x=\"40.3984375\" y=\"16\" style=\"font-family: 'Open Sans', verdana, arial, sans-serif; font-size: 16px; fill: rgb(42, 63, 95); fill-opacity: 1; white-space: pre;\">Yes Stroke</text></g></g></g></g></svg>"
      ]
     },
     "metadata": {},
     "output_type": "display_data"
    }
   ],
   "source": [
    "fig = custom_histograms('age', ['Age distribution by Stroke', 'Age'])\n",
    "fig.show('svg')"
   ]
  },
  {
   "cell_type": "raw",
   "id": "71665ca8-38c4-4e80-a1ed-f409c618c19f",
   "metadata": {},
   "source": [
    "** BMI Analysis **\n",
    "(bmi with stroke analysis)"
   ]
  },
  {
   "cell_type": "code",
   "execution_count": 22,
   "id": "6424a162-9571-497c-9dfa-8851779f7cc9",
   "metadata": {},
   "outputs": [
    {
     "data": {
      "text/plain": [
       "30.186693548387094"
      ]
     },
     "execution_count": 22,
     "metadata": {},
     "output_type": "execute_result"
    }
   ],
   "source": [
    "stroke_data['bmi'].mean()\n",
    "# bmi at which brain stroke chance is high"
   ]
  },
  {
   "cell_type": "code",
   "execution_count": 23,
   "id": "eb610772-3ac3-40ef-9d90-0569682dd46f",
   "metadata": {},
   "outputs": [
    {
     "data": {
      "text/plain": [
       "28.4096978660469"
      ]
     },
     "execution_count": 23,
     "metadata": {},
     "output_type": "execute_result"
    }
   ],
   "source": [
    "no_stroke_data['bmi'].mean()\n",
    "# bmi at which brain stroke chance is low"
   ]
  },
  {
   "cell_type": "code",
   "execution_count": 24,
   "id": "a4517280-a3a5-4345-a1fc-36590ba747d7",
   "metadata": {},
   "outputs": [
    {
     "data": {
      "image/svg+xml": [
       "<svg class=\"main-svg\" xmlns=\"http://www.w3.org/2000/svg\" xmlns:xlink=\"http://www.w3.org/1999/xlink\" width=\"700\" height=\"500\" style=\"\" viewBox=\"0 0 700 500\"><rect x=\"0\" y=\"0\" width=\"700\" height=\"500\" style=\"fill: rgb(255, 255, 255); fill-opacity: 1;\"/><defs id=\"defs-fa6ce6\"><g class=\"clips\"><clipPath id=\"clipfa6ce6xyplot\" class=\"plotclip\"><rect width=\"540\" height=\"320\"/></clipPath><clipPath class=\"axesclip\" id=\"clipfa6ce6x\"><rect x=\"80\" y=\"0\" width=\"540\" height=\"500\"/></clipPath><clipPath class=\"axesclip\" id=\"clipfa6ce6y\"><rect x=\"0\" y=\"100\" width=\"700\" height=\"320\"/></clipPath><clipPath class=\"axesclip\" id=\"clipfa6ce6xy\"><rect x=\"80\" y=\"100\" width=\"540\" height=\"320\"/></clipPath></g><g class=\"gradients\"/><g class=\"patterns\"/></defs><g class=\"bglayer\"><rect class=\"bg\" x=\"80\" y=\"100\" width=\"540\" height=\"320\" style=\"fill: rgb(229, 236, 246); fill-opacity: 1; stroke-width: 0;\"/></g><g class=\"layer-below\"><g class=\"imagelayer\"/><g class=\"shapelayer\"/></g><g class=\"cartesianlayer\"><g class=\"subplot xy\"><g class=\"layer-subplot\"><g class=\"shapelayer\"/><g class=\"imagelayer\"/></g><g class=\"minor-gridlayer\"><g class=\"x\"/><g class=\"y\"/></g><g class=\"gridlayer\"><g class=\"x\"/><g class=\"y\"><path class=\"ygrid crisp\" transform=\"translate(0,413.74)\" d=\"M80,0h540\" style=\"stroke: rgb(255, 255, 255); stroke-opacity: 1; stroke-width: 1px;\"/><path class=\"ygrid crisp\" transform=\"translate(0,342.66999999999996)\" d=\"M80,0h540\" style=\"stroke: rgb(255, 255, 255); stroke-opacity: 1; stroke-width: 1px;\"/><path class=\"ygrid crisp\" transform=\"translate(0,271.61)\" d=\"M80,0h540\" style=\"stroke: rgb(255, 255, 255); stroke-opacity: 1; stroke-width: 1px;\"/><path class=\"ygrid crisp\" transform=\"translate(0,200.55)\" d=\"M80,0h540\" style=\"stroke: rgb(255, 255, 255); stroke-opacity: 1; stroke-width: 1px;\"/><path class=\"ygrid crisp\" transform=\"translate(0,129.48)\" d=\"M80,0h540\" style=\"stroke: rgb(255, 255, 255); stroke-opacity: 1; stroke-width: 1px;\"/></g></g><g class=\"zerolinelayer\"/><g class=\"layer-between\"><g class=\"shapelayer\"/><g class=\"imagelayer\"/></g><path class=\"xlines-below\"/><path class=\"ylines-below\"/><g class=\"overlines-below\"/><g class=\"xaxislayer-below\"/><g class=\"yaxislayer-below\"/><g class=\"overaxes-below\"/><g class=\"overplot\"><g class=\"xy\" transform=\"translate(80,100)\" clip-path=\"url(#clipfa6ce6xyplot)\"><g class=\"violinlayer mlayer\"><g class=\"trace violins\" style=\"opacity: 1;\"><path class=\"violin\" d=\"M135.11,304Q135.18,301.93 135.24,300.9C135.3,299.87 135.37,298.83 135.47,297.8C135.57,296.76 135.69,295.72 135.84,294.69C135.99,293.65 136.17,292.62 136.39,291.59C136.61,290.55 136.86,289.52 137.15,288.49C137.44,287.45 137.77,286.42 138.13,285.39C138.5,284.35 138.91,283.32 139.35,282.29C139.79,281.25 140.27,280.21 140.77,279.18C141.28,278.14 141.82,277.11 142.37,276.08C142.93,275.04 143.51,274.01 144.09,272.98C144.67,271.94 145.28,270.91 145.87,269.88C146.46,268.85 147.06,267.82 147.64,266.78C148.22,265.75 148.78,264.71 149.33,263.67C149.87,262.64 150.4,261.61 150.9,260.57C151.4,259.54 151.88,258.51 152.34,257.47C152.8,256.44 153.24,255.41 153.67,254.37C154.1,253.34 154.51,252.3 154.93,251.26C155.35,250.23 155.76,249.19 156.18,248.16C156.6,247.13 157.02,246.09 157.45,245.06C157.88,244.03 158.31,242.99 158.74,241.96C159.18,240.93 159.62,239.89 160.06,238.86C160.51,237.82 160.96,236.78 161.41,235.75C161.87,234.71 162.32,233.68 162.79,232.65C163.26,231.61 163.75,230.58 164.24,229.55C164.73,228.52 165.23,227.48 165.74,226.45C166.25,225.42 166.77,224.38 167.28,223.35C167.79,222.31 168.31,221.28 168.81,220.24C169.31,219.21 169.8,218.18 170.27,217.14C170.73,216.11 171.18,215.08 171.61,214.04C172.03,213.01 172.43,211.98 172.82,210.94C173.21,209.91 173.57,208.88 173.93,207.84C174.29,206.81 174.62,205.77 174.96,204.73C175.3,203.7 175.64,202.66 175.96,201.63C176.28,200.6 176.6,199.57 176.9,198.53C177.2,197.5 177.5,196.47 177.76,195.43C178.02,194.4 178.27,193.37 178.47,192.33C178.67,191.3 178.85,190.26 178.98,189.22C179.11,188.19 179.2,187.15 179.23,186.12C179.26,185.09 179.25,184.05 179.18,183.02C179.11,181.98 178.97,180.95 178.78,179.92C178.59,178.88 178.34,177.85 178.05,176.82C177.75,175.78 177.39,174.74 177,173.71C176.61,172.67 176.17,171.64 175.71,170.61C175.25,169.57 174.75,168.54 174.25,167.51C173.75,166.47 173.22,165.44 172.69,164.41C172.16,163.37 171.62,162.33 171.08,161.3C170.53,160.26 169.98,159.23 169.42,158.2C168.86,157.16 168.28,156.13 167.7,155.1C167.11,154.06 166.51,153.03 165.91,152C165.31,150.97 164.69,149.93 164.09,148.9C163.48,147.86 162.88,146.83 162.28,145.79C161.68,144.76 161.09,143.73 160.51,142.69C159.94,141.66 159.38,140.63 158.83,139.59C158.29,138.56 157.76,137.53 157.24,136.49C156.73,135.46 156.23,134.43 155.74,133.39C155.25,132.36 154.78,131.32 154.32,130.28C153.87,129.25 153.43,128.22 153,127.18C152.58,126.15 152.16,125.12 151.77,124.08C151.38,123.05 151.02,122.02 150.68,120.98C150.34,119.95 150.01,118.92 149.71,117.88C149.41,116.85 149.13,115.81 148.86,114.77C148.59,113.74 148.35,112.7 148.1,111.67C147.86,110.64 147.62,109.6 147.39,108.57C147.16,107.54 146.94,106.5 146.71,105.47C146.48,104.44 146.26,103.4 146.03,102.37C145.8,101.33 145.57,100.3 145.35,99.26C145.13,98.23 144.91,97.19 144.7,96.16C144.49,95.13 144.28,94.09 144.09,93.06C143.9,92.03 143.72,90.99 143.54,89.96C143.36,88.93 143.19,87.89 143.03,86.86C142.87,85.82 142.72,84.79 142.57,83.75C142.42,82.72 142.28,81.68 142.13,80.65C141.98,79.62 141.84,78.58 141.69,77.55C141.54,76.52 141.38,75.48 141.22,74.45C141.05,73.41 140.88,72.38 140.7,71.34C140.52,70.31 140.32,69.27 140.13,68.24C139.93,67.21 139.73,66.17 139.53,65.14C139.33,64.11 139.13,63.07 138.94,62.04C138.75,61.01 138.56,59.98 138.38,58.94C138.21,57.91 138.04,56.87 137.89,55.83C137.74,54.8 137.6,53.76 137.48,52.73C137.36,51.7 137.25,50.66 137.15,49.63C137.05,48.6 136.95,47.56 136.86,46.53C136.77,45.5 136.69,44.46 136.6,43.43C136.51,42.39 136.42,41.36 136.33,40.32C136.24,39.29 136.15,38.25 136.06,37.22C135.97,36.19 135.88,35.15 135.79,34.12C135.71,33.09 135.62,32.05 135.55,31.02C135.48,29.99 135.41,28.95 135.35,27.92C135.29,26.88 135.25,25.85 135.21,24.81C135.17,23.78 135.14,22.74 135.11,21.71Q135.08,20.68 135.05,18.61L134.95,18.61Q134.92,20.68 134.89,21.71C134.86,22.74 134.83,23.78 134.79,24.81C134.75,25.85 134.71,26.88 134.65,27.92C134.59,28.95 134.52,29.99 134.45,31.02C134.38,32.05 134.29,33.09 134.21,34.12C134.12,35.15 134.03,36.19 133.94,37.22C133.85,38.25 133.76,39.29 133.67,40.32C133.58,41.36 133.49,42.39 133.4,43.43C133.31,44.46 133.23,45.5 133.14,46.53C133.05,47.56 132.95,48.6 132.85,49.63C132.75,50.66 132.64,51.7 132.52,52.73C132.4,53.76 132.26,54.8 132.11,55.83C131.96,56.87 131.79,57.91 131.62,58.94C131.44,59.98 131.25,61.01 131.06,62.04C130.87,63.07 130.67,64.11 130.47,65.14C130.27,66.17 130.07,67.21 129.87,68.24C129.68,69.27 129.48,70.31 129.3,71.34C129.12,72.38 128.95,73.41 128.78,74.45C128.62,75.48 128.46,76.52 128.31,77.55C128.16,78.58 128.02,79.62 127.87,80.65C127.72,81.68 127.58,82.72 127.43,83.75C127.28,84.79 127.13,85.82 126.97,86.86C126.81,87.89 126.64,88.93 126.46,89.96C126.28,90.99 126.1,92.03 125.91,93.06C125.72,94.09 125.51,95.13 125.3,96.16C125.09,97.19 124.87,98.23 124.65,99.26C124.43,100.3 124.2,101.33 123.97,102.37C123.74,103.4 123.52,104.44 123.29,105.47C123.06,106.5 122.84,107.54 122.61,108.57C122.38,109.6 122.14,110.64 121.9,111.67C121.65,112.7 121.41,113.74 121.14,114.77C120.87,115.81 120.59,116.85 120.29,117.88C119.99,118.92 119.66,119.95 119.32,120.98C118.98,122.02 118.62,123.05 118.23,124.08C117.84,125.12 117.42,126.15 117,127.18C116.57,128.22 116.13,129.25 115.68,130.28C115.22,131.32 114.75,132.36 114.26,133.39C113.77,134.43 113.27,135.46 112.76,136.49C112.24,137.53 111.71,138.56 111.17,139.59C110.62,140.63 110.06,141.66 109.49,142.69C108.91,143.73 108.32,144.76 107.72,145.79C107.12,146.83 106.52,147.86 105.91,148.9C105.31,149.93 104.69,150.97 104.09,152C103.49,153.03 102.89,154.06 102.3,155.1C101.72,156.13 101.14,157.16 100.58,158.2C100.02,159.23 99.47,160.26 98.92,161.3C98.38,162.33 97.84,163.37 97.31,164.41C96.78,165.44 96.25,166.47 95.75,167.51C95.25,168.54 94.75,169.57 94.29,170.61C93.83,171.64 93.39,172.67 93,173.71C92.61,174.74 92.25,175.78 91.95,176.82C91.66,177.85 91.41,178.88 91.22,179.92C91.03,180.95 90.89,181.98 90.82,183.02C90.75,184.05 90.74,185.09 90.77,186.12C90.8,187.15 90.89,188.19 91.02,189.22C91.15,190.26 91.33,191.3 91.53,192.33C91.73,193.37 91.98,194.4 92.24,195.43C92.5,196.47 92.8,197.5 93.1,198.53C93.4,199.57 93.72,200.6 94.04,201.63C94.36,202.66 94.7,203.7 95.04,204.73C95.38,205.77 95.71,206.81 96.07,207.84C96.43,208.88 96.79,209.91 97.18,210.94C97.57,211.98 97.97,213.01 98.39,214.04C98.82,215.08 99.27,216.11 99.73,217.14C100.2,218.18 100.69,219.21 101.19,220.24C101.69,221.28 102.21,222.31 102.72,223.35C103.23,224.38 103.75,225.42 104.26,226.45C104.77,227.48 105.27,228.52 105.76,229.55C106.25,230.58 106.74,231.61 107.21,232.65C107.68,233.68 108.13,234.71 108.59,235.75C109.04,236.78 109.49,237.82 109.94,238.86C110.38,239.89 110.82,240.93 111.26,241.96C111.69,242.99 112.12,244.03 112.55,245.06C112.98,246.09 113.4,247.13 113.82,248.16C114.24,249.19 114.65,250.23 115.07,251.26C115.49,252.3 115.9,253.34 116.33,254.37C116.76,255.41 117.2,256.44 117.66,257.47C118.12,258.51 118.6,259.54 119.1,260.57C119.6,261.61 120.13,262.64 120.67,263.67C121.22,264.71 121.78,265.75 122.36,266.78C122.94,267.82 123.54,268.85 124.13,269.88C124.72,270.91 125.33,271.94 125.91,272.98C126.49,274.01 127.07,275.04 127.63,276.08C128.18,277.11 128.72,278.14 129.23,279.18C129.73,280.21 130.21,281.25 130.65,282.29C131.09,283.32 131.5,284.35 131.87,285.39C132.23,286.42 132.56,287.45 132.85,288.49C133.14,289.52 133.39,290.55 133.61,291.59C133.83,292.62 134.01,293.65 134.16,294.69C134.31,295.72 134.43,296.76 134.53,297.8C134.63,298.83 134.7,299.87 134.76,300.9Q134.82,301.93 134.89,304Z\" style=\"vector-effect: none; stroke-width: 2px; stroke: rgb(0, 128, 128); stroke-opacity: 1; fill: rgb(0, 128, 128); fill-opacity: 0.5;\"/><path class=\"violin\" d=\"M405.11,286Q405.18,283.66 405.22,282.49C405.26,281.32 405.31,280.16 405.37,278.99C405.43,277.82 405.51,276.65 405.6,275.48C405.69,274.31 405.78,273.14 405.9,271.97C406.01,270.8 406.14,269.64 406.29,268.47C406.44,267.3 406.6,266.13 406.79,264.96C406.98,263.79 407.2,262.62 407.45,261.46C407.71,260.29 407.99,259.12 408.32,257.95C408.65,256.78 409.01,255.6 409.41,254.44C409.81,253.27 410.27,252.1 410.74,250.94C411.22,249.77 411.73,248.6 412.26,247.43C412.79,246.26 413.36,245.09 413.93,243.92C414.51,242.75 415.11,241.58 415.72,240.42C416.34,239.25 416.97,238.08 417.63,236.91C418.29,235.73 418.98,234.56 419.68,233.4C420.39,232.23 421.11,231.06 421.85,229.9C422.59,228.73 423.36,227.56 424.12,226.39C424.88,225.22 425.66,224.05 426.43,222.88C427.2,221.71 427.97,220.54 428.76,219.38C429.55,218.21 430.33,217.03 431.17,215.87C432.03,214.69 432.9,213.5 433.88,212.36C434.91,211.17 436,209.99 437.22,208.86C438.52,207.65 439.95,206.48 441.47,205.35C443.1,204.14 444.89,202.98 446.71,201.84C448.62,200.64 450.67,199.5 452.67,198.34C454.68,197.17 456.78,196.02 458.73,194.83C460.59,193.69 462.48,192.56 464.11,191.33C465.6,190.21 467.05,189.07 468.15,187.82C469.13,186.71 469.99,185.53 470.49,184.31C470.95,183.19 471.16,181.98 471.15,180.81C471.14,179.64 470.83,178.45 470.44,177.3C470.03,176.1 469.4,174.93 468.72,173.79C468.01,172.59 467.15,171.43 466.24,170.29C465.29,169.09 464.23,167.92 463.1,166.78C461.92,165.58 460.63,164.41 459.29,163.27C457.88,162.07 456.37,160.92 454.83,159.77C453.24,158.58 451.57,157.42 449.91,156.26C448.24,155.08 446.51,153.93 444.85,152.75C443.21,151.59 441.56,150.44 440.01,149.25C438.51,148.1 437.05,146.94 435.7,145.74C434.42,144.6 433.2,143.43 432.11,142.23C431.08,141.09 430.14,139.93 429.31,138.73C428.52,137.59 427.84,136.41 427.23,135.22C426.64,134.07 426.17,132.89 425.72,131.71C425.27,130.55 424.92,129.38 424.53,128.21C424.14,127.04 423.78,125.86 423.37,124.7C422.96,123.53 422.52,122.36 422.05,121.2C421.57,120.02 421.03,118.86 420.5,117.69C419.96,116.52 419.38,115.35 418.83,114.18C418.29,113.01 417.73,111.85 417.23,110.68C416.74,109.52 416.28,108.35 415.87,107.17C415.47,106.01 415.12,104.83 414.81,103.66C414.5,102.5 414.25,101.33 414.01,100.16C413.77,98.99 413.58,97.82 413.38,96.65C413.18,95.48 413,94.31 412.81,93.14C412.62,91.97 412.43,90.81 412.25,89.64C412.06,88.47 411.87,87.3 411.7,86.13C411.53,84.96 411.35,83.79 411.21,82.62C411.07,81.45 410.95,80.29 410.86,79.12C410.77,77.95 410.71,76.78 410.68,75.61C410.65,74.44 410.65,73.27 410.66,72.1C410.67,70.93 410.71,69.77 410.73,68.6C410.75,67.43 410.77,66.26 410.75,65.09C410.73,63.92 410.7,62.75 410.62,61.58C410.54,60.41 410.41,59.25 410.26,58.08C410.11,56.91 409.91,55.74 409.71,54.57C409.51,53.4 409.27,52.24 409.04,51.07C408.81,49.9 408.56,48.73 408.34,47.56C408.12,46.39 407.91,45.22 407.71,44.05C407.51,42.88 407.33,41.72 407.16,40.55C406.99,39.38 406.83,38.21 406.68,37.04C406.53,35.87 406.4,34.7 406.27,33.53C406.14,32.36 406.03,31.2 405.92,30.03C405.81,28.86 405.71,27.69 405.62,26.52C405.53,25.35 405.46,24.18 405.39,23.01C405.33,21.84 405.27,20.68 405.23,19.51Q405.18,18.34 405.12,16L404.88,16Q404.82,18.34 404.77,19.51C404.73,20.68 404.67,21.84 404.61,23.01C404.54,24.18 404.47,25.35 404.38,26.52C404.29,27.69 404.19,28.86 404.08,30.03C403.97,31.2 403.86,32.36 403.73,33.53C403.6,34.7 403.47,35.87 403.32,37.04C403.17,38.21 403.01,39.38 402.84,40.55C402.67,41.72 402.49,42.88 402.29,44.05C402.09,45.22 401.88,46.39 401.66,47.56C401.44,48.73 401.19,49.9 400.96,51.07C400.73,52.24 400.49,53.4 400.29,54.57C400.09,55.74 399.89,56.91 399.74,58.08C399.59,59.25 399.46,60.41 399.38,61.58C399.3,62.75 399.27,63.92 399.25,65.09C399.23,66.26 399.25,67.43 399.27,68.6C399.29,69.77 399.33,70.93 399.34,72.1C399.35,73.27 399.35,74.44 399.32,75.61C399.29,76.78 399.23,77.95 399.14,79.12C399.05,80.29 398.93,81.45 398.79,82.62C398.65,83.79 398.47,84.96 398.3,86.13C398.13,87.3 397.94,88.47 397.75,89.64C397.57,90.81 397.38,91.97 397.19,93.14C397,94.31 396.82,95.48 396.62,96.65C396.42,97.82 396.23,98.99 395.99,100.16C395.75,101.33 395.5,102.5 395.19,103.66C394.88,104.83 394.53,106.01 394.13,107.17C393.72,108.35 393.26,109.52 392.77,110.68C392.27,111.85 391.71,113.01 391.17,114.18C390.62,115.35 390.04,116.52 389.5,117.69C388.97,118.86 388.43,120.02 387.95,121.2C387.48,122.36 387.04,123.53 386.63,124.7C386.22,125.86 385.86,127.04 385.47,128.21C385.08,129.38 384.73,130.55 384.28,131.71C383.83,132.89 383.36,134.07 382.77,135.22C382.16,136.41 381.48,137.59 380.69,138.73C379.86,139.93 378.92,141.09 377.89,142.23C376.8,143.43 375.58,144.6 374.3,145.74C372.95,146.94 371.49,148.1 369.99,149.25C368.44,150.44 366.79,151.59 365.15,152.75C363.49,153.93 361.76,155.08 360.09,156.26C358.43,157.42 356.76,158.58 355.17,159.77C353.63,160.92 352.12,162.07 350.71,163.27C349.37,164.41 348.08,165.58 346.9,166.78C345.77,167.92 344.71,169.09 343.76,170.29C342.85,171.43 341.99,172.59 341.28,173.79C340.6,174.93 339.97,176.1 339.56,177.3C339.17,178.45 338.86,179.64 338.85,180.81C338.84,181.98 339.05,183.19 339.51,184.31C340.01,185.53 340.87,186.71 341.85,187.82C342.95,189.07 344.4,190.21 345.89,191.33C347.52,192.56 349.41,193.69 351.27,194.83C353.22,196.02 355.32,197.17 357.33,198.34C359.33,199.5 361.38,200.64 363.29,201.84C365.11,202.98 366.9,204.14 368.53,205.35C370.05,206.48 371.48,207.65 372.78,208.86C374,209.99 375.09,211.17 376.12,212.36C377.1,213.5 377.97,214.69 378.83,215.87C379.67,217.03 380.45,218.21 381.24,219.38C382.03,220.54 382.8,221.71 383.57,222.88C384.34,224.05 385.12,225.22 385.88,226.39C386.64,227.56 387.41,228.73 388.15,229.9C388.89,231.06 389.61,232.23 390.32,233.4C391.02,234.56 391.71,235.73 392.37,236.91C393.03,238.08 393.66,239.25 394.28,240.42C394.89,241.58 395.49,242.75 396.07,243.92C396.64,245.09 397.21,246.26 397.74,247.43C398.27,248.6 398.78,249.77 399.26,250.94C399.73,252.1 400.19,253.27 400.59,254.44C400.99,255.6 401.35,256.78 401.68,257.95C402.01,259.12 402.29,260.29 402.55,261.46C402.8,262.62 403.02,263.79 403.21,264.96C403.4,266.13 403.56,267.3 403.71,268.47C403.86,269.64 403.99,270.8 404.1,271.97C404.22,273.14 404.31,274.31 404.4,275.48C404.49,276.65 404.57,277.82 404.63,278.99C404.69,280.16 404.74,281.32 404.78,282.49Q404.82,283.66 404.89,286Z\" style=\"vector-effect: none; stroke-width: 2px; stroke: rgb(0, 128, 128); stroke-opacity: 1; fill: rgb(0, 128, 128); fill-opacity: 0.5;\"/><path class=\"box\" d=\"M118.46,185.82H151.54M118.46,217.8H151.54V153.13H118.46ZM135,217.8V285.31M135,153.13V56.49\" style=\"vector-effect: non-scaling-stroke; stroke-width: 2px; stroke: rgb(0, 128, 128); stroke-opacity: 1; fill: rgb(0, 128, 128); fill-opacity: 0.5;\"/><path class=\"box\" d=\"M388.46,175.52H421.54M388.46,193.28H421.54V152.42H388.46ZM405,193.28V251.91M405,152.42V92.73\" style=\"vector-effect: non-scaling-stroke; stroke-width: 2px; stroke: rgb(0, 128, 128); stroke-opacity: 1; fill: rgb(0, 128, 128); fill-opacity: 0.5;\"/><g class=\"points\"><path class=\"point\" transform=\"translate(135,55.77)\" d=\"M3,0A3,3 0 1,1 0,-3A3,3 0 0,1 3,0Z\" style=\"opacity: 1; stroke-width: 0px; fill: rgb(0, 128, 128); fill-opacity: 1;\"/><path class=\"point\" transform=\"translate(135,55.06)\" d=\"M3,0A3,3 0 1,1 0,-3A3,3 0 0,1 3,0Z\" style=\"opacity: 1; stroke-width: 0px; fill: rgb(0, 128, 128); fill-opacity: 1;\"/><path class=\"point\" transform=\"translate(135,54.35)\" d=\"M3,0A3,3 0 1,1 0,-3A3,3 0 0,1 3,0Z\" style=\"opacity: 1; stroke-width: 0px; fill: rgb(0, 128, 128); fill-opacity: 1;\"/><path class=\"point\" transform=\"translate(135,54.35)\" d=\"M3,0A3,3 0 1,1 0,-3A3,3 0 0,1 3,0Z\" style=\"opacity: 1; stroke-width: 0px; fill: rgb(0, 128, 128); fill-opacity: 1;\"/><path class=\"point\" transform=\"translate(135,53.64)\" d=\"M3,0A3,3 0 1,1 0,-3A3,3 0 0,1 3,0Z\" style=\"opacity: 1; stroke-width: 0px; fill: rgb(0, 128, 128); fill-opacity: 1;\"/><path class=\"point\" transform=\"translate(135,52.22)\" d=\"M3,0A3,3 0 1,1 0,-3A3,3 0 0,1 3,0Z\" style=\"opacity: 1; stroke-width: 0px; fill: rgb(0, 128, 128); fill-opacity: 1;\"/><path class=\"point\" transform=\"translate(135,51.51)\" d=\"M3,0A3,3 0 1,1 0,-3A3,3 0 0,1 3,0Z\" style=\"opacity: 1; stroke-width: 0px; fill: rgb(0, 128, 128); fill-opacity: 1;\"/><path class=\"point\" transform=\"translate(135,51.51)\" d=\"M3,0A3,3 0 1,1 0,-3A3,3 0 0,1 3,0Z\" style=\"opacity: 1; stroke-width: 0px; fill: rgb(0, 128, 128); fill-opacity: 1;\"/><path class=\"point\" transform=\"translate(135,50.09)\" d=\"M3,0A3,3 0 1,1 0,-3A3,3 0 0,1 3,0Z\" style=\"opacity: 1; stroke-width: 0px; fill: rgb(0, 128, 128); fill-opacity: 1;\"/><path class=\"point\" transform=\"translate(135,48.67)\" d=\"M3,0A3,3 0 1,1 0,-3A3,3 0 0,1 3,0Z\" style=\"opacity: 1; stroke-width: 0px; fill: rgb(0, 128, 128); fill-opacity: 1;\"/><path class=\"point\" transform=\"translate(135,48.67)\" d=\"M3,0A3,3 0 1,1 0,-3A3,3 0 0,1 3,0Z\" style=\"opacity: 1; stroke-width: 0px; fill: rgb(0, 128, 128); fill-opacity: 1;\"/><path class=\"point\" transform=\"translate(135,47.96)\" d=\"M3,0A3,3 0 1,1 0,-3A3,3 0 0,1 3,0Z\" style=\"opacity: 1; stroke-width: 0px; fill: rgb(0, 128, 128); fill-opacity: 1;\"/><path class=\"point\" transform=\"translate(135,47.25)\" d=\"M3,0A3,3 0 1,1 0,-3A3,3 0 0,1 3,0Z\" style=\"opacity: 1; stroke-width: 0px; fill: rgb(0, 128, 128); fill-opacity: 1;\"/><path class=\"point\" transform=\"translate(135,47.25)\" d=\"M3,0A3,3 0 1,1 0,-3A3,3 0 0,1 3,0Z\" style=\"opacity: 1; stroke-width: 0px; fill: rgb(0, 128, 128); fill-opacity: 1;\"/><path class=\"point\" transform=\"translate(135,46.54)\" d=\"M3,0A3,3 0 1,1 0,-3A3,3 0 0,1 3,0Z\" style=\"opacity: 1; stroke-width: 0px; fill: rgb(0, 128, 128); fill-opacity: 1;\"/><path class=\"point\" transform=\"translate(135,46.54)\" d=\"M3,0A3,3 0 1,1 0,-3A3,3 0 0,1 3,0Z\" style=\"opacity: 1; stroke-width: 0px; fill: rgb(0, 128, 128); fill-opacity: 1;\"/><path class=\"point\" transform=\"translate(135,46.54)\" d=\"M3,0A3,3 0 1,1 0,-3A3,3 0 0,1 3,0Z\" style=\"opacity: 1; stroke-width: 0px; fill: rgb(0, 128, 128); fill-opacity: 1;\"/><path class=\"point\" transform=\"translate(135,45.12)\" d=\"M3,0A3,3 0 1,1 0,-3A3,3 0 0,1 3,0Z\" style=\"opacity: 1; stroke-width: 0px; fill: rgb(0, 128, 128); fill-opacity: 1;\"/><path class=\"point\" transform=\"translate(135,45.12)\" d=\"M3,0A3,3 0 1,1 0,-3A3,3 0 0,1 3,0Z\" style=\"opacity: 1; stroke-width: 0px; fill: rgb(0, 128, 128); fill-opacity: 1;\"/><path class=\"point\" transform=\"translate(135,44.4)\" d=\"M3,0A3,3 0 1,1 0,-3A3,3 0 0,1 3,0Z\" style=\"opacity: 1; stroke-width: 0px; fill: rgb(0, 128, 128); fill-opacity: 1;\"/><path class=\"point\" transform=\"translate(135,43.69)\" d=\"M3,0A3,3 0 1,1 0,-3A3,3 0 0,1 3,0Z\" style=\"opacity: 1; stroke-width: 0px; fill: rgb(0, 128, 128); fill-opacity: 1;\"/><path class=\"point\" transform=\"translate(135,42.98)\" d=\"M3,0A3,3 0 1,1 0,-3A3,3 0 0,1 3,0Z\" style=\"opacity: 1; stroke-width: 0px; fill: rgb(0, 128, 128); fill-opacity: 1;\"/><path class=\"point\" transform=\"translate(135,42.27)\" d=\"M3,0A3,3 0 1,1 0,-3A3,3 0 0,1 3,0Z\" style=\"opacity: 1; stroke-width: 0px; fill: rgb(0, 128, 128); fill-opacity: 1;\"/><path class=\"point\" transform=\"translate(135,41.56)\" d=\"M3,0A3,3 0 1,1 0,-3A3,3 0 0,1 3,0Z\" style=\"opacity: 1; stroke-width: 0px; fill: rgb(0, 128, 128); fill-opacity: 1;\"/><path class=\"point\" transform=\"translate(135,41.56)\" d=\"M3,0A3,3 0 1,1 0,-3A3,3 0 0,1 3,0Z\" style=\"opacity: 1; stroke-width: 0px; fill: rgb(0, 128, 128); fill-opacity: 1;\"/><path class=\"point\" transform=\"translate(135,40.85)\" d=\"M3,0A3,3 0 1,1 0,-3A3,3 0 0,1 3,0Z\" style=\"opacity: 1; stroke-width: 0px; fill: rgb(0, 128, 128); fill-opacity: 1;\"/><path class=\"point\" transform=\"translate(135,40.14)\" d=\"M3,0A3,3 0 1,1 0,-3A3,3 0 0,1 3,0Z\" style=\"opacity: 1; stroke-width: 0px; fill: rgb(0, 128, 128); fill-opacity: 1;\"/><path class=\"point\" transform=\"translate(135,40.14)\" d=\"M3,0A3,3 0 1,1 0,-3A3,3 0 0,1 3,0Z\" style=\"opacity: 1; stroke-width: 0px; fill: rgb(0, 128, 128); fill-opacity: 1;\"/><path class=\"point\" transform=\"translate(135,38.72)\" d=\"M3,0A3,3 0 1,1 0,-3A3,3 0 0,1 3,0Z\" style=\"opacity: 1; stroke-width: 0px; fill: rgb(0, 128, 128); fill-opacity: 1;\"/><path class=\"point\" transform=\"translate(135,38.01)\" d=\"M3,0A3,3 0 1,1 0,-3A3,3 0 0,1 3,0Z\" style=\"opacity: 1; stroke-width: 0px; fill: rgb(0, 128, 128); fill-opacity: 1;\"/><path class=\"point\" transform=\"translate(135,38.01)\" d=\"M3,0A3,3 0 1,1 0,-3A3,3 0 0,1 3,0Z\" style=\"opacity: 1; stroke-width: 0px; fill: rgb(0, 128, 128); fill-opacity: 1;\"/><path class=\"point\" transform=\"translate(135,37.3)\" d=\"M3,0A3,3 0 1,1 0,-3A3,3 0 0,1 3,0Z\" style=\"opacity: 1; stroke-width: 0px; fill: rgb(0, 128, 128); fill-opacity: 1;\"/><path class=\"point\" transform=\"translate(135,37.3)\" d=\"M3,0A3,3 0 1,1 0,-3A3,3 0 0,1 3,0Z\" style=\"opacity: 1; stroke-width: 0px; fill: rgb(0, 128, 128); fill-opacity: 1;\"/></g><g class=\"points\"><path class=\"point\" transform=\"translate(405,264.7)\" d=\"M3,0A3,3 0 1,1 0,-3A3,3 0 0,1 3,0Z\" style=\"opacity: 1; stroke-width: 0px; fill: rgb(0, 128, 128); fill-opacity: 1;\"/><path class=\"point\" transform=\"translate(405,89.89)\" d=\"M3,0A3,3 0 1,1 0,-3A3,3 0 0,1 3,0Z\" style=\"opacity: 1; stroke-width: 0px; fill: rgb(0, 128, 128); fill-opacity: 1;\"/><path class=\"point\" transform=\"translate(405,84.91)\" d=\"M3,0A3,3 0 1,1 0,-3A3,3 0 0,1 3,0Z\" style=\"opacity: 1; stroke-width: 0px; fill: rgb(0, 128, 128); fill-opacity: 1;\"/><path class=\"point\" transform=\"translate(405,83.49)\" d=\"M3,0A3,3 0 1,1 0,-3A3,3 0 0,1 3,0Z\" style=\"opacity: 1; stroke-width: 0px; fill: rgb(0, 128, 128); fill-opacity: 1;\"/><path class=\"point\" transform=\"translate(405,82.78)\" d=\"M3,0A3,3 0 1,1 0,-3A3,3 0 0,1 3,0Z\" style=\"opacity: 1; stroke-width: 0px; fill: rgb(0, 128, 128); fill-opacity: 1;\"/><path class=\"point\" transform=\"translate(405,71.41)\" d=\"M3,0A3,3 0 1,1 0,-3A3,3 0 0,1 3,0Z\" style=\"opacity: 1; stroke-width: 0px; fill: rgb(0, 128, 128); fill-opacity: 1;\"/><path class=\"point\" transform=\"translate(405,70.7)\" d=\"M3,0A3,3 0 1,1 0,-3A3,3 0 0,1 3,0Z\" style=\"opacity: 1; stroke-width: 0px; fill: rgb(0, 128, 128); fill-opacity: 1;\"/><path class=\"point\" transform=\"translate(405,65.01)\" d=\"M3,0A3,3 0 1,1 0,-3A3,3 0 0,1 3,0Z\" style=\"opacity: 1; stroke-width: 0px; fill: rgb(0, 128, 128); fill-opacity: 1;\"/><path class=\"point\" transform=\"translate(405,61.46)\" d=\"M3,0A3,3 0 1,1 0,-3A3,3 0 0,1 3,0Z\" style=\"opacity: 1; stroke-width: 0px; fill: rgb(0, 128, 128); fill-opacity: 1;\"/><path class=\"point\" transform=\"translate(405,60.04)\" d=\"M3,0A3,3 0 1,1 0,-3A3,3 0 0,1 3,0Z\" style=\"opacity: 1; stroke-width: 0px; fill: rgb(0, 128, 128); fill-opacity: 1;\"/><path class=\"point\" transform=\"translate(405,58.62)\" d=\"M3,0A3,3 0 1,1 0,-3A3,3 0 0,1 3,0Z\" style=\"opacity: 1; stroke-width: 0px; fill: rgb(0, 128, 128); fill-opacity: 1;\"/><path class=\"point\" transform=\"translate(405,57.91)\" d=\"M3,0A3,3 0 1,1 0,-3A3,3 0 0,1 3,0Z\" style=\"opacity: 1; stroke-width: 0px; fill: rgb(0, 128, 128); fill-opacity: 1;\"/><path class=\"point\" transform=\"translate(405,47.25)\" d=\"M3,0A3,3 0 1,1 0,-3A3,3 0 0,1 3,0Z\" style=\"opacity: 1; stroke-width: 0px; fill: rgb(0, 128, 128); fill-opacity: 1;\"/><path class=\"point\" transform=\"translate(405,37.3)\" d=\"M3,0A3,3 0 1,1 0,-3A3,3 0 0,1 3,0Z\" style=\"opacity: 1; stroke-width: 0px; fill: rgb(0, 128, 128); fill-opacity: 1;\"/></g></g></g></g></g><path class=\"xlines-above crisp\" d=\"M0,0\" style=\"fill: none;\"/><path class=\"ylines-above crisp\" d=\"M0,0\" style=\"fill: none;\"/><g class=\"overlines-above\"/><g class=\"xaxislayer-above\"><g class=\"xtick\"><text text-anchor=\"middle\" x=\"0\" y=\"433\" transform=\"translate(215,0)\" style=\"font-family: 'Open Sans', verdana, arial, sans-serif; font-size: 12px; fill: rgb(42, 63, 95); fill-opacity: 1; white-space: pre; opacity: 1;\">0</text></g><g class=\"xtick\"><text text-anchor=\"middle\" x=\"0\" y=\"433\" style=\"font-family: 'Open Sans', verdana, arial, sans-serif; font-size: 12px; fill: rgb(42, 63, 95); fill-opacity: 1; white-space: pre; opacity: 1;\" transform=\"translate(485,0)\">1</text></g></g><g class=\"yaxislayer-above\"><g class=\"ytick\"><text text-anchor=\"end\" x=\"79\" y=\"4.199999999999999\" transform=\"translate(0,413.74)\" style=\"font-family: 'Open Sans', verdana, arial, sans-serif; font-size: 12px; fill: rgb(42, 63, 95); fill-opacity: 1; white-space: pre; opacity: 1;\">10</text></g><g class=\"ytick\"><text text-anchor=\"end\" x=\"79\" y=\"4.199999999999999\" style=\"font-family: 'Open Sans', verdana, arial, sans-serif; font-size: 12px; fill: rgb(42, 63, 95); fill-opacity: 1; white-space: pre; opacity: 1;\" transform=\"translate(0,342.66999999999996)\">20</text></g><g class=\"ytick\"><text text-anchor=\"end\" x=\"79\" y=\"4.199999999999999\" style=\"font-family: 'Open Sans', verdana, arial, sans-serif; font-size: 12px; fill: rgb(42, 63, 95); fill-opacity: 1; white-space: pre; opacity: 1;\" transform=\"translate(0,271.61)\">30</text></g><g class=\"ytick\"><text text-anchor=\"end\" x=\"79\" y=\"4.199999999999999\" style=\"font-family: 'Open Sans', verdana, arial, sans-serif; font-size: 12px; fill: rgb(42, 63, 95); fill-opacity: 1; white-space: pre; opacity: 1;\" transform=\"translate(0,200.55)\">40</text></g><g class=\"ytick\"><text text-anchor=\"end\" x=\"79\" y=\"4.199999999999999\" style=\"font-family: 'Open Sans', verdana, arial, sans-serif; font-size: 12px; fill: rgb(42, 63, 95); fill-opacity: 1; white-space: pre; opacity: 1;\" transform=\"translate(0,129.48)\">50</text></g></g><g class=\"overaxes-above\"/></g></g><g class=\"polarlayer\"/><g class=\"smithlayer\"/><g class=\"ternarylayer\"/><g class=\"geolayer\"/><g class=\"funnelarealayer\"/><g class=\"pielayer\"/><g class=\"iciclelayer\"/><g class=\"treemaplayer\"/><g class=\"sunburstlayer\"/><g class=\"glimages\"/><defs id=\"topdefs-fa6ce6\"><g class=\"clips\"/></defs><g class=\"layer-above\"><g class=\"imagelayer\"/><g class=\"shapelayer\"/></g><g class=\"infolayer\"><g class=\"g-gtitle\"><text class=\"gtitle\" x=\"210\" y=\"50\" text-anchor=\"start\" dy=\"0.7em\" style=\"opacity: 1; font-family: 'Open Sans', verdana, arial, sans-serif; font-size: 17px; fill: rgb(42, 63, 95); fill-opacity: 1; white-space: pre;\">BMI and Stroke Status</text></g><g class=\"g-xtitle\"><text class=\"xtitle\" x=\"350\" y=\"460.3\" text-anchor=\"middle\" style=\"opacity: 1; font-family: 'Open Sans', verdana, arial, sans-serif; font-size: 14px; fill: rgb(42, 63, 95); fill-opacity: 1; white-space: pre;\">Stroke Status</text></g><g class=\"g-ytitle\"><text class=\"ytitle\" transform=\"rotate(-90,46.240625,260)\" x=\"46.240625\" y=\"260\" text-anchor=\"middle\" style=\"opacity: 1; font-family: 'Open Sans', verdana, arial, sans-serif; font-size: 14px; fill: rgb(42, 63, 95); fill-opacity: 1; white-space: pre;\">BMI</text></g></g></svg>"
      ]
     },
     "metadata": {},
     "output_type": "display_data"
    }
   ],
   "source": [
    "fig = px.violin(dataframe, y = 'bmi', x = 'stroke', box = True, width = 700,\n",
    "               height = 500, color_discrete_sequence = plot_color, title = 'BMI and Stroke Status',\n",
    "               labels = {'stroke': 'Stroke Status', 'bmi': 'BMI'})\n",
    "fig.update_layout(title_x = 0.3, title_y = 0.9)\n",
    "fig.show('svg')\n",
    "\n",
    "# first graph is for no_stroke and second graph is for braine stroke"
   ]
  },
  {
   "cell_type": "raw",
   "id": "a638f501-4793-4fc3-8443-f9a42f4aa3cb",
   "metadata": {},
   "source": [
    "** Smoke Status Analysis **"
   ]
  },
  {
   "cell_type": "code",
   "execution_count": 25,
   "id": "3b8e3120-a9ff-44b4-a7ff-e5113c06d42a",
   "metadata": {},
   "outputs": [
    {
     "data": {
      "text/plain": [
       "Index(['gender', 'age', 'hypertension', 'heart_disease', 'ever_married',\n",
       "       'work_type', 'Residence_type', 'avg_glucose_level', 'bmi',\n",
       "       'smoking_status', 'stroke'],\n",
       "      dtype='object')"
      ]
     },
     "execution_count": 25,
     "metadata": {},
     "output_type": "execute_result"
    }
   ],
   "source": [
    "dataframe.columns"
   ]
  },
  {
   "cell_type": "code",
   "execution_count": 26,
   "id": "f5c16831-7a3f-4fee-8e33-f4dffa2b7783",
   "metadata": {},
   "outputs": [
    {
     "data": {
      "image/png": "[encoded data removed]",
      "text/plain": [
       "<Figure size 1200x1000 with 6 Axes>"
      ]
     },
     "metadata": {},
     "output_type": "display_data"
    }
   ],
   "source": [
    "# subplots of x_values with stoke \n",
    "\n",
    "x_values = ['smoking_status', 'hypertension', 'heart_disease', 'Residence_type', 'gender', 'ever_married']\n",
    "fig, axis = plt.subplots(nrows = 3, ncols = 2, figsize = (12,10))\n",
    "\n",
    "for ax, x_value in zip(axis.flat, x_values):\n",
    "    sns.countplot(data = dataframe, x = x_value, hue = 'stroke', ax = ax)\n",
    "    ax.set_title(f'{x_value.capitalize()} and smoking status')\n",
    "\n",
    "plt.tight_layout()\n",
    "plt.show()"
   ]
  },
  {
   "cell_type": "code",
   "execution_count": 27,
   "id": "c37a47a8-ca26-481a-9f62-f155acd1fc86",
   "metadata": {},
   "outputs": [
    {
     "data": {
      "image/png": "[encoded data removed]",
      "text/plain": [
       "<Figure size 1200x1000 with 6 Axes>"
      ]
     },
     "metadata": {},
     "output_type": "display_data"
    }
   ],
   "source": [
    "# subplots of x_values with gender (just of example)\n",
    "\n",
    "x_values = ['smoking_status', 'hypertension', 'heart_disease', 'Residence_type', 'gender', 'ever_married']\n",
    "fig, axis = plt.subplots(nrows = 3, ncols = 2, figsize = (12,10))\n",
    "\n",
    "for ax, x_value in zip(axis.flat, x_values):\n",
    "    sns.countplot(data = dataframe, x = x_value, hue = 'gender', ax = ax)\n",
    "    ax.set_title(f'{x_value.capitalize()} and smoking status')\n",
    "\n",
    "plt.tight_layout()\n",
    "plt.show()"
   ]
  },
  {
   "cell_type": "raw",
   "id": "90382eb5-9051-48f3-bc31-0f3ba9dc659a",
   "metadata": {},
   "source": [
    "** DATA PREPARATION AND PREPROCESSING **"
   ]
  },
  {
   "cell_type": "code",
   "execution_count": 28,
   "id": "2fa7a554-8b2a-490a-bbef-fb439b59adb7",
   "metadata": {},
   "outputs": [
    {
     "data": {
      "text/plain": [
       "Index(['gender', 'age', 'hypertension', 'heart_disease', 'ever_married',\n",
       "       'work_type', 'Residence_type', 'avg_glucose_level', 'bmi',\n",
       "       'smoking_status', 'stroke'],\n",
       "      dtype='object')"
      ]
     },
     "execution_count": 28,
     "metadata": {},
     "output_type": "execute_result"
    }
   ],
   "source": [
    "set_config(display = 'diagram')\n",
    "dataframe.columns"
   ]
  },
  {
   "cell_type": "raw",
   "id": "878c3e5e-83ba-449e-a7c9-a1118e1438a8",
   "metadata": {},
   "source": [
    "** Dependent and Independent Features **"
   ]
  },
  {
   "cell_type": "code",
   "execution_count": 29,
   "id": "fffd3d4c-7368-4b58-9c15-95e8ba1d8a32",
   "metadata": {},
   "outputs": [
    {
     "data": {
      "text/plain": [
       "['age', 'hypertension', 'heart_disease', 'avg_glucose_level', 'bmi']"
      ]
     },
     "execution_count": 29,
     "metadata": {},
     "output_type": "execute_result"
    }
   ],
   "source": [
    "input_cols = list(dataframe.columns)[0:-1]\n",
    "# input_cols has all columns except stroke\n",
    "df_inputs = dataframe[input_cols]\n",
    "\n",
    "target_col = 'stroke'\n",
    "df_target = dataframe[target_col]\n",
    "\n",
    "# to get numerical columns from the dataframe\n",
    "numerical_cols = dataframe[input_cols].select_dtypes(include = np.number).columns.to_list()\n",
    "numerical_cols"
   ]
  },
  {
   "cell_type": "code",
   "execution_count": 30,
   "id": "c73d7d6a-4af0-4542-9504-d0e5355e50be",
   "metadata": {},
   "outputs": [
    {
     "data": {
      "text/plain": [
       "['gender', 'ever_married', 'work_type', 'Residence_type', 'smoking_status']"
      ]
     },
     "execution_count": 30,
     "metadata": {},
     "output_type": "execute_result"
    }
   ],
   "source": [
    "# to get categorical columns from the dataframe\n",
    "categorical_cols = dataframe[input_cols].select_dtypes(include = 'object').columns.to_list()\n",
    "categorical_cols"
   ]
  },
  {
   "cell_type": "code",
   "execution_count": 31,
   "id": "b4f6f5d0-f2ac-41f7-886a-bc6e6ee3de0d",
   "metadata": {},
   "outputs": [
    {
     "data": {
      "text/plain": [
       "array(['formerly smoked', 'never smoked', 'smokes', 'Unknown'],\n",
       "      dtype=object)"
      ]
     },
     "execution_count": 31,
     "metadata": {},
     "output_type": "execute_result"
    }
   ],
   "source": [
    "dataframe['smoking_status'].unique() "
   ]
  },
  {
   "cell_type": "code",
   "execution_count": 32,
   "id": "d0b0c145-5c2b-4a89-97d1-b89f3522f977",
   "metadata": {},
   "outputs": [],
   "source": [
    "# similarly\n",
    "# dataframe['gender'].unique() "
   ]
  },
  {
   "cell_type": "code",
   "execution_count": 33,
   "id": "c68c709f-0553-4d6c-9db1-d4abdfe00475",
   "metadata": {},
   "outputs": [],
   "source": [
    "# similarly\n",
    "# dataframe['heart_disease'].unique()"
   ]
  },
  {
   "cell_type": "code",
   "execution_count": 34,
   "id": "adf38cbe-4d3d-475d-8914-2730c0060ddf",
   "metadata": {},
   "outputs": [],
   "source": [
    "ordinary_enc = OrdinalEncoder(categories=[['Unknown', 'never smoked', 'formerly smoked', 'smokes']])\n",
    "# OrdinalEncoder is used to convert categorical values into interger in a given specific order.\n",
    "\n",
    "onehot_enc = OneHotEncoder(handle_unknown='ignore')\n",
    "#OneHotEncoder converts categorical variables into a one-hot (binary) format — one column for each category.\n",
    "# If during transform you encounter a category that wasn’t seen during fit, it will simply fill that row with zeros instead of raising an error.\n"
   ]
  },
  {
   "cell_type": "code",
   "execution_count": 35,
   "id": "ab6efcfe-5521-47c2-8dfe-7a109d231a8c",
   "metadata": {},
   "outputs": [],
   "source": [
    "preprocesssor = ColumnTransformer([\n",
    "    ('Ordinal_Encoder', ordinary_enc, ['smoking_status']),\n",
    "    ('OneHot_Encoder', onehot_enc, categorical_cols)\n",
    "])\n",
    "#ColumnTransformer is a scikit-learn tool that allows you to apply different transformers (like encoders or scalers) to different columns of your dataset at the same time.\n",
    "# to keep everything organized"
   ]
  },
  {
   "cell_type": "code",
   "execution_count": 36,
   "id": "83914e2c-7bf7-44c9-9a7e-8e554bd7ce20",
   "metadata": {
    "scrolled": true
   },
   "outputs": [
    {
     "data": {
      "text/html": [
       "<style>#sk-container-id-1 {\n",
       "  /* Definition of color scheme common for light and dark mode */\n",
       "  --sklearn-color-text: black;\n",
       "  --sklearn-color-line: gray;\n",
       "  /* Definition of color scheme for unfitted estimators */\n",
       "  --sklearn-color-unfitted-level-0: #fff5e6;\n",
       "  --sklearn-color-unfitted-level-1: #f6e4d2;\n",
       "  --sklearn-color-unfitted-level-2: #ffe0b3;\n",
       "  --sklearn-color-unfitted-level-3: chocolate;\n",
       "  /* Definition of color scheme for fitted estimators */\n",
       "  --sklearn-color-fitted-level-0: #f0f8ff;\n",
       "  --sklearn-color-fitted-level-1: #d4ebff;\n",
       "  --sklearn-color-fitted-level-2: #b3dbfd;\n",
       "  --sklearn-color-fitted-level-3: cornflowerblue;\n",
       "\n",
       "  /* Specific color for light theme */\n",
       "  --sklearn-color-text-on-default-background: var(--sg-text-color, var(--theme-code-foreground, var(--jp-content-font-color1, black)));\n",
       "  --sklearn-color-background: var(--sg-background-color, var(--theme-background, var(--jp-layout-color0, white)));\n",
       "  --sklearn-color-border-box: var(--sg-text-color, var(--theme-code-foreground, var(--jp-content-font-color1, black)));\n",
       "  --sklearn-color-icon: #696969;\n",
       "\n",
       "  @media (prefers-color-scheme: dark) {\n",
       "    /* Redefinition of color scheme for dark theme */\n",
       "    --sklearn-color-text-on-default-background: var(--sg-text-color, var(--theme-code-foreground, var(--jp-content-font-color1, white)));\n",
       "    --sklearn-color-background: var(--sg-background-color, var(--theme-background, var(--jp-layout-color0, #111)));\n",
       "    --sklearn-color-border-box: var(--sg-text-color, var(--theme-code-foreground, var(--jp-content-font-color1, white)));\n",
       "    --sklearn-color-icon: #878787;\n",
       "  }\n",
       "}\n",
       "\n",
       "#sk-container-id-1 {\n",
       "  color: var(--sklearn-color-text);\n",
       "}\n",
       "\n",
       "#sk-container-id-1 pre {\n",
       "  padding: 0;\n",
       "}\n",
       "\n",
       "#sk-container-id-1 input.sk-hidden--visually {\n",
       "  border: 0;\n",
       "  clip: rect(1px 1px 1px 1px);\n",
       "  clip: rect(1px, 1px, 1px, 1px);\n",
       "  height: 1px;\n",
       "  margin: -1px;\n",
       "  overflow: hidden;\n",
       "  padding: 0;\n",
       "  position: absolute;\n",
       "  width: 1px;\n",
       "}\n",
       "\n",
       "#sk-container-id-1 div.sk-dashed-wrapped {\n",
       "  border: 1px dashed var(--sklearn-color-line);\n",
       "  margin: 0 0.4em 0.5em 0.4em;\n",
       "  box-sizing: border-box;\n",
       "  padding-bottom: 0.4em;\n",
       "  background-color: var(--sklearn-color-background);\n",
       "}\n",
       "\n",
       "#sk-container-id-1 div.sk-container {\n",
       "  /* jupyter's `normalize.less` sets `[hidden] { display: none; }`\n",
       "     but bootstrap.min.css set `[hidden] { display: none !important; }`\n",
       "     so we also need the `!important` here to be able to override the\n",
       "     default hidden behavior on the sphinx rendered scikit-learn.org.\n",
       "     See: https://github.com/scikit-learn/scikit-learn/issues/21755 */\n",
       "  display: inline-block !important;\n",
       "  position: relative;\n",
       "}\n",
       "\n",
       "#sk-container-id-1 div.sk-text-repr-fallback {\n",
       "  display: none;\n",
       "}\n",
       "\n",
       "div.sk-parallel-item,\n",
       "div.sk-serial,\n",
       "div.sk-item {\n",
       "  /* draw centered vertical line to link estimators */\n",
       "  background-image: linear-gradient(var(--sklearn-color-text-on-default-background), var(--sklearn-color-text-on-default-background));\n",
       "  background-size: 2px 100%;\n",
       "  background-repeat: no-repeat;\n",
       "  background-position: center center;\n",
       "}\n",
       "\n",
       "/* Parallel-specific style estimator block */\n",
       "\n",
       "#sk-container-id-1 div.sk-parallel-item::after {\n",
       "  content: \"\";\n",
       "  width: 100%;\n",
       "  border-bottom: 2px solid var(--sklearn-color-text-on-default-background);\n",
       "  flex-grow: 1;\n",
       "}\n",
       "\n",
       "#sk-container-id-1 div.sk-parallel {\n",
       "  display: flex;\n",
       "  align-items: stretch;\n",
       "  justify-content: center;\n",
       "  background-color: var(--sklearn-color-background);\n",
       "  position: relative;\n",
       "}\n",
       "\n",
       "#sk-container-id-1 div.sk-parallel-item {\n",
       "  display: flex;\n",
       "  flex-direction: column;\n",
       "}\n",
       "\n",
       "#sk-container-id-1 div.sk-parallel-item:first-child::after {\n",
       "  align-self: flex-end;\n",
       "  width: 50%;\n",
       "}\n",
       "\n",
       "#sk-container-id-1 div.sk-parallel-item:last-child::after {\n",
       "  align-self: flex-start;\n",
       "  width: 50%;\n",
       "}\n",
       "\n",
       "#sk-container-id-1 div.sk-parallel-item:only-child::after {\n",
       "  width: 0;\n",
       "}\n",
       "\n",
       "/* Serial-specific style estimator block */\n",
       "\n",
       "#sk-container-id-1 div.sk-serial {\n",
       "  display: flex;\n",
       "  flex-direction: column;\n",
       "  align-items: center;\n",
       "  background-color: var(--sklearn-color-background);\n",
       "  padding-right: 1em;\n",
       "  padding-left: 1em;\n",
       "}\n",
       "\n",
       "\n",
       "/* Toggleable style: style used for estimator/Pipeline/ColumnTransformer box that is\n",
       "clickable and can be expanded/collapsed.\n",
       "- Pipeline and ColumnTransformer use this feature and define the default style\n",
       "- Estimators will overwrite some part of the style using the `sk-estimator` class\n",
       "*/\n",
       "\n",
       "/* Pipeline and ColumnTransformer style (default) */\n",
       "\n",
       "#sk-container-id-1 div.sk-toggleable {\n",
       "  /* Default theme specific background. It is overwritten whether we have a\n",
       "  specific estimator or a Pipeline/ColumnTransformer */\n",
       "  background-color: var(--sklearn-color-background);\n",
       "}\n",
       "\n",
       "/* Toggleable label */\n",
       "#sk-container-id-1 label.sk-toggleable__label {\n",
       "  cursor: pointer;\n",
       "  display: block;\n",
       "  width: 100%;\n",
       "  margin-bottom: 0;\n",
       "  padding: 0.5em;\n",
       "  box-sizing: border-box;\n",
       "  text-align: center;\n",
       "}\n",
       "\n",
       "#sk-container-id-1 label.sk-toggleable__label-arrow:before {\n",
       "  /* Arrow on the left of the label */\n",
       "  content: \"▸\";\n",
       "  float: left;\n",
       "  margin-right: 0.25em;\n",
       "  color: var(--sklearn-color-icon);\n",
       "}\n",
       "\n",
       "#sk-container-id-1 label.sk-toggleable__label-arrow:hover:before {\n",
       "  color: var(--sklearn-color-text);\n",
       "}\n",
       "\n",
       "/* Toggleable content - dropdown */\n",
       "\n",
       "#sk-container-id-1 div.sk-toggleable__content {\n",
       "  max-height: 0;\n",
       "  max-width: 0;\n",
       "  overflow: hidden;\n",
       "  text-align: left;\n",
       "  /* unfitted */\n",
       "  background-color: var(--sklearn-color-unfitted-level-0);\n",
       "}\n",
       "\n",
       "#sk-container-id-1 div.sk-toggleable__content.fitted {\n",
       "  /* fitted */\n",
       "  background-color: var(--sklearn-color-fitted-level-0);\n",
       "}\n",
       "\n",
       "#sk-container-id-1 div.sk-toggleable__content pre {\n",
       "  margin: 0.2em;\n",
       "  border-radius: 0.25em;\n",
       "  color: var(--sklearn-color-text);\n",
       "  /* unfitted */\n",
       "  background-color: var(--sklearn-color-unfitted-level-0);\n",
       "}\n",
       "\n",
       "#sk-container-id-1 div.sk-toggleable__content.fitted pre {\n",
       "  /* unfitted */\n",
       "  background-color: var(--sklearn-color-fitted-level-0);\n",
       "}\n",
       "\n",
       "#sk-container-id-1 input.sk-toggleable__control:checked~div.sk-toggleable__content {\n",
       "  /* Expand drop-down */\n",
       "  max-height: 200px;\n",
       "  max-width: 100%;\n",
       "  overflow: auto;\n",
       "}\n",
       "\n",
       "#sk-container-id-1 input.sk-toggleable__control:checked~label.sk-toggleable__label-arrow:before {\n",
       "  content: \"▾\";\n",
       "}\n",
       "\n",
       "/* Pipeline/ColumnTransformer-specific style */\n",
       "\n",
       "#sk-container-id-1 div.sk-label input.sk-toggleable__control:checked~label.sk-toggleable__label {\n",
       "  color: var(--sklearn-color-text);\n",
       "  background-color: var(--sklearn-color-unfitted-level-2);\n",
       "}\n",
       "\n",
       "#sk-container-id-1 div.sk-label.fitted input.sk-toggleable__control:checked~label.sk-toggleable__label {\n",
       "  background-color: var(--sklearn-color-fitted-level-2);\n",
       "}\n",
       "\n",
       "/* Estimator-specific style */\n",
       "\n",
       "/* Colorize estimator box */\n",
       "#sk-container-id-1 div.sk-estimator input.sk-toggleable__control:checked~label.sk-toggleable__label {\n",
       "  /* unfitted */\n",
       "  background-color: var(--sklearn-color-unfitted-level-2);\n",
       "}\n",
       "\n",
       "#sk-container-id-1 div.sk-estimator.fitted input.sk-toggleable__control:checked~label.sk-toggleable__label {\n",
       "  /* fitted */\n",
       "  background-color: var(--sklearn-color-fitted-level-2);\n",
       "}\n",
       "\n",
       "#sk-container-id-1 div.sk-label label.sk-toggleable__label,\n",
       "#sk-container-id-1 div.sk-label label {\n",
       "  /* The background is the default theme color */\n",
       "  color: var(--sklearn-color-text-on-default-background);\n",
       "}\n",
       "\n",
       "/* On hover, darken the color of the background */\n",
       "#sk-container-id-1 div.sk-label:hover label.sk-toggleable__label {\n",
       "  color: var(--sklearn-color-text);\n",
       "  background-color: var(--sklearn-color-unfitted-level-2);\n",
       "}\n",
       "\n",
       "/* Label box, darken color on hover, fitted */\n",
       "#sk-container-id-1 div.sk-label.fitted:hover label.sk-toggleable__label.fitted {\n",
       "  color: var(--sklearn-color-text);\n",
       "  background-color: var(--sklearn-color-fitted-level-2);\n",
       "}\n",
       "\n",
       "/* Estimator label */\n",
       "\n",
       "#sk-container-id-1 div.sk-label label {\n",
       "  font-family: monospace;\n",
       "  font-weight: bold;\n",
       "  display: inline-block;\n",
       "  line-height: 1.2em;\n",
       "}\n",
       "\n",
       "#sk-container-id-1 div.sk-label-container {\n",
       "  text-align: center;\n",
       "}\n",
       "\n",
       "/* Estimator-specific */\n",
       "#sk-container-id-1 div.sk-estimator {\n",
       "  font-family: monospace;\n",
       "  border: 1px dotted var(--sklearn-color-border-box);\n",
       "  border-radius: 0.25em;\n",
       "  box-sizing: border-box;\n",
       "  margin-bottom: 0.5em;\n",
       "  /* unfitted */\n",
       "  background-color: var(--sklearn-color-unfitted-level-0);\n",
       "}\n",
       "\n",
       "#sk-container-id-1 div.sk-estimator.fitted {\n",
       "  /* fitted */\n",
       "  background-color: var(--sklearn-color-fitted-level-0);\n",
       "}\n",
       "\n",
       "/* on hover */\n",
       "#sk-container-id-1 div.sk-estimator:hover {\n",
       "  /* unfitted */\n",
       "  background-color: var(--sklearn-color-unfitted-level-2);\n",
       "}\n",
       "\n",
       "#sk-container-id-1 div.sk-estimator.fitted:hover {\n",
       "  /* fitted */\n",
       "  background-color: var(--sklearn-color-fitted-level-2);\n",
       "}\n",
       "\n",
       "/* Specification for estimator info (e.g. \"i\" and \"?\") */\n",
       "\n",
       "/* Common style for \"i\" and \"?\" */\n",
       "\n",
       ".sk-estimator-doc-link,\n",
       "a:link.sk-estimator-doc-link,\n",
       "a:visited.sk-estimator-doc-link {\n",
       "  float: right;\n",
       "  font-size: smaller;\n",
       "  line-height: 1em;\n",
       "  font-family: monospace;\n",
       "  background-color: var(--sklearn-color-background);\n",
       "  border-radius: 1em;\n",
       "  height: 1em;\n",
       "  width: 1em;\n",
       "  text-decoration: none !important;\n",
       "  margin-left: 1ex;\n",
       "  /* unfitted */\n",
       "  border: var(--sklearn-color-unfitted-level-1) 1pt solid;\n",
       "  color: var(--sklearn-color-unfitted-level-1);\n",
       "}\n",
       "\n",
       ".sk-estimator-doc-link.fitted,\n",
       "a:link.sk-estimator-doc-link.fitted,\n",
       "a:visited.sk-estimator-doc-link.fitted {\n",
       "  /* fitted */\n",
       "  border: var(--sklearn-color-fitted-level-1) 1pt solid;\n",
       "  color: var(--sklearn-color-fitted-level-1);\n",
       "}\n",
       "\n",
       "/* On hover */\n",
       "div.sk-estimator:hover .sk-estimator-doc-link:hover,\n",
       ".sk-estimator-doc-link:hover,\n",
       "div.sk-label-container:hover .sk-estimator-doc-link:hover,\n",
       ".sk-estimator-doc-link:hover {\n",
       "  /* unfitted */\n",
       "  background-color: var(--sklearn-color-unfitted-level-3);\n",
       "  color: var(--sklearn-color-background);\n",
       "  text-decoration: none;\n",
       "}\n",
       "\n",
       "div.sk-estimator.fitted:hover .sk-estimator-doc-link.fitted:hover,\n",
       ".sk-estimator-doc-link.fitted:hover,\n",
       "div.sk-label-container:hover .sk-estimator-doc-link.fitted:hover,\n",
       ".sk-estimator-doc-link.fitted:hover {\n",
       "  /* fitted */\n",
       "  background-color: var(--sklearn-color-fitted-level-3);\n",
       "  color: var(--sklearn-color-background);\n",
       "  text-decoration: none;\n",
       "}\n",
       "\n",
       "/* Span, style for the box shown on hovering the info icon */\n",
       ".sk-estimator-doc-link span {\n",
       "  display: none;\n",
       "  z-index: 9999;\n",
       "  position: relative;\n",
       "  font-weight: normal;\n",
       "  right: .2ex;\n",
       "  padding: .5ex;\n",
       "  margin: .5ex;\n",
       "  width: min-content;\n",
       "  min-width: 20ex;\n",
       "  max-width: 50ex;\n",
       "  color: var(--sklearn-color-text);\n",
       "  box-shadow: 2pt 2pt 4pt #999;\n",
       "  /* unfitted */\n",
       "  background: var(--sklearn-color-unfitted-level-0);\n",
       "  border: .5pt solid var(--sklearn-color-unfitted-level-3);\n",
       "}\n",
       "\n",
       ".sk-estimator-doc-link.fitted span {\n",
       "  /* fitted */\n",
       "  background: var(--sklearn-color-fitted-level-0);\n",
       "  border: var(--sklearn-color-fitted-level-3);\n",
       "}\n",
       "\n",
       ".sk-estimator-doc-link:hover span {\n",
       "  display: block;\n",
       "}\n",
       "\n",
       "/* \"?\"-specific style due to the `<a>` HTML tag */\n",
       "\n",
       "#sk-container-id-1 a.estimator_doc_link {\n",
       "  float: right;\n",
       "  font-size: 1rem;\n",
       "  line-height: 1em;\n",
       "  font-family: monospace;\n",
       "  background-color: var(--sklearn-color-background);\n",
       "  border-radius: 1rem;\n",
       "  height: 1rem;\n",
       "  width: 1rem;\n",
       "  text-decoration: none;\n",
       "  /* unfitted */\n",
       "  color: var(--sklearn-color-unfitted-level-1);\n",
       "  border: var(--sklearn-color-unfitted-level-1) 1pt solid;\n",
       "}\n",
       "\n",
       "#sk-container-id-1 a.estimator_doc_link.fitted {\n",
       "  /* fitted */\n",
       "  border: var(--sklearn-color-fitted-level-1) 1pt solid;\n",
       "  color: var(--sklearn-color-fitted-level-1);\n",
       "}\n",
       "\n",
       "/* On hover */\n",
       "#sk-container-id-1 a.estimator_doc_link:hover {\n",
       "  /* unfitted */\n",
       "  background-color: var(--sklearn-color-unfitted-level-3);\n",
       "  color: var(--sklearn-color-background);\n",
       "  text-decoration: none;\n",
       "}\n",
       "\n",
       "#sk-container-id-1 a.estimator_doc_link.fitted:hover {\n",
       "  /* fitted */\n",
       "  background-color: var(--sklearn-color-fitted-level-3);\n",
       "}\n",
       "</style><div id=\"sk-container-id-1\" class=\"sk-top-container\"><div class=\"sk-text-repr-fallback\"><pre>ColumnTransformer(transformers=[(&#x27;Ordinal_Encoder&#x27;,\n",
       "                                 OrdinalEncoder(categories=[[&#x27;Unknown&#x27;,\n",
       "                                                             &#x27;never smoked&#x27;,\n",
       "                                                             &#x27;formerly smoked&#x27;,\n",
       "                                                             &#x27;smokes&#x27;]]),\n",
       "                                 [&#x27;smoking_status&#x27;]),\n",
       "                                (&#x27;OneHot_Encoder&#x27;,\n",
       "                                 OneHotEncoder(handle_unknown=&#x27;ignore&#x27;),\n",
       "                                 [&#x27;gender&#x27;, &#x27;ever_married&#x27;, &#x27;work_type&#x27;,\n",
       "                                  &#x27;Residence_type&#x27;, &#x27;smoking_status&#x27;])])</pre><b>In a Jupyter environment, please rerun this cell to show the HTML representation or trust the notebook. <br />On GitHub, the HTML representation is unable to render, please try loading this page with nbviewer.org.</b></div><div class=\"sk-container\" hidden><div class=\"sk-item sk-dashed-wrapped\"><div class=\"sk-label-container\"><div class=\"sk-label fitted sk-toggleable\"><input class=\"sk-toggleable__control sk-hidden--visually\" id=\"sk-estimator-id-1\" type=\"checkbox\" ><label for=\"sk-estimator-id-1\" class=\"sk-toggleable__label fitted sk-toggleable__label-arrow fitted\">&nbsp;&nbsp;ColumnTransformer<a class=\"sk-estimator-doc-link fitted\" rel=\"noreferrer\" target=\"_blank\" href=\"https://scikit-learn.org/1.5/modules/generated/sklearn.compose.ColumnTransformer.html\">?<span>Documentation for ColumnTransformer</span></a><span class=\"sk-estimator-doc-link fitted\">i<span>Fitted</span></span></label><div class=\"sk-toggleable__content fitted\"><pre>ColumnTransformer(transformers=[(&#x27;Ordinal_Encoder&#x27;,\n",
       "                                 OrdinalEncoder(categories=[[&#x27;Unknown&#x27;,\n",
       "                                                             &#x27;never smoked&#x27;,\n",
       "                                                             &#x27;formerly smoked&#x27;,\n",
       "                                                             &#x27;smokes&#x27;]]),\n",
       "                                 [&#x27;smoking_status&#x27;]),\n",
       "                                (&#x27;OneHot_Encoder&#x27;,\n",
       "                                 OneHotEncoder(handle_unknown=&#x27;ignore&#x27;),\n",
       "                                 [&#x27;gender&#x27;, &#x27;ever_married&#x27;, &#x27;work_type&#x27;,\n",
       "                                  &#x27;Residence_type&#x27;, &#x27;smoking_status&#x27;])])</pre></div> </div></div><div class=\"sk-parallel\"><div class=\"sk-parallel-item\"><div class=\"sk-item\"><div class=\"sk-label-container\"><div class=\"sk-label fitted sk-toggleable\"><input class=\"sk-toggleable__control sk-hidden--visually\" id=\"sk-estimator-id-2\" type=\"checkbox\" ><label for=\"sk-estimator-id-2\" class=\"sk-toggleable__label fitted sk-toggleable__label-arrow fitted\">Ordinal_Encoder</label><div class=\"sk-toggleable__content fitted\"><pre>[&#x27;smoking_status&#x27;]</pre></div> </div></div><div class=\"sk-serial\"><div class=\"sk-item\"><div class=\"sk-estimator fitted sk-toggleable\"><input class=\"sk-toggleable__control sk-hidden--visually\" id=\"sk-estimator-id-3\" type=\"checkbox\" ><label for=\"sk-estimator-id-3\" class=\"sk-toggleable__label fitted sk-toggleable__label-arrow fitted\">&nbsp;OrdinalEncoder<a class=\"sk-estimator-doc-link fitted\" rel=\"noreferrer\" target=\"_blank\" href=\"https://scikit-learn.org/1.5/modules/generated/sklearn.preprocessing.OrdinalEncoder.html\">?<span>Documentation for OrdinalEncoder</span></a></label><div class=\"sk-toggleable__content fitted\"><pre>OrdinalEncoder(categories=[[&#x27;Unknown&#x27;, &#x27;never smoked&#x27;, &#x27;formerly smoked&#x27;,\n",
       "                            &#x27;smokes&#x27;]])</pre></div> </div></div></div></div></div><div class=\"sk-parallel-item\"><div class=\"sk-item\"><div class=\"sk-label-container\"><div class=\"sk-label fitted sk-toggleable\"><input class=\"sk-toggleable__control sk-hidden--visually\" id=\"sk-estimator-id-4\" type=\"checkbox\" ><label for=\"sk-estimator-id-4\" class=\"sk-toggleable__label fitted sk-toggleable__label-arrow fitted\">OneHot_Encoder</label><div class=\"sk-toggleable__content fitted\"><pre>[&#x27;gender&#x27;, &#x27;ever_married&#x27;, &#x27;work_type&#x27;, &#x27;Residence_type&#x27;, &#x27;smoking_status&#x27;]</pre></div> </div></div><div class=\"sk-serial\"><div class=\"sk-item\"><div class=\"sk-estimator fitted sk-toggleable\"><input class=\"sk-toggleable__control sk-hidden--visually\" id=\"sk-estimator-id-5\" type=\"checkbox\" ><label for=\"sk-estimator-id-5\" class=\"sk-toggleable__label fitted sk-toggleable__label-arrow fitted\">&nbsp;OneHotEncoder<a class=\"sk-estimator-doc-link fitted\" rel=\"noreferrer\" target=\"_blank\" href=\"https://scikit-learn.org/1.5/modules/generated/sklearn.preprocessing.OneHotEncoder.html\">?<span>Documentation for OneHotEncoder</span></a></label><div class=\"sk-toggleable__content fitted\"><pre>OneHotEncoder(handle_unknown=&#x27;ignore&#x27;)</pre></div> </div></div></div></div></div></div></div></div></div>"
      ],
      "text/plain": [
       "ColumnTransformer(transformers=[('Ordinal_Encoder',\n",
       "                                 OrdinalEncoder(categories=[['Unknown',\n",
       "                                                             'never smoked',\n",
       "                                                             'formerly smoked',\n",
       "                                                             'smokes']]),\n",
       "                                 ['smoking_status']),\n",
       "                                ('OneHot_Encoder',\n",
       "                                 OneHotEncoder(handle_unknown='ignore'),\n",
       "                                 ['gender', 'ever_married', 'work_type',\n",
       "                                  'Residence_type', 'smoking_status'])])"
      ]
     },
     "execution_count": 36,
     "metadata": {},
     "output_type": "execute_result"
    }
   ],
   "source": [
    "preprocesssor.fit(df_inputs)"
   ]
  },
  {
   "cell_type": "code",
   "execution_count": 37,
   "id": "4a2989f2-414d-44a1-9c49-0f3e93aedb7f",
   "metadata": {},
   "outputs": [],
   "source": [
    "encoded_cols = list(preprocesssor.get_feature_names_out())\n",
    "# This line retrieves the names of all the features (columns) after transformation by the preprocesssor"
   ]
  },
  {
   "cell_type": "code",
   "execution_count": 38,
   "id": "387db501-19b8-43cc-8ec6-479b7fc1e9e1",
   "metadata": {},
   "outputs": [
    {
     "data": {
      "text/plain": [
       "['Ordinal_Encoder__smoking_status',\n",
       " 'OneHot_Encoder__gender_Female',\n",
       " 'OneHot_Encoder__gender_Male',\n",
       " 'OneHot_Encoder__ever_married_No',\n",
       " 'OneHot_Encoder__ever_married_Yes',\n",
       " 'OneHot_Encoder__work_type_Govt_job',\n",
       " 'OneHot_Encoder__work_type_Private',\n",
       " 'OneHot_Encoder__work_type_Self-employed',\n",
       " 'OneHot_Encoder__work_type_children',\n",
       " 'OneHot_Encoder__Residence_type_Rural',\n",
       " 'OneHot_Encoder__Residence_type_Urban',\n",
       " 'OneHot_Encoder__smoking_status_Unknown',\n",
       " 'OneHot_Encoder__smoking_status_formerly smoked',\n",
       " 'OneHot_Encoder__smoking_status_never smoked',\n",
       " 'OneHot_Encoder__smoking_status_smokes']"
      ]
     },
     "execution_count": 38,
     "metadata": {},
     "output_type": "execute_result"
    }
   ],
   "source": [
    "encoded_cols"
   ]
  },
  {
   "cell_type": "code",
   "execution_count": 39,
   "id": "ccc401fc-912b-4c6b-ad69-55261f7cca66",
   "metadata": {},
   "outputs": [],
   "source": [
    "df_inputs[encoded_cols] = preprocesssor.transform(df_inputs)\n",
    "# This line applies the preprocessing transformations to the df_inputs DataFrame and stores the result in new columns named encoded_cols.\n"
   ]
  },
  {
   "cell_type": "raw",
   "id": "a815150d-fc5d-426c-ba1a-274cccc0abed",
   "metadata": {},
   "source": [
    "**  SPLIT DATASET INTO TRAINING AND TESTING SETS  **"
   ]
  },
  {
   "cell_type": "code",
   "execution_count": 64,
   "id": "f5f01ab1-1583-4040-b7d7-3e9c0276110e",
   "metadata": {},
   "outputs": [],
   "source": [
    "x = df_inputs[numerical_cols + encoded_cols]\n",
    "# not categorical_cols because we need to continue in numerical values\n",
    "\n",
    "y = dataframe[target_col]\n",
    "# y_train is the target column of the dataframe"
   ]
  },
  {
   "cell_type": "code",
   "execution_count": 41,
   "id": "654b6a2d-7d51-421c-ba70-73ad2b8b7df2",
   "metadata": {},
   "outputs": [
    {
     "data": {
      "text/html": [
       "<div>\n",
       "<style scoped>\n",
       "    .dataframe tbody tr th:only-of-type {\n",
       "        vertical-align: middle;\n",
       "    }\n",
       "\n",
       "    .dataframe tbody tr th {\n",
       "        vertical-align: top;\n",
       "    }\n",
       "\n",
       "    .dataframe thead th {\n",
       "        text-align: right;\n",
       "    }\n",
       "</style>\n",
       "<table border=\"1\" class=\"dataframe\">\n",
       "  <thead>\n",
       "    <tr style=\"text-align: right;\">\n",
       "      <th></th>\n",
       "      <th>age</th>\n",
       "      <th>hypertension</th>\n",
       "      <th>heart_disease</th>\n",
       "      <th>avg_glucose_level</th>\n",
       "      <th>bmi</th>\n",
       "      <th>Ordinal_Encoder__smoking_status</th>\n",
       "      <th>OneHot_Encoder__gender_Female</th>\n",
       "      <th>OneHot_Encoder__gender_Male</th>\n",
       "      <th>OneHot_Encoder__ever_married_No</th>\n",
       "      <th>OneHot_Encoder__ever_married_Yes</th>\n",
       "      <th>OneHot_Encoder__work_type_Govt_job</th>\n",
       "      <th>OneHot_Encoder__work_type_Private</th>\n",
       "      <th>OneHot_Encoder__work_type_Self-employed</th>\n",
       "      <th>OneHot_Encoder__work_type_children</th>\n",
       "      <th>OneHot_Encoder__Residence_type_Rural</th>\n",
       "      <th>OneHot_Encoder__Residence_type_Urban</th>\n",
       "      <th>OneHot_Encoder__smoking_status_Unknown</th>\n",
       "      <th>OneHot_Encoder__smoking_status_formerly smoked</th>\n",
       "      <th>OneHot_Encoder__smoking_status_never smoked</th>\n",
       "      <th>OneHot_Encoder__smoking_status_smokes</th>\n",
       "    </tr>\n",
       "  </thead>\n",
       "  <tbody>\n",
       "    <tr>\n",
       "      <th>0</th>\n",
       "      <td>67.0</td>\n",
       "      <td>0</td>\n",
       "      <td>1</td>\n",
       "      <td>228.69</td>\n",
       "      <td>36.6</td>\n",
       "      <td>2.0</td>\n",
       "      <td>0.0</td>\n",
       "      <td>1.0</td>\n",
       "      <td>0.0</td>\n",
       "      <td>1.0</td>\n",
       "      <td>0.0</td>\n",
       "      <td>1.0</td>\n",
       "      <td>0.0</td>\n",
       "      <td>0.0</td>\n",
       "      <td>0.0</td>\n",
       "      <td>1.0</td>\n",
       "      <td>0.0</td>\n",
       "      <td>1.0</td>\n",
       "      <td>0.0</td>\n",
       "      <td>0.0</td>\n",
       "    </tr>\n",
       "    <tr>\n",
       "      <th>1</th>\n",
       "      <td>80.0</td>\n",
       "      <td>0</td>\n",
       "      <td>1</td>\n",
       "      <td>105.92</td>\n",
       "      <td>32.5</td>\n",
       "      <td>1.0</td>\n",
       "      <td>0.0</td>\n",
       "      <td>1.0</td>\n",
       "      <td>0.0</td>\n",
       "      <td>1.0</td>\n",
       "      <td>0.0</td>\n",
       "      <td>1.0</td>\n",
       "      <td>0.0</td>\n",
       "      <td>0.0</td>\n",
       "      <td>1.0</td>\n",
       "      <td>0.0</td>\n",
       "      <td>0.0</td>\n",
       "      <td>0.0</td>\n",
       "      <td>1.0</td>\n",
       "      <td>0.0</td>\n",
       "    </tr>\n",
       "    <tr>\n",
       "      <th>2</th>\n",
       "      <td>49.0</td>\n",
       "      <td>0</td>\n",
       "      <td>0</td>\n",
       "      <td>171.23</td>\n",
       "      <td>34.4</td>\n",
       "      <td>3.0</td>\n",
       "      <td>1.0</td>\n",
       "      <td>0.0</td>\n",
       "      <td>0.0</td>\n",
       "      <td>1.0</td>\n",
       "      <td>0.0</td>\n",
       "      <td>1.0</td>\n",
       "      <td>0.0</td>\n",
       "      <td>0.0</td>\n",
       "      <td>0.0</td>\n",
       "      <td>1.0</td>\n",
       "      <td>0.0</td>\n",
       "      <td>0.0</td>\n",
       "      <td>0.0</td>\n",
       "      <td>1.0</td>\n",
       "    </tr>\n",
       "    <tr>\n",
       "      <th>3</th>\n",
       "      <td>79.0</td>\n",
       "      <td>1</td>\n",
       "      <td>0</td>\n",
       "      <td>174.12</td>\n",
       "      <td>24.0</td>\n",
       "      <td>1.0</td>\n",
       "      <td>1.0</td>\n",
       "      <td>0.0</td>\n",
       "      <td>0.0</td>\n",
       "      <td>1.0</td>\n",
       "      <td>0.0</td>\n",
       "      <td>0.0</td>\n",
       "      <td>1.0</td>\n",
       "      <td>0.0</td>\n",
       "      <td>1.0</td>\n",
       "      <td>0.0</td>\n",
       "      <td>0.0</td>\n",
       "      <td>0.0</td>\n",
       "      <td>1.0</td>\n",
       "      <td>0.0</td>\n",
       "    </tr>\n",
       "    <tr>\n",
       "      <th>4</th>\n",
       "      <td>81.0</td>\n",
       "      <td>0</td>\n",
       "      <td>0</td>\n",
       "      <td>186.21</td>\n",
       "      <td>29.0</td>\n",
       "      <td>2.0</td>\n",
       "      <td>0.0</td>\n",
       "      <td>1.0</td>\n",
       "      <td>0.0</td>\n",
       "      <td>1.0</td>\n",
       "      <td>0.0</td>\n",
       "      <td>1.0</td>\n",
       "      <td>0.0</td>\n",
       "      <td>0.0</td>\n",
       "      <td>0.0</td>\n",
       "      <td>1.0</td>\n",
       "      <td>0.0</td>\n",
       "      <td>1.0</td>\n",
       "      <td>0.0</td>\n",
       "      <td>0.0</td>\n",
       "    </tr>\n",
       "  </tbody>\n",
       "</table>\n",
       "</div>"
      ],
      "text/plain": [
       "    age  hypertension  heart_disease  avg_glucose_level   bmi  \\\n",
       "0  67.0             0              1             228.69  36.6   \n",
       "1  80.0             0              1             105.92  32.5   \n",
       "2  49.0             0              0             171.23  34.4   \n",
       "3  79.0             1              0             174.12  24.0   \n",
       "4  81.0             0              0             186.21  29.0   \n",
       "\n",
       "   Ordinal_Encoder__smoking_status  OneHot_Encoder__gender_Female  \\\n",
       "0                              2.0                            0.0   \n",
       "1                              1.0                            0.0   \n",
       "2                              3.0                            1.0   \n",
       "3                              1.0                            1.0   \n",
       "4                              2.0                            0.0   \n",
       "\n",
       "   OneHot_Encoder__gender_Male  OneHot_Encoder__ever_married_No  \\\n",
       "0                          1.0                              0.0   \n",
       "1                          1.0                              0.0   \n",
       "2                          0.0                              0.0   \n",
       "3                          0.0                              0.0   \n",
       "4                          1.0                              0.0   \n",
       "\n",
       "   OneHot_Encoder__ever_married_Yes  OneHot_Encoder__work_type_Govt_job  \\\n",
       "0                               1.0                                 0.0   \n",
       "1                               1.0                                 0.0   \n",
       "2                               1.0                                 0.0   \n",
       "3                               1.0                                 0.0   \n",
       "4                               1.0                                 0.0   \n",
       "\n",
       "   OneHot_Encoder__work_type_Private  OneHot_Encoder__work_type_Self-employed  \\\n",
       "0                                1.0                                      0.0   \n",
       "1                                1.0                                      0.0   \n",
       "2                                1.0                                      0.0   \n",
       "3                                0.0                                      1.0   \n",
       "4                                1.0                                      0.0   \n",
       "\n",
       "   OneHot_Encoder__work_type_children  OneHot_Encoder__Residence_type_Rural  \\\n",
       "0                                 0.0                                   0.0   \n",
       "1                                 0.0                                   1.0   \n",
       "2                                 0.0                                   0.0   \n",
       "3                                 0.0                                   1.0   \n",
       "4                                 0.0                                   0.0   \n",
       "\n",
       "   OneHot_Encoder__Residence_type_Urban  \\\n",
       "0                                   1.0   \n",
       "1                                   0.0   \n",
       "2                                   1.0   \n",
       "3                                   0.0   \n",
       "4                                   1.0   \n",
       "\n",
       "   OneHot_Encoder__smoking_status_Unknown  \\\n",
       "0                                     0.0   \n",
       "1                                     0.0   \n",
       "2                                     0.0   \n",
       "3                                     0.0   \n",
       "4                                     0.0   \n",
       "\n",
       "   OneHot_Encoder__smoking_status_formerly smoked  \\\n",
       "0                                             1.0   \n",
       "1                                             0.0   \n",
       "2                                             0.0   \n",
       "3                                             0.0   \n",
       "4                                             1.0   \n",
       "\n",
       "   OneHot_Encoder__smoking_status_never smoked  \\\n",
       "0                                          0.0   \n",
       "1                                          1.0   \n",
       "2                                          0.0   \n",
       "3                                          1.0   \n",
       "4                                          0.0   \n",
       "\n",
       "   OneHot_Encoder__smoking_status_smokes  \n",
       "0                                    0.0  \n",
       "1                                    0.0  \n",
       "2                                    1.0  \n",
       "3                                    0.0  \n",
       "4                                    0.0  "
      ]
     },
     "execution_count": 41,
     "metadata": {},
     "output_type": "execute_result"
    }
   ],
   "source": [
    "x.head()"
   ]
  },
  {
   "cell_type": "code",
   "execution_count": 42,
   "id": "9881fe0c-db28-4f1b-9a9f-134ebcbd0396",
   "metadata": {},
   "outputs": [
    {
     "data": {
      "text/plain": [
       "0    1\n",
       "1    1\n",
       "2    1\n",
       "3    1\n",
       "4    1\n",
       "Name: stroke, dtype: int64"
      ]
     },
     "execution_count": 42,
     "metadata": {},
     "output_type": "execute_result"
    }
   ],
   "source": [
    "y.head()"
   ]
  },
  {
   "cell_type": "code",
   "execution_count": 43,
   "id": "06b81b62-91d4-4d10-9cf1-ef09a4695fc4",
   "metadata": {},
   "outputs": [],
   "source": [
    "x_train, x_test, y_train, y_test = train_test_split(x, y, test_size = 0.2, random_state = 2)\n",
    "# 0.2 is 20% of the data\n",
    "# random_state --> randomization used, resulting in the same splits of the data."
   ]
  },
  {
   "cell_type": "code",
   "execution_count": 44,
   "id": "31c28d8f-36e3-4068-9712-5a91505b04db",
   "metadata": {},
   "outputs": [
    {
     "data": {
      "text/plain": [
       "((3984, 20), (997, 20), (3984,), (997,))"
      ]
     },
     "execution_count": 44,
     "metadata": {},
     "output_type": "execute_result"
    }
   ],
   "source": [
    "x_train.shape, x_test.shape, y_train.shape, y_test.shape"
   ]
  },
  {
   "cell_type": "code",
   "execution_count": 45,
   "id": "550c7eb6-8d01-41bf-bfc9-fb4a1616582b",
   "metadata": {},
   "outputs": [
    {
     "data": {
      "text/plain": [
       "True"
      ]
     },
     "execution_count": 45,
     "metadata": {},
     "output_type": "execute_result"
    }
   ],
   "source": [
    "x_train.shape[1] == x_test.shape[1]\n",
    "# checking whether the number of features (columns) in x_train and x_test is the same or not."
   ]
  },
  {
   "cell_type": "raw",
   "id": "6ea02ab1-f255-4af9-aebc-1df609ddf8af",
   "metadata": {},
   "source": [
    "**  Baseline Model  **"
   ]
  },
  {
   "cell_type": "code",
   "execution_count": 46,
   "id": "d6ba90b5-fba0-4f16-bd5f-d6b91a170a34",
   "metadata": {},
   "outputs": [],
   "source": [
    "models = [\n",
    "    (LogisticRegression(), 'LogisticRegression'),\n",
    "    (RandomForestClassifier(), 'RandomForestClassifier'),\n",
    "    (XGBClassifier(), 'XGBClassifier'),\n",
    "    (LGBMClassifier(verbose = 1), 'LightGBM')\n",
    "]\n",
    "# This code defines a list named models which contains four different machine learning model objects, each paired with its corresponding name as a string. \n",
    "# This is useful when you want to train and compare multiple models in a loop efficiently."
   ]
  },
  {
   "cell_type": "code",
   "execution_count": 47,
   "id": "24b84cb8-a576-4ba9-a978-f733d8226322",
   "metadata": {},
   "outputs": [],
   "source": [
    "def evalue_model(model, x_train, y_train, x_test, y_test):\n",
    "    y_pred = model.predict(x_test)\n",
    "    confusion_mat = confusion_matrix(y_test, y_pred)\n",
    "    accuracy = accuracy_score(y_test, y_pred)\n",
    "    precision = precision_score(y_test, y_pred)\n",
    "    recall = recall_score(y_test, y_pred)\n",
    "    f1 = f1_score(y_test, y_pred)\n",
    "    return confusion_mat, accuracy, precision, recall, f1"
   ]
  },
  {
   "cell_type": "code",
   "execution_count": 48,
   "id": "f81687d8-e80c-4985-98a6-9203e34174b3",
   "metadata": {},
   "outputs": [],
   "source": [
    "confusion_mats = {}\n",
    "def matrix_df(model, model_name):\n",
    "    confusion_mat, *df = evalue_model(model, x_train, y_train, x_test, y_test)\n",
    "    # above line gives one cconfusion matrix and rest pass into a new df.\n",
    "    \n",
    "    confusion_mats[model_name] = confusion_mat\n",
    "    df = [df]\n",
    "    model_matrix = pd.DataFrame(data = df, columns = ['Accuracy', 'Precision', 'Recall', 'F1'])\n",
    "    model_matrix.insert(0, 'Model', model_name)\n",
    "\n",
    "    return model_matrix"
   ]
  },
  {
   "cell_type": "code",
   "execution_count": 49,
   "id": "22f54a49-f659-4d3f-953b-121453e7a55b",
   "metadata": {},
   "outputs": [
    {
     "name": "stderr",
     "output_type": "stream",
     "text": [
      "/home/mehak/anaconda3/lib/python3.12/site-packages/sklearn/linear_model/_logistic.py:469: ConvergenceWarning:\n",
      "\n",
      "lbfgs failed to converge (status=1):\n",
      "STOP: TOTAL NO. of ITERATIONS REACHED LIMIT.\n",
      "\n",
      "Increase the number of iterations (max_iter) or scale the data as shown in:\n",
      "    https://scikit-learn.org/stable/modules/preprocessing.html\n",
      "Please also refer to the documentation for alternative solver options:\n",
      "    https://scikit-learn.org/stable/modules/linear_model.html#logistic-regression\n",
      "\n",
      "/home/mehak/anaconda3/lib/python3.12/site-packages/sklearn/metrics/_classification.py:1531: UndefinedMetricWarning:\n",
      "\n",
      "Precision is ill-defined and being set to 0.0 due to no predicted samples. Use `zero_division` parameter to control this behavior.\n",
      "\n"
     ]
    },
    {
     "name": "stdout",
     "output_type": "stream",
     "text": [
      "[LightGBM] [Warning] Found whitespace in feature_names, replace with underlines\n",
      "[LightGBM] [Info] Number of positive: 197, number of negative: 3787\n",
      "[LightGBM] [Info] Auto-choosing row-wise multi-threading, the overhead of testing was 0.001495 seconds.\n",
      "You can set `force_row_wise=true` to remove the overhead.\n",
      "And if memory is not enough, you can set `force_col_wise=true`.\n",
      "[LightGBM] [Info] Total Bins 644\n",
      "[LightGBM] [Info] Number of data points in the train set: 3984, number of used features: 20\n",
      "[LightGBM] [Info] [binary:BoostFromScore]: pavg=0.049448 -> initscore=-2.956126\n",
      "[LightGBM] [Info] Start training from score -2.956126\n"
     ]
    }
   ],
   "source": [
    "predictions = []\n",
    "for model, model_name in models:\n",
    "    model.fit(x_train, y_train)\n",
    "    model_matrix = matrix_df(model, model_name)\n",
    "    predictions.append(model_matrix)"
   ]
  },
  {
   "cell_type": "code",
   "execution_count": 50,
   "id": "c6896e81-e01c-4844-aae5-137386f791a5",
   "metadata": {},
   "outputs": [
    {
     "data": {
      "text/plain": [
       "[                Model  Accuracy  Precision  Recall   F1\n",
       " 0  LogisticRegression  0.948847        0.0     0.0  0.0,\n",
       "                     Model  Accuracy  Precision  Recall   F1\n",
       " 0  RandomForestClassifier  0.944835        0.0     0.0  0.0,\n",
       "            Model  Accuracy  Precision    Recall        F1\n",
       " 0  XGBClassifier  0.937813   0.176471  0.058824  0.088235,\n",
       "       Model  Accuracy  Precision    Recall        F1\n",
       " 0  LightGBM  0.942828        0.2  0.039216  0.065574]"
      ]
     },
     "execution_count": 50,
     "metadata": {},
     "output_type": "execute_result"
    }
   ],
   "source": [
    "predictions"
   ]
  },
  {
   "cell_type": "code",
   "execution_count": 51,
   "id": "4308eeab-105a-40d5-9227-e10df17aeb31",
   "metadata": {},
   "outputs": [],
   "source": [
    "oversample = SMOTE()\n",
    "# SMOTE --> Synthetic Minority Over-sampling Technique used to handle class imbalance in your training data.\n",
    "# SMOTE basically add some fake data to balance the dataset\n",
    "\n",
    "x_train_ns, y_train_ns = oversample.fit_resample(x_train, y_train)\n",
    "# Looks at the minority class in y_train and generates new synthetic feature vectors and adds them to x_train"
   ]
  },
  {
   "cell_type": "code",
   "execution_count": 52,
   "id": "c81c74fa-5aa1-4b73-92a2-343a2df26618",
   "metadata": {},
   "outputs": [
    {
     "data": {
      "text/plain": [
       "(7574, 20)"
      ]
     },
     "execution_count": 52,
     "metadata": {},
     "output_type": "execute_result"
    }
   ],
   "source": [
    "x_train_ns.shape"
   ]
  },
  {
   "cell_type": "code",
   "execution_count": 53,
   "id": "c4bcbab1-3041-4ed0-902f-0ccd31a6c321",
   "metadata": {},
   "outputs": [
    {
     "name": "stderr",
     "output_type": "stream",
     "text": [
      "/home/mehak/anaconda3/lib/python3.12/site-packages/sklearn/linear_model/_logistic.py:469: ConvergenceWarning:\n",
      "\n",
      "lbfgs failed to converge (status=1):\n",
      "STOP: TOTAL NO. of ITERATIONS REACHED LIMIT.\n",
      "\n",
      "Increase the number of iterations (max_iter) or scale the data as shown in:\n",
      "    https://scikit-learn.org/stable/modules/preprocessing.html\n",
      "Please also refer to the documentation for alternative solver options:\n",
      "    https://scikit-learn.org/stable/modules/linear_model.html#logistic-regression\n",
      "\n"
     ]
    }
   ],
   "source": [
    "lr_with_smote = LogisticRegression()\n",
    "lr_with_smote.fit(x_train_ns, y_train_ns)\n",
    "lr_with_smote_mat = matrix_df(lr_with_smote, 'Logistic with SMOTE')\n",
    "predictions.append(lr_with_smote_mat)"
   ]
  },
  {
   "cell_type": "code",
   "execution_count": 54,
   "id": "af48488a-3aa6-4a71-b7c7-1ac98b4a96a0",
   "metadata": {},
   "outputs": [
    {
     "name": "stdout",
     "output_type": "stream",
     "text": [
      "Confusion Matrix for LogisticRegression\n",
      "[[946   0]\n",
      " [ 51   0]]\n",
      "\n",
      "Confusion Matrix for RandomForestClassifier\n",
      "[[942   4]\n",
      " [ 51   0]]\n",
      "\n",
      "Confusion Matrix for XGBClassifier\n",
      "[[932  14]\n",
      " [ 48   3]]\n",
      "\n",
      "Confusion Matrix for LightGBM\n",
      "[[938   8]\n",
      " [ 49   2]]\n",
      "\n",
      "Confusion Matrix for Logistic with SMOTE\n",
      "[[687 259]\n",
      " [ 18  33]]\n",
      "\n"
     ]
    }
   ],
   "source": [
    "for model_name, confusion_mat in confusion_mats.items():\n",
    "    print(f'Confusion Matrix for {model_name}')\n",
    "    print(confusion_mat)\n",
    "    print()"
   ]
  },
  {
   "cell_type": "raw",
   "id": "b21d3fe5-7fa6-49df-a19b-bce5e9907e95",
   "metadata": {},
   "source": [
    "**  VOTING CLASSIFIER  **\n",
    "     Hard and soft"
   ]
  },
  {
   "cell_type": "code",
   "execution_count": 55,
   "id": "529c2112-46ad-4b57-a4d5-6f788c9cc08f",
   "metadata": {},
   "outputs": [],
   "source": [
    "estimator = []\n",
    "estimator.append(('LogisticRegression', LogisticRegression())),\n",
    "estimator.append(('RandomForestClassifier', RandomForestClassifier())),\n",
    "estimator.append(('XGBClassifier', XGBClassifier())),\n",
    "estimator.append(('LightGBM', LGBMClassifier(verbose = 1)))"
   ]
  },
  {
   "cell_type": "code",
   "execution_count": 56,
   "id": "8db9bce2-a74d-469d-97b5-607e2ffbb06d",
   "metadata": {},
   "outputs": [
    {
     "name": "stderr",
     "output_type": "stream",
     "text": [
      "/home/mehak/anaconda3/lib/python3.12/site-packages/sklearn/linear_model/_logistic.py:469: ConvergenceWarning:\n",
      "\n",
      "lbfgs failed to converge (status=1):\n",
      "STOP: TOTAL NO. of ITERATIONS REACHED LIMIT.\n",
      "\n",
      "Increase the number of iterations (max_iter) or scale the data as shown in:\n",
      "    https://scikit-learn.org/stable/modules/preprocessing.html\n",
      "Please also refer to the documentation for alternative solver options:\n",
      "    https://scikit-learn.org/stable/modules/linear_model.html#logistic-regression\n",
      "\n"
     ]
    },
    {
     "name": "stdout",
     "output_type": "stream",
     "text": [
      "[LightGBM] [Warning] Found whitespace in feature_names, replace with underlines\n",
      "[LightGBM] [Info] Number of positive: 197, number of negative: 3787\n",
      "[LightGBM] [Info] Auto-choosing row-wise multi-threading, the overhead of testing was 0.000124 seconds.\n",
      "You can set `force_row_wise=true` to remove the overhead.\n",
      "And if memory is not enough, you can set `force_col_wise=true`.\n",
      "[LightGBM] [Info] Total Bins 644\n",
      "[LightGBM] [Info] Number of data points in the train set: 3984, number of used features: 20\n",
      "[LightGBM] [Info] [binary:BoostFromScore]: pavg=0.049448 -> initscore=-2.956126\n",
      "[LightGBM] [Info] Start training from score -2.956126\n"
     ]
    }
   ],
   "source": [
    "VC_hard = VotingClassifier(estimators=estimator, voting='hard')\n",
    "# VotingClassifier combines multiple models to make a stronger model.\n",
    "\n",
    "VC_hard.fit(x_train, y_train)\n",
    "VC_hard_mat = matrix_df(VC_hard, 'VC_hard')\n",
    "predictions.append(VC_hard_mat)"
   ]
  },
  {
   "cell_type": "code",
   "execution_count": 57,
   "id": "ce7d5f2c-1df4-41cf-a975-481c7aedf02a",
   "metadata": {},
   "outputs": [
    {
     "data": {
      "text/html": [
       "<div>\n",
       "<style scoped>\n",
       "    .dataframe tbody tr th:only-of-type {\n",
       "        vertical-align: middle;\n",
       "    }\n",
       "\n",
       "    .dataframe tbody tr th {\n",
       "        vertical-align: top;\n",
       "    }\n",
       "\n",
       "    .dataframe thead th {\n",
       "        text-align: right;\n",
       "    }\n",
       "</style>\n",
       "<table border=\"1\" class=\"dataframe\">\n",
       "  <thead>\n",
       "    <tr style=\"text-align: right;\">\n",
       "      <th></th>\n",
       "      <th>Model</th>\n",
       "      <th>Accuracy</th>\n",
       "      <th>Precision</th>\n",
       "      <th>Recall</th>\n",
       "      <th>F1</th>\n",
       "    </tr>\n",
       "  </thead>\n",
       "  <tbody>\n",
       "    <tr>\n",
       "      <th>0</th>\n",
       "      <td>VC_hard</td>\n",
       "      <td>0.947844</td>\n",
       "      <td>0.0</td>\n",
       "      <td>0.0</td>\n",
       "      <td>0.0</td>\n",
       "    </tr>\n",
       "  </tbody>\n",
       "</table>\n",
       "</div>"
      ],
      "text/plain": [
       "     Model  Accuracy  Precision  Recall   F1\n",
       "0  VC_hard  0.947844        0.0     0.0  0.0"
      ]
     },
     "execution_count": 57,
     "metadata": {},
     "output_type": "execute_result"
    }
   ],
   "source": [
    "VC_hard_mat"
   ]
  },
  {
   "cell_type": "code",
   "execution_count": 58,
   "id": "8af0e1fa-a141-417f-97e6-a54183156638",
   "metadata": {},
   "outputs": [
    {
     "name": "stderr",
     "output_type": "stream",
     "text": [
      "/home/mehak/anaconda3/lib/python3.12/site-packages/sklearn/linear_model/_logistic.py:469: ConvergenceWarning:\n",
      "\n",
      "lbfgs failed to converge (status=1):\n",
      "STOP: TOTAL NO. of ITERATIONS REACHED LIMIT.\n",
      "\n",
      "Increase the number of iterations (max_iter) or scale the data as shown in:\n",
      "    https://scikit-learn.org/stable/modules/preprocessing.html\n",
      "Please also refer to the documentation for alternative solver options:\n",
      "    https://scikit-learn.org/stable/modules/linear_model.html#logistic-regression\n",
      "\n"
     ]
    },
    {
     "name": "stdout",
     "output_type": "stream",
     "text": [
      "[LightGBM] [Warning] Found whitespace in feature_names, replace with underlines\n",
      "[LightGBM] [Info] Number of positive: 197, number of negative: 3787\n",
      "[LightGBM] [Info] Auto-choosing row-wise multi-threading, the overhead of testing was 0.000094 seconds.\n",
      "You can set `force_row_wise=true` to remove the overhead.\n",
      "And if memory is not enough, you can set `force_col_wise=true`.\n",
      "[LightGBM] [Info] Total Bins 644\n",
      "[LightGBM] [Info] Number of data points in the train set: 3984, number of used features: 20\n",
      "[LightGBM] [Info] [binary:BoostFromScore]: pavg=0.049448 -> initscore=-2.956126\n",
      "[LightGBM] [Info] Start training from score -2.956126\n"
     ]
    }
   ],
   "source": [
    "VC_soft = VotingClassifier(estimators=estimator, voting='soft')\n",
    "VC_soft.fit(x_train, y_train)\n",
    "VC_soft_mat = matrix_df(VC_soft, 'VC_soft')\n",
    "predictions.append(VC_soft_mat)"
   ]
  },
  {
   "cell_type": "code",
   "execution_count": 59,
   "id": "723f27cb-a6c6-4dc0-871f-9e7c48113194",
   "metadata": {},
   "outputs": [
    {
     "data": {
      "text/html": [
       "<div>\n",
       "<style scoped>\n",
       "    .dataframe tbody tr th:only-of-type {\n",
       "        vertical-align: middle;\n",
       "    }\n",
       "\n",
       "    .dataframe tbody tr th {\n",
       "        vertical-align: top;\n",
       "    }\n",
       "\n",
       "    .dataframe thead th {\n",
       "        text-align: right;\n",
       "    }\n",
       "</style>\n",
       "<table border=\"1\" class=\"dataframe\">\n",
       "  <thead>\n",
       "    <tr style=\"text-align: right;\">\n",
       "      <th></th>\n",
       "      <th>Model</th>\n",
       "      <th>Accuracy</th>\n",
       "      <th>Precision</th>\n",
       "      <th>Recall</th>\n",
       "      <th>F1</th>\n",
       "    </tr>\n",
       "  </thead>\n",
       "  <tbody>\n",
       "    <tr>\n",
       "      <th>0</th>\n",
       "      <td>VC_soft</td>\n",
       "      <td>0.947844</td>\n",
       "      <td>0.0</td>\n",
       "      <td>0.0</td>\n",
       "      <td>0.0</td>\n",
       "    </tr>\n",
       "  </tbody>\n",
       "</table>\n",
       "</div>"
      ],
      "text/plain": [
       "     Model  Accuracy  Precision  Recall   F1\n",
       "0  VC_soft  0.947844        0.0     0.0  0.0"
      ]
     },
     "execution_count": 59,
     "metadata": {},
     "output_type": "execute_result"
    }
   ],
   "source": [
    "VC_soft_mat"
   ]
  },
  {
   "cell_type": "code",
   "execution_count": 60,
   "id": "a600eed3-9ccb-40bb-b00f-2a3e8d99c1e5",
   "metadata": {},
   "outputs": [
    {
     "data": {
      "text/html": [
       "<style type=\"text/css\">\n",
       "</style>\n",
       "<table id=\"T_ed008\">\n",
       "  <thead>\n",
       "    <tr>\n",
       "      <th id=\"T_ed008_level0_col0\" class=\"col_heading level0 col0\" >Model</th>\n",
       "      <th id=\"T_ed008_level0_col1\" class=\"col_heading level0 col1\" >Accuracy</th>\n",
       "      <th id=\"T_ed008_level0_col2\" class=\"col_heading level0 col2\" >Precision</th>\n",
       "      <th id=\"T_ed008_level0_col3\" class=\"col_heading level0 col3\" >Recall</th>\n",
       "      <th id=\"T_ed008_level0_col4\" class=\"col_heading level0 col4\" >F1</th>\n",
       "    </tr>\n",
       "  </thead>\n",
       "  <tbody>\n",
       "    <tr>\n",
       "      <td id=\"T_ed008_row0_col0\" class=\"data row0 col0\" >Logistic with SMOTE</td>\n",
       "      <td id=\"T_ed008_row0_col1\" class=\"data row0 col1\" >0.722166</td>\n",
       "      <td id=\"T_ed008_row0_col2\" class=\"data row0 col2\" >0.113014</td>\n",
       "      <td id=\"T_ed008_row0_col3\" class=\"data row0 col3\" >0.647059</td>\n",
       "      <td id=\"T_ed008_row0_col4\" class=\"data row0 col4\" >0.192420</td>\n",
       "    </tr>\n",
       "    <tr>\n",
       "      <td id=\"T_ed008_row1_col0\" class=\"data row1 col0\" >XGBClassifier</td>\n",
       "      <td id=\"T_ed008_row1_col1\" class=\"data row1 col1\" >0.937813</td>\n",
       "      <td id=\"T_ed008_row1_col2\" class=\"data row1 col2\" >0.176471</td>\n",
       "      <td id=\"T_ed008_row1_col3\" class=\"data row1 col3\" >0.058824</td>\n",
       "      <td id=\"T_ed008_row1_col4\" class=\"data row1 col4\" >0.088235</td>\n",
       "    </tr>\n",
       "    <tr>\n",
       "      <td id=\"T_ed008_row2_col0\" class=\"data row2 col0\" >LightGBM</td>\n",
       "      <td id=\"T_ed008_row2_col1\" class=\"data row2 col1\" >0.942828</td>\n",
       "      <td id=\"T_ed008_row2_col2\" class=\"data row2 col2\" >0.200000</td>\n",
       "      <td id=\"T_ed008_row2_col3\" class=\"data row2 col3\" >0.039216</td>\n",
       "      <td id=\"T_ed008_row2_col4\" class=\"data row2 col4\" >0.065574</td>\n",
       "    </tr>\n",
       "    <tr>\n",
       "      <td id=\"T_ed008_row3_col0\" class=\"data row3 col0\" >LogisticRegression</td>\n",
       "      <td id=\"T_ed008_row3_col1\" class=\"data row3 col1\" >0.948847</td>\n",
       "      <td id=\"T_ed008_row3_col2\" class=\"data row3 col2\" >0.000000</td>\n",
       "      <td id=\"T_ed008_row3_col3\" class=\"data row3 col3\" >0.000000</td>\n",
       "      <td id=\"T_ed008_row3_col4\" class=\"data row3 col4\" >0.000000</td>\n",
       "    </tr>\n",
       "    <tr>\n",
       "      <td id=\"T_ed008_row4_col0\" class=\"data row4 col0\" >RandomForestClassifier</td>\n",
       "      <td id=\"T_ed008_row4_col1\" class=\"data row4 col1\" >0.944835</td>\n",
       "      <td id=\"T_ed008_row4_col2\" class=\"data row4 col2\" >0.000000</td>\n",
       "      <td id=\"T_ed008_row4_col3\" class=\"data row4 col3\" >0.000000</td>\n",
       "      <td id=\"T_ed008_row4_col4\" class=\"data row4 col4\" >0.000000</td>\n",
       "    </tr>\n",
       "    <tr>\n",
       "      <td id=\"T_ed008_row5_col0\" class=\"data row5 col0\" >VC_hard</td>\n",
       "      <td id=\"T_ed008_row5_col1\" class=\"data row5 col1\" >0.947844</td>\n",
       "      <td id=\"T_ed008_row5_col2\" class=\"data row5 col2\" >0.000000</td>\n",
       "      <td id=\"T_ed008_row5_col3\" class=\"data row5 col3\" >0.000000</td>\n",
       "      <td id=\"T_ed008_row5_col4\" class=\"data row5 col4\" >0.000000</td>\n",
       "    </tr>\n",
       "    <tr>\n",
       "      <td id=\"T_ed008_row6_col0\" class=\"data row6 col0\" >VC_soft</td>\n",
       "      <td id=\"T_ed008_row6_col1\" class=\"data row6 col1\" >0.947844</td>\n",
       "      <td id=\"T_ed008_row6_col2\" class=\"data row6 col2\" >0.000000</td>\n",
       "      <td id=\"T_ed008_row6_col3\" class=\"data row6 col3\" >0.000000</td>\n",
       "      <td id=\"T_ed008_row6_col4\" class=\"data row6 col4\" >0.000000</td>\n",
       "    </tr>\n",
       "  </tbody>\n",
       "</table>\n"
      ],
      "text/plain": [
       "<pandas.io.formats.style.Styler at 0x705907f2d190>"
      ]
     },
     "execution_count": 60,
     "metadata": {},
     "output_type": "execute_result"
    }
   ],
   "source": [
    "prediction_base = pd.concat(predictions, ignore_index = True, sort = False)\n",
    "prediction_base.sort_values(by =  ['Recall'], ascending=False).style.hide(axis = 'index')"
   ]
  },
  {
   "cell_type": "code",
   "execution_count": 61,
   "id": "ef3ddde1-9eb6-4d31-b857-161eea9d8bc7",
   "metadata": {},
   "outputs": [],
   "source": [
    "models_to_plot = [\n",
    "    'LogisticRegression',\n",
    "    'RandomForestClassifier',\n",
    "    'XGBClassifier',\n",
    "    'Logistic with SMOTE'\n",
    "]"
   ]
  },
  {
   "cell_type": "code",
   "execution_count": 62,
   "id": "8fa47a0a-a73e-4355-bcef-06473a516d50",
   "metadata": {
    "scrolled": true
   },
   "outputs": [
    {
     "data": {
      "image/png": "[encoded data removed]",
      "text/plain": [
       "<Figure size 900x700 with 8 Axes>"
      ]
     },
     "metadata": {},
     "output_type": "display_data"
    },
    {
     "data": {
      "image/png": "[encoded data removed]",
      "text/plain": [
       "<Figure size 900x700 with 8 Axes>"
      ]
     },
     "metadata": {},
     "output_type": "display_data"
    }
   ],
   "source": [
    "fig, axes = plt.subplots(nrows = 2, ncols = 2, figsize = (9,7))\n",
    "for ax, model_name in zip(axes.ravel(), models_to_plot):\n",
    "    confusion_mat = confusion_mats[model_name]\n",
    "    sns.heatmap(confusion_mat, annot = True, fmt = 'd', cmap = 'Blues', ax = ax)\n",
    "    ax.set_title(f'{model_name}')\n",
    "    ax.set_xlabel('Predicted')\n",
    "    ax.set_ylabel('Actual')\n",
    "\n",
    "plt.tight_layout()\n",
    "plt.subplots_adjust(left = 0, right = 0.9, top = 0.9, bottom = 0)\n",
    "plt.show(0)"
   ]
  },
  {
   "cell_type": "code",
   "execution_count": 63,
   "id": "60c640ec-d22f-4a9b-804d-9b27fe8f7b46",
   "metadata": {},
   "outputs": [],
   "source": [
    "# AUC & ROC Curve Homework\n",
    "from sklearn.metrics import roc_auc_score, roc_curve, auc\n",
    "# Precession - recall curve\n",
    "from sklearn.metrics import PredictionErrorDisplay"
   ]
  },
  {
   "cell_type": "raw",
   "id": "b9103b05-c46b-4a0e-990b-37d8100f76d7",
   "metadata": {},
   "source": [
    "**  RETRAIN AND SAVE MODEL  **"
   ]
  },
  {
   "cell_type": "code",
   "execution_count": 65,
   "id": "7a56478f-c157-4056-abc7-af2567fa71dc",
   "metadata": {},
   "outputs": [],
   "source": [
    "x = df_inputs[numerical_cols + encoded_cols]\n",
    "# not categorical_cols because we need to continue in numerical values\n",
    "\n",
    "y = dataframe[target_col]\n",
    "# y_train is the target column of the dataframe"
   ]
  },
  {
   "cell_type": "code",
   "execution_count": 67,
   "id": "fc2bf16f-42c7-4ff7-9b6b-1df17e55d64f",
   "metadata": {},
   "outputs": [],
   "source": [
    "preds = lr_with_smote.predict(x_test)"
   ]
  },
  {
   "cell_type": "code",
   "execution_count": 71,
   "id": "66d9c238-0cf8-40b4-83d9-ef325146d63f",
   "metadata": {},
   "outputs": [],
   "source": [
    "# preds"
   ]
  },
  {
   "cell_type": "code",
   "execution_count": 75,
   "id": "9224cd16-4f44-43d1-9dd0-28937b190303",
   "metadata": {},
   "outputs": [
    {
     "data": {
      "text/html": [
       "<div>\n",
       "<style scoped>\n",
       "    .dataframe tbody tr th:only-of-type {\n",
       "        vertical-align: middle;\n",
       "    }\n",
       "\n",
       "    .dataframe tbody tr th {\n",
       "        vertical-align: top;\n",
       "    }\n",
       "\n",
       "    .dataframe thead th {\n",
       "        text-align: right;\n",
       "    }\n",
       "</style>\n",
       "<table border=\"1\" class=\"dataframe\">\n",
       "  <thead>\n",
       "    <tr style=\"text-align: right;\">\n",
       "      <th></th>\n",
       "      <th>0</th>\n",
       "    </tr>\n",
       "  </thead>\n",
       "  <tbody>\n",
       "    <tr>\n",
       "      <th>0</th>\n",
       "      <td>0</td>\n",
       "    </tr>\n",
       "    <tr>\n",
       "      <th>1</th>\n",
       "      <td>0</td>\n",
       "    </tr>\n",
       "    <tr>\n",
       "      <th>2</th>\n",
       "      <td>0</td>\n",
       "    </tr>\n",
       "    <tr>\n",
       "      <th>3</th>\n",
       "      <td>1</td>\n",
       "    </tr>\n",
       "    <tr>\n",
       "      <th>4</th>\n",
       "      <td>0</td>\n",
       "    </tr>\n",
       "  </tbody>\n",
       "</table>\n",
       "</div>"
      ],
      "text/plain": [
       "   0\n",
       "0  0\n",
       "1  0\n",
       "2  0\n",
       "3  1\n",
       "4  0"
      ]
     },
     "execution_count": 75,
     "metadata": {},
     "output_type": "execute_result"
    }
   ],
   "source": [
    "sub_df = preds\n",
    "pd.DataFrame(sub_df).to_csv(\"submission.csv\", index = None)\n",
    "sub_df = pd.read_csv(\"submission.csv\")\n",
    "sub_df.head()\n",
    "# converted the predicted values into a dataframe"
   ]
  },
  {
   "cell_type": "raw",
   "id": "327b5385-f6e6-420a-b029-3c1be0cdfc2e",
   "metadata": {},
   "source": [
    "**  MAKE PREDICTION ON A SINGLE INPUT  **"
   ]
  },
  {
   "cell_type": "code",
   "execution_count": 76,
   "id": "6facc394-d292-44b0-b6ea-d653a698e2c6",
   "metadata": {},
   "outputs": [],
   "source": [
    "sub_df['stroke'] = preds"
   ]
  },
  {
   "cell_type": "code",
   "execution_count": 77,
   "id": "50f7d6d8-8b6b-4d92-8aaf-e15a8975d462",
   "metadata": {},
   "outputs": [
    {
     "data": {
      "text/html": [
       "<div>\n",
       "<style scoped>\n",
       "    .dataframe tbody tr th:only-of-type {\n",
       "        vertical-align: middle;\n",
       "    }\n",
       "\n",
       "    .dataframe tbody tr th {\n",
       "        vertical-align: top;\n",
       "    }\n",
       "\n",
       "    .dataframe thead th {\n",
       "        text-align: right;\n",
       "    }\n",
       "</style>\n",
       "<table border=\"1\" class=\"dataframe\">\n",
       "  <thead>\n",
       "    <tr style=\"text-align: right;\">\n",
       "      <th></th>\n",
       "      <th>0</th>\n",
       "      <th>stroke</th>\n",
       "    </tr>\n",
       "  </thead>\n",
       "  <tbody>\n",
       "    <tr>\n",
       "      <th>0</th>\n",
       "      <td>0</td>\n",
       "      <td>0</td>\n",
       "    </tr>\n",
       "    <tr>\n",
       "      <th>1</th>\n",
       "      <td>0</td>\n",
       "      <td>0</td>\n",
       "    </tr>\n",
       "    <tr>\n",
       "      <th>2</th>\n",
       "      <td>0</td>\n",
       "      <td>0</td>\n",
       "    </tr>\n",
       "    <tr>\n",
       "      <th>3</th>\n",
       "      <td>1</td>\n",
       "      <td>1</td>\n",
       "    </tr>\n",
       "    <tr>\n",
       "      <th>4</th>\n",
       "      <td>0</td>\n",
       "      <td>0</td>\n",
       "    </tr>\n",
       "    <tr>\n",
       "      <th>...</th>\n",
       "      <td>...</td>\n",
       "      <td>...</td>\n",
       "    </tr>\n",
       "    <tr>\n",
       "      <th>992</th>\n",
       "      <td>0</td>\n",
       "      <td>0</td>\n",
       "    </tr>\n",
       "    <tr>\n",
       "      <th>993</th>\n",
       "      <td>1</td>\n",
       "      <td>1</td>\n",
       "    </tr>\n",
       "    <tr>\n",
       "      <th>994</th>\n",
       "      <td>0</td>\n",
       "      <td>0</td>\n",
       "    </tr>\n",
       "    <tr>\n",
       "      <th>995</th>\n",
       "      <td>1</td>\n",
       "      <td>1</td>\n",
       "    </tr>\n",
       "    <tr>\n",
       "      <th>996</th>\n",
       "      <td>0</td>\n",
       "      <td>0</td>\n",
       "    </tr>\n",
       "  </tbody>\n",
       "</table>\n",
       "<p>997 rows × 2 columns</p>\n",
       "</div>"
      ],
      "text/plain": [
       "     0  stroke\n",
       "0    0       0\n",
       "1    0       0\n",
       "2    0       0\n",
       "3    1       1\n",
       "4    0       0\n",
       "..  ..     ...\n",
       "992  0       0\n",
       "993  1       1\n",
       "994  0       0\n",
       "995  1       1\n",
       "996  0       0\n",
       "\n",
       "[997 rows x 2 columns]"
      ]
     },
     "execution_count": 77,
     "metadata": {},
     "output_type": "execute_result"
    }
   ],
   "source": [
    "sub_df"
   ]
  },
  {
   "cell_type": "code",
   "execution_count": 79,
   "id": "424666bc-f043-4d74-a441-f2051506d49d",
   "metadata": {},
   "outputs": [
    {
     "data": {
      "text/plain": [
       "Index(['gender', 'age', 'hypertension', 'heart_disease', 'ever_married',\n",
       "       'work_type', 'Residence_type', 'avg_glucose_level', 'bmi',\n",
       "       'smoking_status', 'stroke'],\n",
       "      dtype='object')"
      ]
     },
     "execution_count": 79,
     "metadata": {},
     "output_type": "execute_result"
    }
   ],
   "source": [
    "dataframe.columns"
   ]
  },
  {
   "cell_type": "code",
   "execution_count": 80,
   "id": "eaecc5e3-b25f-46a5-88f2-133a2d220a35",
   "metadata": {},
   "outputs": [],
   "source": [
    "single_inputs = {\n",
    "    'gender' : 'Male',\n",
    "    'age' : 33,\n",
    "    'hypertension' : 0,\n",
    "    'heart_disease' : 0,\n",
    "    'ever_married' : 'Yes',\n",
    "    'work_type' : 'Private',\n",
    "    'Residence_type' : 'Urban',\n",
    "    'avg_glucose_level' : 79.53,\n",
    "    'bmi' : 31.10,\n",
    "    'smoking_status' : 'formerly smoked'\n",
    "}"
   ]
  },
  {
   "cell_type": "code",
   "execution_count": 83,
   "id": "ac67bf03-954a-4369-85d3-22916f5a8730",
   "metadata": {},
   "outputs": [
    {
     "data": {
      "text/plain": [
       "array([0])"
      ]
     },
     "execution_count": 83,
     "metadata": {},
     "output_type": "execute_result"
    }
   ],
   "source": [
    "input_df = pd.DataFrame([single_inputs])\n",
    "input_df[encoded_cols] = preprocesssor.transform(input_df)\n",
    "X = input_df[numerical_cols + encoded_cols]\n",
    "lr_with_smote.predict(X)"
   ]
  },
  {
   "cell_type": "raw",
   "id": "ddb5dc19-5b8b-4867-9793-b055ddeeed97",
   "metadata": {},
   "source": [
    "**  Saving the Model  **"
   ]
  },
  {
   "cell_type": "code",
   "execution_count": 87,
   "id": "e1c06971-e3fa-42e2-b166-2923dcd48fc4",
   "metadata": {},
   "outputs": [
    {
     "data": {
      "text/plain": [
       "['model.joblib']"
      ]
     },
     "execution_count": 87,
     "metadata": {},
     "output_type": "execute_result"
    }
   ],
   "source": [
    "model = {\n",
    "    'encoded_cols' : encoded_cols,\n",
    "    'numeric_cols' : numerical_cols,\n",
    "    'preprocessor' : preprocesssor,\n",
    "    'model' : lr_with_smote\n",
    "}\n",
    "\n",
    "joblib.dump(model, 'model.joblib')\n",
    "# This saves the entire dictionary (model) to a file named model.joblib using joblib."
   ]
  },
  {
   "cell_type": "code",
   "execution_count": null,
   "id": "f80dc696-5822-4205-81d1-9c3c0b354d7a",
   "metadata": {},
   "outputs": [],
   "source": []
  }
 ],
 "metadata": {
  "kernelspec": {
   "display_name": "Python 3 (ipykernel)",
   "language": "python",
   "name": "python3"
  },
  "language_info": {
   "codemirror_mode": {
    "name": "ipython",
    "version": 3
   },
   "file_extension": ".py",
   "mimetype": "text/x-python",
   "name": "python",
   "nbconvert_exporter": "python",
   "pygments_lexer": "ipython3",
   "version": "3.12.7"
  }
 },
 "nbformat": 4,
 "nbformat_minor": 5
}
